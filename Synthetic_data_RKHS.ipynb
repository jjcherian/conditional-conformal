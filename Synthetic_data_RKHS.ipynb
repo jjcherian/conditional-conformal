{
 "cells": [
  {
   "cell_type": "code",
   "execution_count": 1,
   "metadata": {
    "scrolled": true
   },
   "outputs": [],
   "source": [
    "%load_ext autoreload\n",
    "%autoreload 2"
   ]
  },
  {
   "cell_type": "code",
   "execution_count": 2,
   "metadata": {},
   "outputs": [],
   "source": [
    "import pandas as pd\n",
    "import numpy as np\n",
    "import matplotlib.pyplot as plt\n",
    "import seaborn as sns\n",
    "import cvxpy as cvx\n",
    "\n",
    "from sklearn.linear_model import LinearRegression\n",
    "from sklearn.model_selection import train_test_split\n",
    "from sklearn.metrics.pairwise import rbf_kernel, pairwise_kernels"
   ]
  },
  {
   "cell_type": "code",
   "execution_count": 3,
   "metadata": {},
   "outputs": [],
   "source": [
    "from rkhs import compute_shifted_coverage, compute_adaptive_threshold\n"
   ]
  },
  {
   "cell_type": "code",
   "execution_count": 4,
   "metadata": {},
   "outputs": [],
   "source": [
    "def generate_cqr_data():\n",
    "    # number of training examples\n",
    "    n_train = 2000\n",
    "    # number of test examples (to evaluate average coverage and length)\n",
    "    n_test = 5000\n",
    "\n",
    "    def f(x):\n",
    "        ''' Construct data (1D example)\n",
    "        '''\n",
    "        ax = 0*x\n",
    "        for i in range(len(x)):\n",
    "            ax[i] = np.random.poisson(np.sin(x[i])**2+0.1) + 0.03*x[i]*np.random.randn(1)\n",
    "            ax[i] += 25*(np.random.uniform(0,1,1)<0.01)*np.random.randn(1)\n",
    "        return ax.astype(np.float32)\n",
    "\n",
    "    # training features\n",
    "    x_train = np.random.uniform(0, 5.0, size=n_train).astype(np.float32)\n",
    "\n",
    "    # test features\n",
    "    x_test = np.random.uniform(0, 5.0, size=n_test).astype(np.float32)\n",
    "\n",
    "    # generate labels\n",
    "    y_train = f(x_train)\n",
    "    y_test = f(x_test)\n",
    "\n",
    "    # reshape the features\n",
    "    x_train = np.reshape(x_train,(n_train,1))\n",
    "    x_test = np.reshape(x_test,(n_test,1))\n",
    "    \n",
    "    calibration_set_size = 1000\n",
    "    train_set_size = len(y_train) - calibration_set_size\n",
    "    x_train_final = x_train[ : train_set_size]\n",
    "    x_calib = x_train[train_set_size : ]\n",
    "    y_train_final = y_train[ : train_set_size]\n",
    "    y_calib = y_train[train_set_size : ]\n",
    "    \n",
    "    return x_train_final, y_train_final, x_calib, y_calib, x_test, y_test\n"
   ]
  },
  {
   "cell_type": "code",
   "execution_count": 6,
   "metadata": {
    "scrolled": true
   },
   "outputs": [
    {
     "name": "stderr",
     "output_type": "stream",
     "text": [
      "100%|█████████████████████████████████████████| 100/100 [01:00<00:00,  1.65it/s]\n"
     ]
    },
    {
     "name": "stdout",
     "output_type": "stream",
     "text": [
      "Trial 0: 0.9456800691719593, 0.9620845434064964\n"
     ]
    },
    {
     "name": "stderr",
     "output_type": "stream",
     "text": [
      "100%|█████████████████████████████████████████| 100/100 [01:36<00:00,  1.04it/s]\n"
     ]
    },
    {
     "name": "stdout",
     "output_type": "stream",
     "text": [
      "Trial 1: 0.9483124312240642, 0.9622465128625827\n"
     ]
    },
    {
     "name": "stderr",
     "output_type": "stream",
     "text": [
      "100%|█████████████████████████████████████████| 100/100 [01:03<00:00,  1.57it/s]\n"
     ]
    },
    {
     "name": "stdout",
     "output_type": "stream",
     "text": [
      "Trial 2: 0.9360883225794476, 0.8942345282101078\n"
     ]
    },
    {
     "name": "stderr",
     "output_type": "stream",
     "text": [
      "100%|█████████████████████████████████████████| 100/100 [01:28<00:00,  1.13it/s]\n"
     ]
    },
    {
     "name": "stdout",
     "output_type": "stream",
     "text": [
      "Trial 3: 0.9372616962011079, 0.9302727464315248\n"
     ]
    },
    {
     "name": "stderr",
     "output_type": "stream",
     "text": [
      "100%|█████████████████████████████████████████| 100/100 [01:29<00:00,  1.12it/s]\n"
     ]
    },
    {
     "name": "stdout",
     "output_type": "stream",
     "text": [
      "Trial 4: 0.9525388932044103, 0.9582241012799396\n"
     ]
    },
    {
     "name": "stderr",
     "output_type": "stream",
     "text": [
      "100%|█████████████████████████████████████████| 100/100 [01:33<00:00,  1.08it/s]\n"
     ]
    },
    {
     "name": "stdout",
     "output_type": "stream",
     "text": [
      "Trial 5: 0.940986416324877, 0.975183084540417\n"
     ]
    },
    {
     "name": "stderr",
     "output_type": "stream",
     "text": [
      "100%|█████████████████████████████████████████| 100/100 [01:27<00:00,  1.14it/s]\n"
     ]
    },
    {
     "name": "stdout",
     "output_type": "stream",
     "text": [
      "Trial 6: 0.9460548568952443, 0.9873159200909768\n"
     ]
    },
    {
     "name": "stderr",
     "output_type": "stream",
     "text": [
      "100%|█████████████████████████████████████████| 100/100 [01:16<00:00,  1.31it/s]\n"
     ]
    },
    {
     "name": "stdout",
     "output_type": "stream",
     "text": [
      "Trial 7: 0.9466914980947585, 0.9559941122700362\n"
     ]
    },
    {
     "name": "stderr",
     "output_type": "stream",
     "text": [
      "100%|█████████████████████████████████████████| 100/100 [01:36<00:00,  1.04it/s]\n"
     ]
    },
    {
     "name": "stdout",
     "output_type": "stream",
     "text": [
      "Trial 8: 0.9546358346346328, 0.9612283555900746\n"
     ]
    },
    {
     "name": "stderr",
     "output_type": "stream",
     "text": [
      "100%|█████████████████████████████████████████| 100/100 [01:17<00:00,  1.29it/s]\n"
     ]
    },
    {
     "name": "stdout",
     "output_type": "stream",
     "text": [
      "Trial 9: 0.9576935589857054, 0.9772028277069883\n"
     ]
    },
    {
     "name": "stderr",
     "output_type": "stream",
     "text": [
      "100%|█████████████████████████████████████████| 100/100 [01:11<00:00,  1.39it/s]\n"
     ]
    },
    {
     "name": "stdout",
     "output_type": "stream",
     "text": [
      "Trial 0: 0.8368169253710371, 0.7724189224621459\n"
     ]
    },
    {
     "name": "stderr",
     "output_type": "stream",
     "text": [
      "100%|█████████████████████████████████████████| 100/100 [01:32<00:00,  1.08it/s]\n"
     ]
    },
    {
     "name": "stdout",
     "output_type": "stream",
     "text": [
      "Trial 1: 0.826072272892606, 0.8281717339610204\n"
     ]
    },
    {
     "name": "stderr",
     "output_type": "stream",
     "text": [
      "100%|█████████████████████████████████████████| 100/100 [01:31<00:00,  1.10it/s]\n"
     ]
    },
    {
     "name": "stdout",
     "output_type": "stream",
     "text": [
      "Trial 2: 0.8041503434265012, 0.6940187719253221\n"
     ]
    },
    {
     "name": "stderr",
     "output_type": "stream",
     "text": [
      "100%|█████████████████████████████████████████| 100/100 [01:35<00:00,  1.04it/s]\n"
     ]
    },
    {
     "name": "stdout",
     "output_type": "stream",
     "text": [
      "Trial 3: 0.80657954782144, 0.7840112479095961\n"
     ]
    },
    {
     "name": "stderr",
     "output_type": "stream",
     "text": [
      "100%|█████████████████████████████████████████| 100/100 [01:11<00:00,  1.39it/s]\n"
     ]
    },
    {
     "name": "stdout",
     "output_type": "stream",
     "text": [
      "Trial 4: 0.8104967825350118, 0.9247198307530882\n"
     ]
    },
    {
     "name": "stderr",
     "output_type": "stream",
     "text": [
      "100%|█████████████████████████████████████████| 100/100 [01:39<00:00,  1.01it/s]\n"
     ]
    },
    {
     "name": "stdout",
     "output_type": "stream",
     "text": [
      "Trial 5: 0.8592166272107574, 0.8331123042812705\n"
     ]
    },
    {
     "name": "stderr",
     "output_type": "stream",
     "text": [
      "100%|█████████████████████████████████████████| 100/100 [01:26<00:00,  1.15it/s]\n"
     ]
    },
    {
     "name": "stdout",
     "output_type": "stream",
     "text": [
      "Trial 6: 0.8035192061669433, 0.8751381685534336\n"
     ]
    },
    {
     "name": "stderr",
     "output_type": "stream",
     "text": [
      "100%|█████████████████████████████████████████| 100/100 [01:29<00:00,  1.12it/s]\n"
     ]
    },
    {
     "name": "stdout",
     "output_type": "stream",
     "text": [
      "Trial 7: 0.8342255210554183, 0.965185065995384\n"
     ]
    },
    {
     "name": "stderr",
     "output_type": "stream",
     "text": [
      "100%|█████████████████████████████████████████| 100/100 [01:41<00:00,  1.02s/it]\n"
     ]
    },
    {
     "name": "stdout",
     "output_type": "stream",
     "text": [
      "Trial 8: 0.828067068045719, 0.9104931901630164\n"
     ]
    },
    {
     "name": "stderr",
     "output_type": "stream",
     "text": [
      "100%|█████████████████████████████████████████| 100/100 [01:56<00:00,  1.17s/it]"
     ]
    },
    {
     "name": "stdout",
     "output_type": "stream",
     "text": [
      "Trial 9: 0.8264373277766368, 0.8855805576138608\n"
     ]
    },
    {
     "name": "stderr",
     "output_type": "stream",
     "text": [
      "\n"
     ]
    }
   ],
   "source": [
    "x_train_final, y_train_final, x_calib, y_calib, x_test, y_test = generate_cqr_data()\n",
    "\n",
    "reg = LinearRegression().fit(x_train_final, y_train_final)\n",
    "scores_calib = np.abs(reg.predict(x_calib) - y_calib)\n",
    "scores_test = np.abs(reg.predict(x_test) - y_test)\n",
    "\n",
    "def run_synthetic_trial(reg, alpha, radius, gamma, n_test, shift_loc):\n",
    "    _, _, x_calib, y_calib, x_test, y_test = generate_cqr_data()\n",
    "\n",
    "    scores_calib = np.abs(reg.predict(x_calib) - y_calib)\n",
    "    scores_test = np.abs(reg.predict(x_test) - y_test)\n",
    "        \n",
    "    est_coverage, weighted_coverage, thresholds = compute_shifted_coverage(\n",
    "        scores_test[0:n_test],\n",
    "        scores_calib,\n",
    "        x_calib,\n",
    "        x_test[0:n_test,],\n",
    "        shift_loc,\n",
    "        kernel=\"rbf\",\n",
    "        alpha=alpha,\n",
    "        radius=radius,\n",
    "        gamma=gamma\n",
    "    )\n",
    "    \n",
    "    return est_coverage, weighted_coverage\n",
    "\n",
    "n_trials = 10\n",
    "alpha = 0.9\n",
    "radius = 1\n",
    "n_test = 100\n",
    "gamma = 2\n",
    "shift_locs = [3.5, 4.5] #[0.5, 1.4, 2.5, 3.5, 4.5]\n",
    "\n",
    "df = pd.DataFrame()\n",
    "\n",
    "for shift_loc in shift_locs:\n",
    "    est_coverages = []\n",
    "    emp_coverages = []\n",
    "    for i in range(n_trials):\n",
    "        try:\n",
    "            est_cov, emp_cov = run_synthetic_trial(reg, alpha, radius, gamma, n_test, shift_loc)\n",
    "            est_coverages.append(est_cov)\n",
    "            emp_coverages.append(emp_cov)\n",
    "            print(f\"Trial {i}: {est_cov}, {emp_cov}\")\n",
    "        except SolverError:\n",
    "            continue\n",
    "    a_df = pd.DataFrame({'empirical coverage' : emp_coverages, 'estimated coverage': est_coverages})\n",
    "    a_df['shift_loc'] = shift_loc\n",
    "    df = pd.concat([df, a_df], axis=0)\n",
    "    "
   ]
  },
  {
   "cell_type": "code",
   "execution_count": 9,
   "metadata": {},
   "outputs": [
    {
     "data": {
      "image/png": "[encoded data removed]",
      "text/plain": [
       "<Figure size 432x288 with 1 Axes>"
      ]
     },
     "metadata": {
      "needs_background": "light"
     },
     "output_type": "display_data"
    }
   ],
   "source": [
    "import seaborn as sns\n",
    "import pandas as pd\n",
    "\n",
    "melted_df = pd.melt(df, id_vars=['shift_loc'], value_vars=['empirical coverage', 'estimated coverage'])\n",
    "melted_df = melted_df.rename(columns={\"shift_loc\": \"Shift Location\", \"value\": \"Coverage\"})\n",
    "\n",
    "fig = sns.barplot(\n",
    "    melted_df, \n",
    "    x='Shift Location', \n",
    "    y='Coverage',\n",
    "    hue='variable',\n",
    "    palette=sns.color_palette(\"Set2\")\n",
    ")\n",
    "fig.axhline(alpha, color='red')\n",
    "plt.legend(bbox_to_anchor=(1.02, 1), loc='upper left', borderaxespad=0)\n",
    "plt.tight_layout()\n",
    "\n",
    "fig.get_figure().savefig('synthetic_rkhs_coverage.png')\n"
   ]
  },
  {
   "cell_type": "code",
   "execution_count": 195,
   "metadata": {
    "scrolled": false
   },
   "outputs": [
    {
     "name": "stderr",
     "output_type": "stream",
     "text": [
      "100%|███████████████████████████████████████████████████████████████████| 100/100 [01:31<00:00,  1.09it/s]"
     ]
    },
    {
     "name": "stdout",
     "output_type": "stream",
     "text": [
      "0.8998966949157221 0.8391796279611702\n"
     ]
    },
    {
     "name": "stderr",
     "output_type": "stream",
     "text": [
      "\n"
     ]
    },
    {
     "data": {
      "text/plain": [
       "(-2.0, 6.0)"
      ]
     },
     "execution_count": 195,
     "metadata": {},
     "output_type": "execute_result"
    },
    {
     "data": {
      "image/png": "[encoded data removed]",
      "text/plain": [
       "<Figure size 640x480 with 1 Axes>"
      ]
     },
     "metadata": {},
     "output_type": "display_data"
    }
   ],
   "source": [
    "alpha = 0.9\n",
    "radius = 1000**2\n",
    "n_test = 200\n",
    "gamma = 2\n",
    "\n",
    "n_test = 100\n",
    "\n",
    "idx = np.argmin(np.abs(x_calib - 1.4))\n",
    "g_weights = np.zeros((len(x_calib) + 1,))\n",
    "g_weights[idx] = 1\n",
    "\n",
    "K_fhat = rbf_kernel(\n",
    "    X=x_test[0:n_test,:],\n",
    "    Y=np.concatenate([x_calib, x_test[0,:].reshape(1,-1)], axis=0),\n",
    "    gamma=gamma\n",
    ")\n",
    "    \n",
    "est_coverage, weighted_coverage, thresholds = compute_shifted_coverage(\n",
    "    scores_test,\n",
    "    scores_calib,\n",
    "    x_calib,\n",
    "    x_test[0:n_test,:],\n",
    "    g_weights,\n",
    "    kernel=\"rbf\",\n",
    "    alpha=alpha,\n",
    "    radius=radius,\n",
    "    gamma=gamma\n",
    ")\n",
    "print(est_coverage, weighted_coverage)\n",
    "\n",
    "\n",
    "plt.figure()\n",
    "plt.plot(x_test[0:n_test], y_test[0:n_test], '.')\n",
    "plt.plot(x_test[0:n_test], reg.predict(x_test[0:n_test]) + thresholds, '.', label='upper')\n",
    "plt.plot(x_test[0:n_test], reg.predict(x_test[0:n_test]) - thresholds, '.', label='lower')\n",
    "plt.plot(x_test[0:n_test], K_fhat @ g_weights, '.', label='shift')\n",
    "plt.ylim(-2, 6)\n"
   ]
  },
  {
   "cell_type": "code",
   "execution_count": 18,
   "metadata": {},
   "outputs": [
    {
     "data": {
      "image/png": "[encoded data removed]",
      "text/plain": [
       "<Figure size 432x288 with 1 Axes>"
      ]
     },
     "metadata": {
      "needs_background": "light"
     },
     "output_type": "display_data"
    }
   ],
   "source": [
    "#from rkhs import setup_cvx_primal, setup_cvx_dual\n",
    "from rkhs import setup_cvx_dual\n",
    "alpha = 0.9\n",
    "radius = 200*1000**2\n",
    "gamma = 0.5\n",
    "\n",
    "#prob_1 = setup_cvx_problem(\n",
    "#    x_calib,\n",
    "#    scores_calib,\n",
    "#    kernel=\"rbf\",\n",
    "#    gamma=gamma,\n",
    "#    alpha=alpha,\n",
    "#    radius=radius\n",
    "#)\n",
    "\n",
    "K = rbf_kernel(\n",
    "    X=np.concatenate([x_calib, x_test[0,:].reshape(1,-1)], axis=0),\n",
    "    gamma=gamma\n",
    ")\n",
    "\n",
    "prob_2 = setup_cvx_dual(\n",
    "    x_calib,\n",
    "    scores_calib,\n",
    "    kernel=\"rbf\",\n",
    "    gamma=gamma,\n",
    "    alpha=alpha,\n",
    ")\n",
    "f_hat = compute_adaptive_threshold(\n",
    "    prob_2,\n",
    "    scores_calib,\n",
    "    x_calib,\n",
    "    x_test[0,:],\n",
    "    kernel=\"rbf\",\n",
    "    gamma=gamma,\n",
    "    radius = radius\n",
    ")\n",
    "\n",
    "thresholds = f_hat['c0'] + K @ f_hat['weights']\n",
    "\n",
    "x_plot = np.concatenate([x_calib, x_test[0,:].reshape(1,-1)], axis=0)\n",
    "plt.plot(x_calib, y_calib, '.')\n",
    "plt.plot(x_plot, reg.predict(x_plot) + thresholds, '.')\n",
    "#plt.plot(x_plot, reg.predict(x_plot) - thresholds, '.')\n",
    "plt.ylim(-2, 6)\n",
    "plt.savefig('cqrData.png')"
   ]
  },
  {
   "cell_type": "code",
   "execution_count": 17,
   "metadata": {},
   "outputs": [
    {
     "data": {
      "text/plain": [
       "<Figure size 432x288 with 0 Axes>"
      ]
     },
     "metadata": {},
     "output_type": "display_data"
    }
   ],
   "source": [
    "plt.savefig('cqrData.png')"
   ]
  },
  {
   "cell_type": "code",
   "execution_count": null,
   "metadata": {},
   "outputs": [],
   "source": []
  }
 ],
 "metadata": {
  "kernelspec": {
   "display_name": "Python 3 (ipykernel)",
   "language": "python",
   "name": "python3"
  },
  "language_info": {
   "codemirror_mode": {
    "name": "ipython",
    "version": 3
   },
   "file_extension": ".py",
   "mimetype": "text/x-python",
   "name": "python",
   "nbconvert_exporter": "python",
   "pygments_lexer": "ipython3",
   "version": "3.9.5"
  },
  "vscode": {
   "interpreter": {
    "hash": "7164cd5ffdf91c39be802aa3caabfecd78dd3a4e2fe798bd17e4759218e2c30b"
   }
  }
 },
 "nbformat": 4,
 "nbformat_minor": 5
}
