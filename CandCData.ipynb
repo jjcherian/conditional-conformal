{
 "cells": [
  {
   "cell_type": "code",
   "execution_count": 6,
   "metadata": {},
   "outputs": [
    {
     "name": "stdout",
     "output_type": "stream",
     "text": [
      "The autoreload extension is already loaded. To reload it, use:\n",
      "  %reload_ext autoreload\n"
     ]
    }
   ],
   "source": [
    "import pandas as pd \n",
    "import numpy as np\n",
    "import matplotlib.pyplot as plt\n",
    "import math\n",
    "import cvxpy as cvx\n",
    "import mosek\n",
    "\n",
    "from sklearn.linear_model import LinearRegression\n",
    "from sklearn.model_selection import train_test_split\n",
    "from sklearn.metrics.pairwise import pairwise_kernels\n",
    "from random import sample\n",
    "\n",
    "\n",
    "%load_ext autoreload\n",
    "%autoreload 2"
   ]
  },
  {
   "cell_type": "code",
   "execution_count": 7,
   "metadata": {},
   "outputs": [],
   "source": [
    "from group import compute_group_coverages, compute_split_coverages \n",
    "from group import compute_group_qr_coverages, compute_cqr_coverages\n",
    "from Synthetic_data_generation import get_groups, generate_group_synthetic_data, generate_cqr_data\n",
    "from rkhs import compute_shifted_coverage, compute_qr_coverages\n",
    "from rkhs import compute_adaptive_threshold, setup_full_cvx_dual, runCV\n"
   ]
  },
  {
   "cell_type": "code",
   "execution_count": 8,
   "metadata": {},
   "outputs": [
    {
     "name": "stdout",
     "output_type": "stream",
     "text": [
      "(1994, 100)\n"
     ]
    },
    {
     "data": {
      "text/html": [
       "<div>\n",
       "<style scoped>\n",
       "    .dataframe tbody tr th:only-of-type {\n",
       "        vertical-align: middle;\n",
       "    }\n",
       "\n",
       "    .dataframe tbody tr th {\n",
       "        vertical-align: top;\n",
       "    }\n",
       "\n",
       "    .dataframe thead th {\n",
       "        text-align: right;\n",
       "    }\n",
       "</style>\n",
       "<table border=\"1\" class=\"dataframe\">\n",
       "  <thead>\n",
       "    <tr style=\"text-align: right;\">\n",
       "      <th></th>\n",
       "      <th>population</th>\n",
       "      <th>householdsize</th>\n",
       "      <th>racepctblack</th>\n",
       "      <th>racePctWhite</th>\n",
       "      <th>racePctAsian</th>\n",
       "      <th>racePctHisp</th>\n",
       "      <th>agePct12t21</th>\n",
       "      <th>agePct12t29</th>\n",
       "      <th>agePct16t24</th>\n",
       "      <th>agePct65up</th>\n",
       "      <th>...</th>\n",
       "      <th>PctForeignBorn</th>\n",
       "      <th>PctBornSameState</th>\n",
       "      <th>PctSameHouse85</th>\n",
       "      <th>PctSameCity85</th>\n",
       "      <th>PctSameState85</th>\n",
       "      <th>LandArea</th>\n",
       "      <th>PopDens</th>\n",
       "      <th>PctUsePubTrans</th>\n",
       "      <th>LemasPctOfficDrugUn</th>\n",
       "      <th>ViolentCrimesPerPop</th>\n",
       "    </tr>\n",
       "  </thead>\n",
       "  <tbody>\n",
       "    <tr>\n",
       "      <th>0</th>\n",
       "      <td>0.19</td>\n",
       "      <td>0.33</td>\n",
       "      <td>0.02</td>\n",
       "      <td>0.90</td>\n",
       "      <td>0.12</td>\n",
       "      <td>0.17</td>\n",
       "      <td>0.34</td>\n",
       "      <td>0.47</td>\n",
       "      <td>0.29</td>\n",
       "      <td>0.32</td>\n",
       "      <td>...</td>\n",
       "      <td>0.12</td>\n",
       "      <td>0.42</td>\n",
       "      <td>0.50</td>\n",
       "      <td>0.51</td>\n",
       "      <td>0.64</td>\n",
       "      <td>0.12</td>\n",
       "      <td>0.26</td>\n",
       "      <td>0.20</td>\n",
       "      <td>0.32</td>\n",
       "      <td>0.20</td>\n",
       "    </tr>\n",
       "    <tr>\n",
       "      <th>1</th>\n",
       "      <td>0.00</td>\n",
       "      <td>0.16</td>\n",
       "      <td>0.12</td>\n",
       "      <td>0.74</td>\n",
       "      <td>0.45</td>\n",
       "      <td>0.07</td>\n",
       "      <td>0.26</td>\n",
       "      <td>0.59</td>\n",
       "      <td>0.35</td>\n",
       "      <td>0.27</td>\n",
       "      <td>...</td>\n",
       "      <td>0.21</td>\n",
       "      <td>0.50</td>\n",
       "      <td>0.34</td>\n",
       "      <td>0.60</td>\n",
       "      <td>0.52</td>\n",
       "      <td>0.02</td>\n",
       "      <td>0.12</td>\n",
       "      <td>0.45</td>\n",
       "      <td>0.00</td>\n",
       "      <td>0.67</td>\n",
       "    </tr>\n",
       "    <tr>\n",
       "      <th>2</th>\n",
       "      <td>0.00</td>\n",
       "      <td>0.42</td>\n",
       "      <td>0.49</td>\n",
       "      <td>0.56</td>\n",
       "      <td>0.17</td>\n",
       "      <td>0.04</td>\n",
       "      <td>0.39</td>\n",
       "      <td>0.47</td>\n",
       "      <td>0.28</td>\n",
       "      <td>0.32</td>\n",
       "      <td>...</td>\n",
       "      <td>0.14</td>\n",
       "      <td>0.49</td>\n",
       "      <td>0.54</td>\n",
       "      <td>0.67</td>\n",
       "      <td>0.56</td>\n",
       "      <td>0.01</td>\n",
       "      <td>0.21</td>\n",
       "      <td>0.02</td>\n",
       "      <td>0.00</td>\n",
       "      <td>0.43</td>\n",
       "    </tr>\n",
       "    <tr>\n",
       "      <th>3</th>\n",
       "      <td>0.04</td>\n",
       "      <td>0.77</td>\n",
       "      <td>1.00</td>\n",
       "      <td>0.08</td>\n",
       "      <td>0.12</td>\n",
       "      <td>0.10</td>\n",
       "      <td>0.51</td>\n",
       "      <td>0.50</td>\n",
       "      <td>0.34</td>\n",
       "      <td>0.21</td>\n",
       "      <td>...</td>\n",
       "      <td>0.19</td>\n",
       "      <td>0.30</td>\n",
       "      <td>0.73</td>\n",
       "      <td>0.64</td>\n",
       "      <td>0.65</td>\n",
       "      <td>0.02</td>\n",
       "      <td>0.39</td>\n",
       "      <td>0.28</td>\n",
       "      <td>0.00</td>\n",
       "      <td>0.12</td>\n",
       "    </tr>\n",
       "    <tr>\n",
       "      <th>4</th>\n",
       "      <td>0.01</td>\n",
       "      <td>0.55</td>\n",
       "      <td>0.02</td>\n",
       "      <td>0.95</td>\n",
       "      <td>0.09</td>\n",
       "      <td>0.05</td>\n",
       "      <td>0.38</td>\n",
       "      <td>0.38</td>\n",
       "      <td>0.23</td>\n",
       "      <td>0.36</td>\n",
       "      <td>...</td>\n",
       "      <td>0.11</td>\n",
       "      <td>0.72</td>\n",
       "      <td>0.64</td>\n",
       "      <td>0.61</td>\n",
       "      <td>0.53</td>\n",
       "      <td>0.04</td>\n",
       "      <td>0.09</td>\n",
       "      <td>0.02</td>\n",
       "      <td>0.00</td>\n",
       "      <td>0.03</td>\n",
       "    </tr>\n",
       "  </tbody>\n",
       "</table>\n",
       "<p>5 rows × 100 columns</p>\n",
       "</div>"
      ],
      "text/plain": [
       "   population  householdsize  racepctblack  racePctWhite  racePctAsian  \\\n",
       "0        0.19           0.33          0.02          0.90          0.12   \n",
       "1        0.00           0.16          0.12          0.74          0.45   \n",
       "2        0.00           0.42          0.49          0.56          0.17   \n",
       "3        0.04           0.77          1.00          0.08          0.12   \n",
       "4        0.01           0.55          0.02          0.95          0.09   \n",
       "\n",
       "   racePctHisp  agePct12t21  agePct12t29  agePct16t24  agePct65up  ...  \\\n",
       "0         0.17         0.34         0.47         0.29        0.32  ...   \n",
       "1         0.07         0.26         0.59         0.35        0.27  ...   \n",
       "2         0.04         0.39         0.47         0.28        0.32  ...   \n",
       "3         0.10         0.51         0.50         0.34        0.21  ...   \n",
       "4         0.05         0.38         0.38         0.23        0.36  ...   \n",
       "\n",
       "   PctForeignBorn  PctBornSameState  PctSameHouse85  PctSameCity85  \\\n",
       "0            0.12              0.42            0.50           0.51   \n",
       "1            0.21              0.50            0.34           0.60   \n",
       "2            0.14              0.49            0.54           0.67   \n",
       "3            0.19              0.30            0.73           0.64   \n",
       "4            0.11              0.72            0.64           0.61   \n",
       "\n",
       "   PctSameState85  LandArea  PopDens  PctUsePubTrans  LemasPctOfficDrugUn  \\\n",
       "0            0.64      0.12     0.26            0.20                 0.32   \n",
       "1            0.52      0.02     0.12            0.45                 0.00   \n",
       "2            0.56      0.01     0.21            0.02                 0.00   \n",
       "3            0.65      0.02     0.39            0.28                 0.00   \n",
       "4            0.53      0.04     0.09            0.02                 0.00   \n",
       "\n",
       "   ViolentCrimesPerPop  \n",
       "0                 0.20  \n",
       "1                 0.67  \n",
       "2                 0.43  \n",
       "3                 0.12  \n",
       "4                 0.03  \n",
       "\n",
       "[5 rows x 100 columns]"
      ]
     },
     "execution_count": 8,
     "metadata": {},
     "output_type": "execute_result"
    }
   ],
   "source": [
    "attrib = pd.read_csv('data/CandCData/attributes.csv', delim_whitespace = True)\n",
    "data = pd.read_csv('data/CandCData/communities.data', names = attrib['attributes'])\n",
    "data = data.drop(columns=['state','county',\n",
    "                          'community','communityname',\n",
    "                          'fold'], axis=1)\n",
    "data = data.replace('?', np.nan)\n",
    "data = data.dropna(axis=1)\n",
    "print(data.shape)\n",
    "data.head()"
   ]
  },
  {
   "cell_type": "code",
   "execution_count": 9,
   "metadata": {},
   "outputs": [
    {
     "name": "stdout",
     "output_type": "stream",
     "text": [
      "(1994, 11)\n"
     ]
    },
    {
     "data": {
      "text/html": [
       "<div>\n",
       "<style scoped>\n",
       "    .dataframe tbody tr th:only-of-type {\n",
       "        vertical-align: middle;\n",
       "    }\n",
       "\n",
       "    .dataframe tbody tr th {\n",
       "        vertical-align: top;\n",
       "    }\n",
       "\n",
       "    .dataframe thead th {\n",
       "        text-align: right;\n",
       "    }\n",
       "</style>\n",
       "<table border=\"1\" class=\"dataframe\">\n",
       "  <thead>\n",
       "    <tr style=\"text-align: right;\">\n",
       "      <th></th>\n",
       "      <th>population</th>\n",
       "      <th>racepctblack</th>\n",
       "      <th>racePctWhite</th>\n",
       "      <th>racePctAsian</th>\n",
       "      <th>racePctHisp</th>\n",
       "      <th>agePct12t21</th>\n",
       "      <th>agePct16t24</th>\n",
       "      <th>agePct65up</th>\n",
       "      <th>medIncome</th>\n",
       "      <th>PctUnemployed</th>\n",
       "      <th>ViolentCrimesPerPop</th>\n",
       "    </tr>\n",
       "  </thead>\n",
       "  <tbody>\n",
       "    <tr>\n",
       "      <th>0</th>\n",
       "      <td>0.19</td>\n",
       "      <td>0.02</td>\n",
       "      <td>0.90</td>\n",
       "      <td>0.12</td>\n",
       "      <td>0.17</td>\n",
       "      <td>0.34</td>\n",
       "      <td>0.29</td>\n",
       "      <td>0.32</td>\n",
       "      <td>0.37</td>\n",
       "      <td>0.27</td>\n",
       "      <td>0.20</td>\n",
       "    </tr>\n",
       "    <tr>\n",
       "      <th>1</th>\n",
       "      <td>0.00</td>\n",
       "      <td>0.12</td>\n",
       "      <td>0.74</td>\n",
       "      <td>0.45</td>\n",
       "      <td>0.07</td>\n",
       "      <td>0.26</td>\n",
       "      <td>0.35</td>\n",
       "      <td>0.27</td>\n",
       "      <td>0.31</td>\n",
       "      <td>0.27</td>\n",
       "      <td>0.67</td>\n",
       "    </tr>\n",
       "    <tr>\n",
       "      <th>2</th>\n",
       "      <td>0.00</td>\n",
       "      <td>0.49</td>\n",
       "      <td>0.56</td>\n",
       "      <td>0.17</td>\n",
       "      <td>0.04</td>\n",
       "      <td>0.39</td>\n",
       "      <td>0.28</td>\n",
       "      <td>0.32</td>\n",
       "      <td>0.30</td>\n",
       "      <td>0.36</td>\n",
       "      <td>0.43</td>\n",
       "    </tr>\n",
       "    <tr>\n",
       "      <th>3</th>\n",
       "      <td>0.04</td>\n",
       "      <td>1.00</td>\n",
       "      <td>0.08</td>\n",
       "      <td>0.12</td>\n",
       "      <td>0.10</td>\n",
       "      <td>0.51</td>\n",
       "      <td>0.34</td>\n",
       "      <td>0.21</td>\n",
       "      <td>0.58</td>\n",
       "      <td>0.33</td>\n",
       "      <td>0.12</td>\n",
       "    </tr>\n",
       "    <tr>\n",
       "      <th>4</th>\n",
       "      <td>0.01</td>\n",
       "      <td>0.02</td>\n",
       "      <td>0.95</td>\n",
       "      <td>0.09</td>\n",
       "      <td>0.05</td>\n",
       "      <td>0.38</td>\n",
       "      <td>0.23</td>\n",
       "      <td>0.36</td>\n",
       "      <td>0.50</td>\n",
       "      <td>0.12</td>\n",
       "      <td>0.03</td>\n",
       "    </tr>\n",
       "  </tbody>\n",
       "</table>\n",
       "</div>"
      ],
      "text/plain": [
       "   population  racepctblack  racePctWhite  racePctAsian  racePctHisp  \\\n",
       "0        0.19          0.02          0.90          0.12         0.17   \n",
       "1        0.00          0.12          0.74          0.45         0.07   \n",
       "2        0.00          0.49          0.56          0.17         0.04   \n",
       "3        0.04          1.00          0.08          0.12         0.10   \n",
       "4        0.01          0.02          0.95          0.09         0.05   \n",
       "\n",
       "   agePct12t21  agePct16t24  agePct65up  medIncome  PctUnemployed  \\\n",
       "0         0.34         0.29        0.32       0.37           0.27   \n",
       "1         0.26         0.35        0.27       0.31           0.27   \n",
       "2         0.39         0.28        0.32       0.30           0.36   \n",
       "3         0.51         0.34        0.21       0.58           0.33   \n",
       "4         0.38         0.23        0.36       0.50           0.12   \n",
       "\n",
       "   ViolentCrimesPerPop  \n",
       "0                 0.20  \n",
       "1                 0.67  \n",
       "2                 0.43  \n",
       "3                 0.12  \n",
       "4                 0.03  "
      ]
     },
     "execution_count": 9,
     "metadata": {},
     "output_type": "execute_result"
    }
   ],
   "source": [
    "features = ['population','racepctblack','racePctWhite','racePctAsian',\n",
    "            'racePctHisp','agePct12t21','agePct16t24','agePct65up','medIncome','PctUnemployed','ViolentCrimesPerPop']\n",
    "data_sub = data[features]\n",
    "\n",
    "print(data_sub.shape)\n",
    "data_sub.head()\n"
   ]
  },
  {
   "cell_type": "code",
   "execution_count": 10,
   "metadata": {},
   "outputs": [
    {
     "name": "stdout",
     "output_type": "stream",
     "text": [
      "{'racepctblack': 0.23, 'racePctWhite': 0.94, 'racePctAsian': 0.17, 'racePctHisp': 0.16, 'intercept': 1.0, 'medIncome': 0.49, 'agePct65up': 0.53}\n"
     ]
    },
    {
     "name": "stderr",
     "output_type": "stream",
     "text": [
      "100%|███████████████████████████████████████████| 20/20 [01:03<00:00,  3.15s/it]\n"
     ]
    },
    {
     "name": "stdout",
     "output_type": "stream",
     "text": [
      "1.0621052631578947\n"
     ]
    },
    {
     "name": "stderr",
     "output_type": "stream",
     "text": [
      "100%|█████████████████████████████████████████| 200/200 [02:41<00:00,  1.24it/s]\n",
      "100%|███████████████████████████████████████████| 20/20 [00:35<00:00,  1.76s/it]\n"
     ]
    },
    {
     "name": "stdout",
     "output_type": "stream",
     "text": [
      "3.1663157894736838\n"
     ]
    },
    {
     "name": "stderr",
     "output_type": "stream",
     "text": [
      "100%|█████████████████████████████████████████| 200/200 [01:57<00:00,  1.70it/s]\n",
      "100%|███████████████████████████████████████████| 20/20 [00:33<00:00,  1.67s/it]\n"
     ]
    },
    {
     "name": "stdout",
     "output_type": "stream",
     "text": [
      "0.01\n"
     ]
    },
    {
     "name": "stderr",
     "output_type": "stream",
     "text": [
      "100%|█████████████████████████████████████████| 200/200 [01:47<00:00,  1.87it/s]\n",
      "100%|███████████████████████████████████████████| 20/20 [00:34<00:00,  1.72s/it]\n"
     ]
    },
    {
     "name": "stdout",
     "output_type": "stream",
     "text": [
      "2.114210526315789\n"
     ]
    },
    {
     "name": "stderr",
     "output_type": "stream",
     "text": [
      "100%|█████████████████████████████████████████| 200/200 [01:55<00:00,  1.73it/s]\n",
      "100%|███████████████████████████████████████████| 20/20 [00:33<00:00,  1.68s/it]\n"
     ]
    },
    {
     "name": "stdout",
     "output_type": "stream",
     "text": [
      "3.1663157894736838\n"
     ]
    },
    {
     "name": "stderr",
     "output_type": "stream",
     "text": [
      "100%|█████████████████████████████████████████| 200/200 [01:51<00:00,  1.79it/s]\n",
      "100%|███████████████████████████████████████████| 20/20 [00:33<00:00,  1.68s/it]\n"
     ]
    },
    {
     "name": "stdout",
     "output_type": "stream",
     "text": [
      "12.635263157894736\n"
     ]
    },
    {
     "name": "stderr",
     "output_type": "stream",
     "text": [
      "100%|█████████████████████████████████████████| 200/200 [01:51<00:00,  1.79it/s]\n",
      "100%|███████████████████████████████████████████| 20/20 [00:34<00:00,  1.70s/it]\n"
     ]
    },
    {
     "name": "stdout",
     "output_type": "stream",
     "text": [
      "7.374736842105262\n"
     ]
    },
    {
     "name": "stderr",
     "output_type": "stream",
     "text": [
      "100%|█████████████████████████████████████████| 200/200 [01:55<00:00,  1.74it/s]\n",
      "100%|███████████████████████████████████████████| 20/20 [00:33<00:00,  1.67s/it]\n"
     ]
    },
    {
     "name": "stdout",
     "output_type": "stream",
     "text": [
      "0.01\n"
     ]
    },
    {
     "name": "stderr",
     "output_type": "stream",
     "text": [
      "100%|█████████████████████████████████████████| 200/200 [01:45<00:00,  1.89it/s]\n",
      "100%|███████████████████████████████████████████| 20/20 [00:33<00:00,  1.69s/it]\n"
     ]
    },
    {
     "name": "stdout",
     "output_type": "stream",
     "text": [
      "1.0621052631578947\n"
     ]
    },
    {
     "name": "stderr",
     "output_type": "stream",
     "text": [
      "100%|█████████████████████████████████████████| 200/200 [01:49<00:00,  1.82it/s]\n",
      "100%|███████████████████████████████████████████| 20/20 [00:33<00:00,  1.66s/it]\n"
     ]
    },
    {
     "name": "stdout",
     "output_type": "stream",
     "text": [
      "2.114210526315789\n"
     ]
    },
    {
     "name": "stderr",
     "output_type": "stream",
     "text": [
      "100%|█████████████████████████████████████████| 200/200 [01:54<00:00,  1.75it/s]\n",
      "100%|███████████████████████████████████████████| 20/20 [00:33<00:00,  1.67s/it]\n"
     ]
    },
    {
     "name": "stdout",
     "output_type": "stream",
     "text": [
      "2.114210526315789\n"
     ]
    },
    {
     "name": "stderr",
     "output_type": "stream",
     "text": [
      "100%|█████████████████████████████████████████| 200/200 [01:52<00:00,  1.78it/s]\n",
      "100%|███████████████████████████████████████████| 20/20 [00:33<00:00,  1.67s/it]\n"
     ]
    },
    {
     "name": "stdout",
     "output_type": "stream",
     "text": [
      "2.114210526315789\n"
     ]
    },
    {
     "name": "stderr",
     "output_type": "stream",
     "text": [
      "100%|█████████████████████████████████████████| 200/200 [01:50<00:00,  1.81it/s]\n",
      "100%|███████████████████████████████████████████| 20/20 [00:33<00:00,  1.70s/it]\n"
     ]
    },
    {
     "name": "stdout",
     "output_type": "stream",
     "text": [
      "1.0621052631578947\n"
     ]
    },
    {
     "name": "stderr",
     "output_type": "stream",
     "text": [
      "100%|█████████████████████████████████████████| 200/200 [01:48<00:00,  1.84it/s]\n",
      "100%|███████████████████████████████████████████| 20/20 [00:33<00:00,  1.66s/it]\n"
     ]
    },
    {
     "name": "stdout",
     "output_type": "stream",
     "text": [
      "1.0621052631578947\n"
     ]
    },
    {
     "name": "stderr",
     "output_type": "stream",
     "text": [
      "100%|█████████████████████████████████████████| 200/200 [01:50<00:00,  1.80it/s]\n",
      "100%|███████████████████████████████████████████| 20/20 [00:32<00:00,  1.64s/it]\n"
     ]
    },
    {
     "name": "stdout",
     "output_type": "stream",
     "text": [
      "7.374736842105262\n"
     ]
    },
    {
     "name": "stderr",
     "output_type": "stream",
     "text": [
      "100%|█████████████████████████████████████████| 200/200 [01:50<00:00,  1.81it/s]\n",
      "100%|███████████████████████████████████████████| 20/20 [00:33<00:00,  1.70s/it]\n"
     ]
    },
    {
     "name": "stdout",
     "output_type": "stream",
     "text": [
      "0.01\n"
     ]
    },
    {
     "name": "stderr",
     "output_type": "stream",
     "text": [
      "100%|█████████████████████████████████████████| 200/200 [01:46<00:00,  1.88it/s]\n",
      "100%|███████████████████████████████████████████| 20/20 [00:33<00:00,  1.67s/it]\n"
     ]
    },
    {
     "name": "stdout",
     "output_type": "stream",
     "text": [
      "5.270526315789473\n"
     ]
    },
    {
     "name": "stderr",
     "output_type": "stream",
     "text": [
      "100%|█████████████████████████████████████████| 200/200 [01:50<00:00,  1.81it/s]\n",
      "100%|███████████████████████████████████████████| 20/20 [00:33<00:00,  1.67s/it]\n"
     ]
    },
    {
     "name": "stdout",
     "output_type": "stream",
     "text": [
      "0.01\n"
     ]
    },
    {
     "name": "stderr",
     "output_type": "stream",
     "text": [
      "100%|█████████████████████████████████████████| 200/200 [01:46<00:00,  1.87it/s]\n",
      "100%|███████████████████████████████████████████| 20/20 [00:33<00:00,  1.68s/it]\n"
     ]
    },
    {
     "name": "stdout",
     "output_type": "stream",
     "text": [
      "16.843684210526316\n"
     ]
    },
    {
     "name": "stderr",
     "output_type": "stream",
     "text": [
      "100%|█████████████████████████████████████████| 200/200 [01:49<00:00,  1.83it/s]\n",
      "100%|███████████████████████████████████████████| 20/20 [00:32<00:00,  1.65s/it]\n"
     ]
    },
    {
     "name": "stdout",
     "output_type": "stream",
     "text": [
      "3.1663157894736838\n"
     ]
    },
    {
     "name": "stderr",
     "output_type": "stream",
     "text": [
      "100%|█████████████████████████████████████████| 200/200 [01:49<00:00,  1.82it/s]\n",
      "100%|███████████████████████████████████████████| 20/20 [00:32<00:00,  1.65s/it]\n"
     ]
    },
    {
     "name": "stdout",
     "output_type": "stream",
     "text": [
      "0.01\n"
     ]
    },
    {
     "name": "stderr",
     "output_type": "stream",
     "text": [
      "100%|█████████████████████████████████████████| 200/200 [01:47<00:00,  1.86it/s]\n",
      "100%|███████████████████████████████████████████| 20/20 [00:33<00:00,  1.68s/it]\n"
     ]
    },
    {
     "name": "stdout",
     "output_type": "stream",
     "text": [
      "1.0621052631578947\n"
     ]
    },
    {
     "name": "stderr",
     "output_type": "stream",
     "text": [
      "100%|█████████████████████████████████████████| 200/200 [01:49<00:00,  1.83it/s]\n",
      "100%|███████████████████████████████████████████| 20/20 [00:33<00:00,  1.68s/it]\n"
     ]
    },
    {
     "name": "stdout",
     "output_type": "stream",
     "text": [
      "0.01\n"
     ]
    },
    {
     "name": "stderr",
     "output_type": "stream",
     "text": [
      "100%|█████████████████████████████████████████| 200/200 [01:50<00:00,  1.82it/s]\n",
      "100%|███████████████████████████████████████████| 20/20 [00:34<00:00,  1.71s/it]\n"
     ]
    },
    {
     "name": "stdout",
     "output_type": "stream",
     "text": [
      "3.1663157894736838\n"
     ]
    },
    {
     "name": "stderr",
     "output_type": "stream",
     "text": [
      "100%|█████████████████████████████████████████| 200/200 [01:50<00:00,  1.81it/s]\n",
      "100%|███████████████████████████████████████████| 20/20 [00:33<00:00,  1.69s/it]\n"
     ]
    },
    {
     "name": "stdout",
     "output_type": "stream",
     "text": [
      "0.01\n"
     ]
    },
    {
     "name": "stderr",
     "output_type": "stream",
     "text": [
      "100%|█████████████████████████████████████████| 200/200 [01:47<00:00,  1.86it/s]\n",
      "100%|███████████████████████████████████████████| 20/20 [00:34<00:00,  1.71s/it]\n"
     ]
    },
    {
     "name": "stdout",
     "output_type": "stream",
     "text": [
      "3.1663157894736838\n"
     ]
    },
    {
     "name": "stderr",
     "output_type": "stream",
     "text": [
      "100%|█████████████████████████████████████████| 200/200 [01:48<00:00,  1.84it/s]\n",
      "100%|███████████████████████████████████████████| 20/20 [00:32<00:00,  1.65s/it]\n"
     ]
    },
    {
     "name": "stdout",
     "output_type": "stream",
     "text": [
      "5.270526315789473\n"
     ]
    },
    {
     "name": "stderr",
     "output_type": "stream",
     "text": [
      "100%|█████████████████████████████████████████| 200/200 [01:54<00:00,  1.75it/s]\n",
      "100%|███████████████████████████████████████████| 20/20 [00:35<00:00,  1.75s/it]\n"
     ]
    },
    {
     "name": "stdout",
     "output_type": "stream",
     "text": [
      "1.0621052631578947\n"
     ]
    },
    {
     "name": "stderr",
     "output_type": "stream",
     "text": [
      "100%|█████████████████████████████████████████| 200/200 [01:49<00:00,  1.82it/s]\n",
      "100%|███████████████████████████████████████████| 20/20 [00:33<00:00,  1.68s/it]\n"
     ]
    },
    {
     "name": "stdout",
     "output_type": "stream",
     "text": [
      "1.0621052631578947\n"
     ]
    },
    {
     "name": "stderr",
     "output_type": "stream",
     "text": [
      "100%|█████████████████████████████████████████| 200/200 [01:51<00:00,  1.79it/s]\n",
      "100%|███████████████████████████████████████████| 20/20 [00:34<00:00,  1.72s/it]\n"
     ]
    },
    {
     "name": "stdout",
     "output_type": "stream",
     "text": [
      "5.270526315789473\n"
     ]
    },
    {
     "name": "stderr",
     "output_type": "stream",
     "text": [
      "100%|█████████████████████████████████████████| 200/200 [01:51<00:00,  1.79it/s]\n",
      "100%|███████████████████████████████████████████| 20/20 [00:34<00:00,  1.72s/it]\n"
     ]
    },
    {
     "name": "stdout",
     "output_type": "stream",
     "text": [
      "3.1663157894736838\n"
     ]
    },
    {
     "name": "stderr",
     "output_type": "stream",
     "text": [
      "100%|█████████████████████████████████████████| 200/200 [01:48<00:00,  1.84it/s]\n",
      "100%|███████████████████████████████████████████| 20/20 [00:34<00:00,  1.74s/it]\n"
     ]
    },
    {
     "name": "stdout",
     "output_type": "stream",
     "text": [
      "1.0621052631578947\n"
     ]
    },
    {
     "name": "stderr",
     "output_type": "stream",
     "text": [
      "100%|█████████████████████████████████████████| 200/200 [01:53<00:00,  1.77it/s]\n",
      "100%|███████████████████████████████████████████| 20/20 [00:34<00:00,  1.72s/it]\n"
     ]
    },
    {
     "name": "stdout",
     "output_type": "stream",
     "text": [
      "14.739473684210525\n"
     ]
    },
    {
     "name": "stderr",
     "output_type": "stream",
     "text": [
      "100%|█████████████████████████████████████████| 200/200 [01:50<00:00,  1.82it/s]\n",
      "100%|███████████████████████████████████████████| 20/20 [00:34<00:00,  1.73s/it]\n"
     ]
    },
    {
     "name": "stdout",
     "output_type": "stream",
     "text": [
      "11.583157894736841\n"
     ]
    },
    {
     "name": "stderr",
     "output_type": "stream",
     "text": [
      "100%|█████████████████████████████████████████| 200/200 [01:49<00:00,  1.83it/s]\n",
      "100%|███████████████████████████████████████████| 20/20 [00:33<00:00,  1.70s/it]\n"
     ]
    },
    {
     "name": "stdout",
     "output_type": "stream",
     "text": [
      "1.0621052631578947\n"
     ]
    },
    {
     "name": "stderr",
     "output_type": "stream",
     "text": [
      "100%|█████████████████████████████████████████| 200/200 [01:52<00:00,  1.77it/s]\n",
      "100%|███████████████████████████████████████████| 20/20 [00:34<00:00,  1.70s/it]\n"
     ]
    },
    {
     "name": "stdout",
     "output_type": "stream",
     "text": [
      "0.01\n"
     ]
    },
    {
     "name": "stderr",
     "output_type": "stream",
     "text": [
      "100%|█████████████████████████████████████████| 200/200 [01:51<00:00,  1.80it/s]\n",
      "100%|███████████████████████████████████████████| 20/20 [00:36<00:00,  1.81s/it]\n"
     ]
    },
    {
     "name": "stdout",
     "output_type": "stream",
     "text": [
      "3.1663157894736838\n"
     ]
    },
    {
     "name": "stderr",
     "output_type": "stream",
     "text": [
      "100%|█████████████████████████████████████████| 200/200 [01:54<00:00,  1.74it/s]\n",
      "100%|███████████████████████████████████████████| 20/20 [00:34<00:00,  1.72s/it]\n"
     ]
    },
    {
     "name": "stdout",
     "output_type": "stream",
     "text": [
      "2.114210526315789\n"
     ]
    },
    {
     "name": "stderr",
     "output_type": "stream",
     "text": [
      "100%|█████████████████████████████████████████| 200/200 [01:54<00:00,  1.75it/s]\n",
      "100%|███████████████████████████████████████████| 20/20 [00:33<00:00,  1.69s/it]\n"
     ]
    },
    {
     "name": "stdout",
     "output_type": "stream",
     "text": [
      "10.531052631578946\n"
     ]
    },
    {
     "name": "stderr",
     "output_type": "stream",
     "text": [
      "100%|█████████████████████████████████████████| 200/200 [01:53<00:00,  1.77it/s]\n",
      "100%|███████████████████████████████████████████| 20/20 [00:34<00:00,  1.70s/it]\n"
     ]
    },
    {
     "name": "stdout",
     "output_type": "stream",
     "text": [
      "0.01\n"
     ]
    },
    {
     "name": "stderr",
     "output_type": "stream",
     "text": [
      "100%|█████████████████████████████████████████| 200/200 [01:50<00:00,  1.80it/s]\n",
      "100%|███████████████████████████████████████████| 20/20 [00:33<00:00,  1.70s/it]\n"
     ]
    },
    {
     "name": "stdout",
     "output_type": "stream",
     "text": [
      "4.218421052631578\n"
     ]
    },
    {
     "name": "stderr",
     "output_type": "stream",
     "text": [
      "100%|█████████████████████████████████████████| 200/200 [01:51<00:00,  1.79it/s]\n",
      "100%|███████████████████████████████████████████| 20/20 [00:34<00:00,  1.70s/it]\n"
     ]
    },
    {
     "name": "stdout",
     "output_type": "stream",
     "text": [
      "1.0621052631578947\n"
     ]
    },
    {
     "name": "stderr",
     "output_type": "stream",
     "text": [
      "100%|█████████████████████████████████████████| 200/200 [01:51<00:00,  1.80it/s]\n",
      "100%|███████████████████████████████████████████| 20/20 [00:33<00:00,  1.67s/it]\n"
     ]
    },
    {
     "name": "stdout",
     "output_type": "stream",
     "text": [
      "5.270526315789473\n"
     ]
    },
    {
     "name": "stderr",
     "output_type": "stream",
     "text": [
      "100%|█████████████████████████████████████████| 200/200 [01:50<00:00,  1.82it/s]\n",
      "100%|███████████████████████████████████████████| 20/20 [00:33<00:00,  1.67s/it]\n"
     ]
    },
    {
     "name": "stdout",
     "output_type": "stream",
     "text": [
      "1.0621052631578947\n"
     ]
    },
    {
     "name": "stderr",
     "output_type": "stream",
     "text": [
      "100%|█████████████████████████████████████████| 200/200 [01:49<00:00,  1.83it/s]\n",
      "100%|███████████████████████████████████████████| 20/20 [00:33<00:00,  1.68s/it]\n"
     ]
    },
    {
     "name": "stdout",
     "output_type": "stream",
     "text": [
      "5.270526315789473\n"
     ]
    },
    {
     "name": "stderr",
     "output_type": "stream",
     "text": [
      "100%|█████████████████████████████████████████| 200/200 [01:53<00:00,  1.77it/s]\n",
      "100%|███████████████████████████████████████████| 20/20 [00:33<00:00,  1.70s/it]\n"
     ]
    },
    {
     "name": "stdout",
     "output_type": "stream",
     "text": [
      "6.322631578947368\n"
     ]
    },
    {
     "name": "stderr",
     "output_type": "stream",
     "text": [
      "100%|█████████████████████████████████████████| 200/200 [01:53<00:00,  1.76it/s]\n",
      "100%|███████████████████████████████████████████| 20/20 [00:33<00:00,  1.66s/it]\n"
     ]
    },
    {
     "name": "stdout",
     "output_type": "stream",
     "text": [
      "5.270526315789473\n"
     ]
    },
    {
     "name": "stderr",
     "output_type": "stream",
     "text": [
      "100%|█████████████████████████████████████████| 200/200 [01:52<00:00,  1.78it/s]\n",
      "100%|███████████████████████████████████████████| 20/20 [00:33<00:00,  1.67s/it]\n"
     ]
    },
    {
     "name": "stdout",
     "output_type": "stream",
     "text": [
      "0.01\n"
     ]
    },
    {
     "name": "stderr",
     "output_type": "stream",
     "text": [
      "100%|█████████████████████████████████████████| 200/200 [01:48<00:00,  1.84it/s]\n",
      "100%|███████████████████████████████████████████| 20/20 [00:33<00:00,  1.68s/it]\n"
     ]
    },
    {
     "name": "stdout",
     "output_type": "stream",
     "text": [
      "0.01\n"
     ]
    },
    {
     "name": "stderr",
     "output_type": "stream",
     "text": [
      "100%|█████████████████████████████████████████| 200/200 [01:45<00:00,  1.90it/s]\n",
      "100%|███████████████████████████████████████████| 20/20 [00:33<00:00,  1.68s/it]\n"
     ]
    },
    {
     "name": "stdout",
     "output_type": "stream",
     "text": [
      "5.270526315789473\n"
     ]
    },
    {
     "name": "stderr",
     "output_type": "stream",
     "text": [
      "100%|█████████████████████████████████████████| 200/200 [01:53<00:00,  1.76it/s]\n"
     ]
    }
   ],
   "source": [
    "def compute_coverage_at_shift(x_test,scores_test,coverages,x_shift,gamma, eps = 0.0001):\n",
    "    g = pairwise_kernels(\n",
    "                X=pd.Series.to_numpy(x_shift).reshape(1, -1),\n",
    "                Y=x_test,\n",
    "                metric=\"rbf\",\n",
    "                gamma=gamma\n",
    "            )[0,:]\n",
    "    return np.average(coverages, weights=g)\n",
    "\n",
    "def compute_estimated_shifted_coverage( \n",
    "        scores_calib : np.ndarray, \n",
    "        x_calib : np.ndarray, \n",
    "        shift_loc : np.ndarray, \n",
    "        kernel : str, \n",
    "        alpha : float, \n",
    "        radius : float,\n",
    "        gamma : float,\n",
    "        z_calib : np.ndarray,\n",
    "):\n",
    "    prob_calib = setup_full_cvx_dual(\n",
    "        x_calib,\n",
    "        scores_calib,\n",
    "        kernel=kernel,\n",
    "        gamma=gamma,\n",
    "        alpha=alpha,\n",
    "        z_calib=z_calib\n",
    "    )\n",
    "    prob_calib.param_dict['radius'].value = np.asarray([[radius]])\n",
    "    prob_calib.solve(\n",
    "        solver='MOSEK', \n",
    "        verbose=False, \n",
    "        mosek_params={mosek.iparam.intpnt_solve_form: mosek.solveform.dual}\n",
    "    )\n",
    "\n",
    "    g = pairwise_kernels(\n",
    "        X=shift_loc.reshape(1,-1),\n",
    "        Y=x_calib,\n",
    "        metric=kernel,\n",
    "        gamma=gamma\n",
    "    )\n",
    "\n",
    "    inner_product = g @ prob_calib.var_dict['weights'].value\n",
    "    g_sum = np.mean((g))\n",
    "    \n",
    "    return alpha - (1 / radius) * (inner_product / g_sum)\n",
    "\n",
    "\n",
    "def one_LQR_exp(X,Y,n_test,n_calib,alpha,gamma,protectedFeatures,featuresToPlot,cutoffs,\n",
    "                                    min_radius,max_radius,num_radii,k,radius=None,eps=0.0001):\n",
    "    held_out_points = sample(range(0,len(Y)),n_calib + n_test)\n",
    "    test_points = held_out_points[0:n_test]\n",
    "    calib_points = held_out_points[n_test:]\n",
    "    \n",
    "    X_test = pd.DataFrame.to_numpy(X.iloc[test_points,:])\n",
    "    Y_test = pd.Series.to_numpy(Y.iloc[test_points])\n",
    "    X_calib = pd.DataFrame.to_numpy(X.iloc[calib_points,:])\n",
    "    Y_calib = pd.Series.to_numpy(Y.iloc[calib_points])\n",
    "    X_train = pd.DataFrame.to_numpy(X.drop(held_out_points,axis = 0))\n",
    "    Y_train = pd.Series.to_numpy(Y.drop(held_out_points,axis = 0))\n",
    "    X_train_qr = pd.DataFrame.to_numpy(X.drop(test_points,axis=0))\n",
    "    Y_train_qr = pd.Series.to_numpy(Y.drop(test_points,axis=0))\n",
    "    \n",
    "    reg = LinearRegression().fit(X_train,Y_train)\n",
    "    scores_calib = np.abs(reg.predict(X_calib) - Y_calib)\n",
    "    scores_test =  np.abs(reg.predict(X_test) - Y_test)\n",
    "    q = np.quantile(scores_calib, [alpha * (1 + 1/n_calib)])\n",
    "    baseline_coverages = scores_test <= q\n",
    "    baseline__marginal_coverage = np.mean(baseline_coverages)\n",
    "    \n",
    "    z_calib = pd.DataFrame.to_numpy(X.drop(test_points,axis=0)[protectedFeatures])\n",
    "    z_test = pd.DataFrame.to_numpy(X.iloc[test_points,:][protectedFeatures])\n",
    "    \n",
    "    if radius is None:\n",
    "        allLosses, radii = runCV(X_train_qr,Y_train_qr,'rbf',gamma,alpha,k,\n",
    "                                 min_radius,max_radius, num_radii, z_calib)\n",
    "        selectedRadius = radii[np.argmin(allLosses)]\n",
    "        #print(allLosses)\n",
    "        print(selectedRadius)\n",
    "    else:\n",
    "        selectedRadius = radius\n",
    "    \n",
    "    _, adaptive__marginal_coverage, adaptive_thresholds = compute_shifted_coverage(\n",
    "        Y_test,\n",
    "        Y_train_qr,\n",
    "        X_train_qr,\n",
    "        X_test,\n",
    "        None,\n",
    "        kernel=\"rbf\",\n",
    "        alpha=alpha,\n",
    "        radius=selectedRadius,\n",
    "        gamma=gamma,\n",
    "        z_calib=z_calib,\n",
    "        z_test=z_test,\n",
    "        exact=True,\n",
    "        eps=eps\n",
    "    )\n",
    "    adaptive_coverages = Y_test <= adaptive_thresholds\n",
    "    \n",
    "        \n",
    "    protected_results_df = pd.DataFrame({'Coverage' : [adaptive__marginal_coverage, baseline__marginal_coverage],\n",
    "                             'type' : ['Robust','Split'],'Shift Type' : ['Marginal','Marginal']})\n",
    "    \n",
    "    for feature in protectedFeatures + featuresToPlot:\n",
    "        if feature != 'intercept':\n",
    "            adaptive_protected_cov = np.mean(adaptive_coverages[X.iloc[test_points,:][feature]>cutoffs[feature]])\n",
    "            baseline_protected_cov = np.mean(baseline_coverages[X.iloc[test_points,:][feature]>cutoffs[feature]])\n",
    "\n",
    "            shift_type = feature + ' > ' + str(cutoffs[feature])\n",
    "            protected_df = pd.DataFrame({'Coverage' : [adaptive_protected_cov, baseline_protected_cov],\n",
    "                             'type' : ['Robust','Split'],'Shift Type' : [shift_type,shift_type]})\n",
    "            \n",
    "            protected_results_df = pd.concat([protected_results_df,protected_df])\n",
    "    \n",
    "    shift_results_df = pd.DataFrame()\n",
    "    for shift in shift_locs:\n",
    "        adaptive_shifted_cov = compute_coverage_at_shift(X_test,Y_test,adaptive_coverages,\n",
    "                                                         X.iloc[shift,:],gamma, eps = 0.0001)\n",
    "        \n",
    "        \n",
    "        adaptive_estimated_cov = compute_estimated_shifted_coverage(Y_train_qr, X_train_qr,\n",
    "                                                                    pd.Series.to_numpy(X.iloc[shift,:]), \"rbf\", \n",
    "                                                                    alpha, selectedRadius, gamma, z_calib\n",
    "                                )[0]\n",
    "        shift_df = pd.DataFrame({'Coverage' : [adaptive_shifted_cov, adaptive_estimated_cov],\n",
    "                             'type' : ['Empirical','Estimated'],'Shift Type' : [shift,shift]})\n",
    "            \n",
    "        shift_results_df = pd.concat([shift_results_df,shift_df])\n",
    "        \n",
    "    return protected_results_df, shift_results_df\n",
    "\n",
    "\n",
    "X = data_sub.drop(['ViolentCrimesPerPop'],axis=1)\n",
    "X['intercept'] = np.ones(len(X))\n",
    "Y = data_sub['ViolentCrimesPerPop']\n",
    "n_test = 200\n",
    "n_train = 300\n",
    "n_calib = 500\n",
    "n = n_train + n_calib + n_test\n",
    "alpha = 0.9\n",
    "gamma = 4\n",
    "#radius = 10\n",
    "protectedFeatures = ['racepctblack','racePctWhite','racePctAsian','racePctHisp','intercept']\n",
    "featuresToPlot = ['medIncome','agePct65up']\n",
    "shift_locs = [37,689]\n",
    "n_trials = 50\n",
    "min_radius = 0.01\n",
    "max_radius = 20\n",
    "num_radii = 20\n",
    "k = 5\n",
    "\n",
    "cutoffs = {}\n",
    "for col in protectedFeatures + featuresToPlot:\n",
    "    cutoffs[col] = np.quantile(X[col],0.75)\n",
    "print(cutoffs)\n",
    "\n",
    "protected_df = pd.DataFrame()\n",
    "shift_df = pd.DataFrame()\n",
    "for i in range(n_trials):\n",
    "    append_df_protected, append_df_shift = one_LQR_exp(X.iloc[0:n,:],Y[0:n],n_test,n_calib,alpha,gamma,\n",
    "                                                       protectedFeatures,featuresToPlot,cutoffs,min_radius, max_radius,\n",
    "                                                       num_radii, k)\n",
    "    append_df_protected['trial'] = i\n",
    "    append_df_shift['trial'] = i\n",
    "    protected_df = pd.concat([protected_df,append_df_protected])\n",
    "    shift_df = pd.concat([shift_df,append_df_shift])\n"
   ]
  },
  {
   "cell_type": "code",
   "execution_count": 30,
   "metadata": {},
   "outputs": [
    {
     "data": {
      "image/png": "[encoded data removed]",
      "text/plain": [
       "<Figure size 842.4x595.44 with 1 Axes>"
      ]
     },
     "metadata": {},
     "output_type": "display_data"
    }
   ],
   "source": [
    "import seaborn as sns\n",
    "sns.set(rc={'figure.figsize':(11.7,8.27)})\n",
    "\n",
    "fig = sns.barplot(shift_df,x='Shift Type',y='Coverage',hue='type')\n",
    "fig.axhline(alpha, color='red')\n",
    "plt.legend(bbox_to_anchor=(1.02, 1), loc='upper left', borderaxespad=0)\n",
    "plt.tight_layout()\n",
    "plt.savefig('figures/CandCRbfShiftsEmpVsEst.png')"
   ]
  },
  {
   "cell_type": "code",
   "execution_count": 27,
   "metadata": {},
   "outputs": [
    {
     "data": {
      "image/png": "[encoded data removed]",
      "text/plain": [
       "<Figure size 842.4x595.44 with 1 Axes>"
      ]
     },
     "metadata": {},
     "output_type": "display_data"
    }
   ],
   "source": [
    "sns.set(rc={'figure.figsize':(11.7,8.27)})\n",
    "\n",
    "protected_df_sub = protected_df[np.logical_and(protected_df['Shift Type'] != 'medIncome > 0.49', \n",
    "                                protected_df['Shift Type'] != 'agePct65up > 0.53')]\n",
    "\n",
    "fig = sns.barplot(protected_df_sub,x='Shift Type',y='Coverage',hue='type')\n",
    "fig.axhline(alpha, color='red')\n",
    "plt.legend(bbox_to_anchor=(1.02, 1), loc='upper left', borderaxespad=0)\n",
    "plt.tight_layout()\n",
    "plt.savefig('figures/CandCCuttofShiftCoverages.png')"
   ]
  },
  {
   "cell_type": "code",
   "execution_count": 15,
   "metadata": {},
   "outputs": [],
   "source": [
    "alpha = 0.9\n",
    "gamma = 4\n",
    "radius = 3\n",
    "n_to_use = n_train + n_calib\n",
    "\n",
    "Z = pd.DataFrame.to_numpy(X[protectedFeatures])\n",
    "Xnp = pd.DataFrame.to_numpy(X)\n",
    "Ynp = pd.Series.to_numpy(Y)\n",
    "\n",
    "prob = setup_full_cvx_dual(Xnp[0:n_to_use,:], Ynp[0:n_to_use], 'rbf', gamma, alpha, Z[0:n_to_use,:])\n",
    "prob.param_dict['radius'].value = np.array([[radius]])\n",
    "prob.solve(\n",
    "                solver='MOSEK', \n",
    "                verbose=False, \n",
    "                mosek_params={mosek.iparam.intpnt_solve_form: mosek.solveform.dual}\n",
    "            )\n",
    "c0 = prob.constraints[-1].dual_value\n",
    "weights = prob.var_dict['weights'].value\n",
    "K = pairwise_kernels(\n",
    "    X = Xnp[0:n_to_use,:],\n",
    "    metric='rbf',\n",
    "    gamma=gamma\n",
    ")\n",
    "cov_gaps = alpha-(1/radius) * K @ weights / (K @ np.ones(n_to_use) / n_to_use)\n"
   ]
  },
  {
   "cell_type": "code",
   "execution_count": 31,
   "metadata": {},
   "outputs": [
    {
     "data": {
      "image/png": "[encoded data removed]",
      "text/plain": [
       "<Figure size 842.4x595.44 with 1 Axes>"
      ]
     },
     "metadata": {},
     "output_type": "display_data"
    }
   ],
   "source": [
    "#['population','racepctblack','racePctWhite','racePctAsian',\n",
    "#            'racePctHisp','agePct12t21','agePct16t24','agePct65up','medIncome','PctUnemployed','ViolentCrimesPerPop']\n",
    "scatterplot_df = pd.DataFrame({'Income' : X['medIncome'][0:n_to_use][cov_gaps>0.75],\n",
    "                               'Percent 65+': X['agePct65up'][0:n_to_use][cov_gaps>0.75],\n",
    "                                                              'Estimated Coverage' : cov_gaps[cov_gaps>0.75]})\n",
    "\n",
    "sns.scatterplot(scatterplot_df,x='Income',y='Percent 65+',hue='Estimated Coverage')\n",
    "plt.scatter(x=X['medIncome'][37], y=X['agePct65up'][37], color='r')\n",
    "plt.scatter(x=X['medIncome'][689], y=X['agePct65up'][689], color='r')\n",
    "plt.savefig('figures/CandCCoverageScatterPlot.png')\n",
    "plt.show()\n"
   ]
  },
  {
   "cell_type": "code",
   "execution_count": null,
   "metadata": {},
   "outputs": [],
   "source": []
  },
  {
   "cell_type": "code",
   "execution_count": null,
   "metadata": {},
   "outputs": [],
   "source": []
  },
  {
   "cell_type": "code",
   "execution_count": null,
   "metadata": {},
   "outputs": [],
   "source": []
  }
 ],
 "metadata": {
  "kernelspec": {
   "display_name": "Python 3 (ipykernel)",
   "language": "python",
   "name": "python3"
  },
  "language_info": {
   "codemirror_mode": {
    "name": "ipython",
    "version": 3
   },
   "file_extension": ".py",
   "mimetype": "text/x-python",
   "name": "python",
   "nbconvert_exporter": "python",
   "pygments_lexer": "ipython3",
   "version": "3.9.5"
  }
 },
 "nbformat": 4,
 "nbformat_minor": 4
}
