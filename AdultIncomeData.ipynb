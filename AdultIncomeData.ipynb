{
 "cells": [
  {
   "cell_type": "code",
   "execution_count": 87,
   "metadata": {},
   "outputs": [],
   "source": [
    "from folktables import ACSDataSource\n",
    "import pandas as pd\n",
    "import numpy as np\n",
    "import matplotlib.pyplot as plt\n",
    "import math\n",
    "from sklearn.linear_model import LinearRegression\n",
    "from sklearn.model_selection import train_test_split\n"
   ]
  },
  {
   "cell_type": "code",
   "execution_count": 5,
   "metadata": {},
   "outputs": [],
   "source": [
    "data_source = ACSDataSource(survey_year='2018', horizon='1-Year', survey='person')\n",
    "ca_data = data_source.get_data(states=[\"CA\"], download=True)"
   ]
  },
  {
   "cell_type": "code",
   "execution_count": 85,
   "metadata": {},
   "outputs": [],
   "source": [
    "features = [\"AGEP\",\"SCHL\",\"SEX\",\"RAC1P\",\"JWTR\",\"POVPIP\",\"JWMNP\"]\n",
    "\n",
    "ca_data_sub = ca_data[features].copy()\n",
    "ca_data_sub.loc[np.isnan(ca_data_sub['SCHL']),'SCHL'] = 0\n",
    "ca_data_sub.loc[np.isnan(ca_data_sub['JWTR']),'JWTR'] = 0\n",
    "\n",
    "ca_data_sub.loc[ca_data_sub['SCHL'] <= 15,'SCHL'] = 0\n",
    "ca_data_sub.loc[np.logical_and(ca_data_sub['SCHL'] <= 19, ca_data_sub['SCHL'] > 15),'SCHL'] = 1\n",
    "ca_data_sub.loc[np.logical_or(ca_data_sub['SCHL'] == 20, ca_data_sub['SCHL'] == 21),'SCHL'] = 2\n",
    "ca_data_sub.loc[ca_data_sub['SCHL'] > 21,'SCHL'] = 3\n",
    "\n",
    "ca_data_sub['SCHL'] = ca_data_sub['SCHL'].astype('category')\n",
    "ca_data_sub['SEX'] = ca_data_sub['SEX'].astype('category')\n",
    "ca_data_sub['RAC1P'] = ca_data_sub['RAC1P'].astype('category')\n",
    "ca_data_sub['JWTR'] = ca_data_sub['JWTR'].astype('category')\n",
    "\n",
    "\n",
    "ca_data_sub = ca_data_sub[~ca_data_sub.isnull().any(axis=1)]"
   ]
  },
  {
   "cell_type": "code",
   "execution_count": 88,
   "metadata": {},
   "outputs": [],
   "source": [
    "Y = ca_data_sub['JWMNP']\n",
    "X = pd.get_dummies(ca_data_sub)\n",
    "X = X.drop(columns = ['JWMNP'])\n",
    "X.head()\n",
    "\n",
    "x_train, x_calib, y_train, y_calib = train_test_split(X, Y, test_size=math.floor(X.shape[0]/2), random_state=42)\n",
    "\n",
    "reg = LinearRegression().fit(x_train, y_train)\n",
    "scores_calib = np.abs(reg.predict(x_calib) - y_calib)\n",
    "\n",
    "\n"
   ]
  }
 ],
 "metadata": {
  "kernelspec": {
   "display_name": "Python 3 (ipykernel)",
   "language": "python",
   "name": "python3"
  },
  "language_info": {
   "codemirror_mode": {
    "name": "ipython",
    "version": 3
   },
   "file_extension": ".py",
   "mimetype": "text/x-python",
   "name": "python",
   "nbconvert_exporter": "python",
   "pygments_lexer": "ipython3",
   "version": "3.9.5"
  }
 },
 "nbformat": 4,
 "nbformat_minor": 4
}
