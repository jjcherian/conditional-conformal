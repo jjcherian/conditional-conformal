{
 "cells": [
  {
   "cell_type": "code",
   "execution_count": 9,
   "metadata": {},
   "outputs": [
    {
     "name": "stdout",
     "output_type": "stream",
     "text": [
      "The autoreload extension is already loaded. To reload it, use:\n",
      "  %reload_ext autoreload\n"
     ]
    }
   ],
   "source": [
    "%load_ext autoreload\n",
    "%autoreload 2"
   ]
  },
  {
   "cell_type": "code",
   "execution_count": 59,
   "metadata": {},
   "outputs": [],
   "source": [
    "import pandas as pd\n",
    "import numpy as np\n",
    "import cvxpy as cp\n",
    "import mosek\n",
    "import matplotlib.pyplot as plt\n",
    "import seaborn as sns\n",
    "from tqdm import tqdm\n",
    "import matplotlib.ticker as ticker\n",
    "\n",
    "from sklearn.linear_model import LinearRegression\n",
    "from sklearn.model_selection import train_test_split\n",
    "from sklearn.metrics.pairwise import rbf_kernel, pairwise_kernels"
   ]
  },
  {
   "cell_type": "code",
   "execution_count": 11,
   "metadata": {},
   "outputs": [],
   "source": [
    "from rkhs import compute_adaptive_threshold, setup_full_cvx_dual\n",
    "from Synthetic_data_generation import generate_cqr_data"
   ]
  },
  {
   "cell_type": "code",
   "execution_count": 22,
   "metadata": {},
   "outputs": [
    {
     "name": "stderr",
     "output_type": "stream",
     "text": [
      "100%|████████████████████████████████████████| 20/20 [1:09:24<00:00, 208.24s/it]\n"
     ]
    }
   ],
   "source": [
    "def run_interpolation_trial(alpha, radii, n_calib, gamma, eps = 0.00001):\n",
    "\n",
    "    x_train_final, y_train_final, x_calib, y_calib, x_test, y_test = generate_cqr_data(n_train = 2*n_calib)\n",
    "\n",
    "    reg = LinearRegression().fit(x_train_final, y_train_final)\n",
    "    scores_calib = np.abs(reg.predict(x_calib) - y_calib)\n",
    "        \n",
    "    prob = setup_full_cvx_dual(\n",
    "        x_calib, scores_calib, \"rbf\", gamma, alpha\n",
    "    )\n",
    "    K = pairwise_kernels(\n",
    "            X=x_calib,\n",
    "            metric=\"rbf\",\n",
    "            gamma=gamma\n",
    "        )\n",
    "    frac_interpolated = []\n",
    "    for radius in radii:\n",
    "        prob.param_dict['radius'].value = np.asarray([[radius]])\n",
    "        prob.solve(\n",
    "                solver='MOSEK', \n",
    "                verbose=False, \n",
    "                mosek_params={mosek.iparam.intpnt_solve_form: mosek.solveform.dual}\n",
    "        )\n",
    "        resids = (scores_calib -\n",
    "                    K @ prob.var_dict['weights'].value -\n",
    "                    prob.constraints[2].dual_value)\n",
    "        frac_interpolated.append(sum(np.abs(resids) < eps)/len(scores_calib))\n",
    "    return frac_interpolated\n",
    "\n",
    "num_radii=20\n",
    "radii = np.linspace(1,2000,num_radii)\n",
    "n_calibs = [250,500,750,1000,1500,2000]\n",
    "alpha = 0.9\n",
    "gamma = 2\n",
    "n_trials=20\n",
    "\n",
    "df = pd.DataFrame()\n",
    "for i in tqdm(range(n_trials)):\n",
    "    for n in n_calibs:\n",
    "        frac_interpolated = run_interpolation_trial(alpha,radii,n,gamma)\n",
    "        a_df = pd.DataFrame({'radius' : radii, 'frac_interpolated': frac_interpolated})\n",
    "        a_df['n_calib'] = n\n",
    "        df = pd.concat([df, a_df], axis=0)\n",
    "\n"
   ]
  },
  {
   "cell_type": "code",
   "execution_count": 57,
   "metadata": {},
   "outputs": [
    {
     "name": "stdout",
     "output_type": "stream",
     "text": [
      "         radius  frac_interpolated  n_calib    lambda\n",
      "0      1.000000             0.0000      250  1.000000\n",
      "1    106.210526             0.0320      250  0.009415\n",
      "2    211.421053             0.0440      250  0.004730\n",
      "3    316.631579             0.0400      250  0.003158\n",
      "4    421.842105             0.0240      250  0.002371\n",
      "..          ...                ...      ...       ...\n",
      "15  1579.157895             0.0055     2000  0.000633\n",
      "16  1684.368421             0.0055     2000  0.000594\n",
      "17  1789.578947             0.0055     2000  0.000559\n",
      "18  1894.789474             0.0070     2000  0.000528\n",
      "19  2000.000000             0.0065     2000  0.000500\n",
      "\n",
      "[2400 rows x 4 columns]\n"
     ]
    }
   ],
   "source": []
  },
  {
   "cell_type": "code",
   "execution_count": 86,
   "metadata": {},
   "outputs": [
    {
     "data": {
      "image/png": "[encoded data removed]",
      "text/plain": [
       "<Figure size 432x288 with 1 Axes>"
      ]
     },
     "metadata": {
      "needs_background": "light"
     },
     "output_type": "display_data"
    }
   ],
   "source": [
    "import seaborn as sns\n",
    "import pandas as pd\n",
    "\n",
    "df['lambda'] = 1/df['radius']\n",
    "melted_df = pd.melt(df[df['n_calib'] == 500], id_vars=['lambda'], value_vars=['frac_interpolated'])\n",
    "melted_df = melted_df.rename(columns={\"lambda\": \"Lambda\", \"value\": \"Fraction Interpolated\"})\n",
    "\n",
    "fig = sns.barplot(\n",
    "    melted_df, \n",
    "    x='Lambda', \n",
    "    y='Fraction Interpolated',\n",
    "    hue='variable',\n",
    "    palette=sns.color_palette(\"Set2\")\n",
    ")\n",
    "fig.legend_.remove()\n",
    "\n",
    "tick_locations = list(range(-1,num_radii,4))\n",
    "tick_locations[0] = 0\n",
    "tick_labels = [round(1/radii[num_radii - i - 1], 4) for i in tick_locations]\n",
    "\n",
    "\n",
    "fig.xaxis.set_major_locator(ticker.FixedLocator(tick_locations))\n",
    "fig.xaxis.set_major_formatter(ticker.FixedFormatter(tick_labels))\n",
    "\n",
    "plt.tight_layout()\n",
    "#fig.get_figure().savefig('interpolation.png')\n"
   ]
  }
 ],
 "metadata": {
  "kernelspec": {
   "display_name": "Python 3 (ipykernel)",
   "language": "python",
   "name": "python3"
  },
  "language_info": {
   "codemirror_mode": {
    "name": "ipython",
    "version": 3
   },
   "file_extension": ".py",
   "mimetype": "text/x-python",
   "name": "python",
   "nbconvert_exporter": "python",
   "pygments_lexer": "ipython3",
   "version": "3.9.5"
  }
 },
 "nbformat": 4,
 "nbformat_minor": 4
}
