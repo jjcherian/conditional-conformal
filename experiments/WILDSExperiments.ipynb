{
 "cells": [
  {
   "cell_type": "code",
   "execution_count": 88,
   "metadata": {},
   "outputs": [
    {
     "name": "stdout",
     "output_type": "stream",
     "text": [
      "The autoreload extension is already loaded. To reload it, use:\n",
      "  %reload_ext autoreload\n"
     ]
    }
   ],
   "source": [
    "import torch\n",
    "import torch.nn as nn\n",
    "import torchvision \n",
    "import torchvision.transforms as transforms\n",
    "import torchvision.transforms.functional as TF\n",
    "from sklearn.model_selection import KFold\n",
    "from sklearn.linear_model import LogisticRegression\n",
    "\n",
    "import pandas as pd \n",
    "import numpy as np\n",
    "import cvxpy as cp\n",
    "import math\n",
    "import matplotlib.pyplot as plt\n",
    "import seaborn as sns\n",
    "from tqdm import tqdm\n",
    "\n",
    "from random import sample\n",
    "import random\n",
    "\n",
    "from wilds import get_dataset\n",
    "from wilds.common.data_loaders import get_train_loader\n",
    "\n",
    "from conditionalconformal.synthetic_data import generate_cqr_data\n",
    "from conditionalconformal.condconf import setup_cvx_problem_calib\n",
    "from temperatureScaling import torch_ts\n",
    "\n",
    "%load_ext autoreload\n",
    "%autoreload 2"
   ]
  },
  {
   "cell_type": "markdown",
   "metadata": {},
   "source": [
    "### Load Data"
   ]
  },
  {
   "cell_type": "code",
   "execution_count": 4,
   "metadata": {},
   "outputs": [],
   "source": [
    "### functions for loading in pretrained neural network\n",
    "\n",
    "def stripPrefix(stateDict):\n",
    "    returnDict = {}\n",
    "    for key in stateDict:\n",
    "        newKey = key[6:]\n",
    "        returnDict[newKey] = stateDict[key]\n",
    "    return returnDict\n",
    "\n",
    "def myLoad(module, path, device=None):\n",
    "    if device is not None:\n",
    "        state = torch.load(path, map_location=device)\n",
    "    else:\n",
    "        state = torch.load(path)\n",
    "    state = stripPrefix(state['algorithm'])\n",
    "    \n",
    "    module.load_state_dict(state)\n",
    "    return \n"
   ]
  },
  {
   "cell_type": "code",
   "execution_count": 9,
   "metadata": {},
   "outputs": [
    {
     "data": {
      "text/plain": [
       "Linear(in_features=2048, out_features=1139, bias=True)"
      ]
     },
     "execution_count": 9,
     "metadata": {},
     "output_type": "execute_result"
    }
   ],
   "source": [
    "### Load in pretrained neural network\n",
    "dimOut = 1139\n",
    "device = torch.device('cuda' if torch.cuda.is_available() else 'cpu')\n",
    "\n",
    "constructor = torchvision.models.resnet50\n",
    "model = constructor()\n",
    "dimFeatures = model.fc.in_features\n",
    "lastLayer = nn.Linear(dimFeatures,dimOut)\n",
    "model.d_out = dimFeatures\n",
    "model.fc = lastLayer\n",
    "\n",
    "\n",
    "rx1Model = model.to(device)\n",
    "myLoad(rx1Model,\n",
    "            'data/rxrx1_seed_0_epoch_best_model.pth',\n",
    "            device=device)\n",
    "featurizer = rx1Model\n",
    "classifier = rx1Model.fc\n",
    "featurizer.fc = nn.Identity()\n",
    "\n",
    "rx1Model = nn.Sequential(*(featurizer,classifier))\n",
    "\n",
    "rx1Model.eval()\n",
    "featurizer.eval()\n",
    "classifier.eval()"
   ]
  },
  {
   "cell_type": "code",
   "execution_count": 10,
   "metadata": {},
   "outputs": [],
   "source": [
    "### Normalize images for neural net evaluation. Code taken from WILDS repository\n",
    "def initializeRxrx1Transform(): \n",
    "    def standardize(x: torch.Tensor) -> torch.Tensor:\n",
    "        mean = x.mean(dim=(1, 2))\n",
    "        std = x.std(dim=(1, 2))\n",
    "        std[std == 0.] = 1.\n",
    "        return TF.normalize(x, mean, std)\n",
    "    t_standardize = transforms.Lambda(lambda x: standardize(x))\n",
    "\n",
    "    transforms_ls = [\n",
    "        transforms.ToTensor(),\n",
    "        t_standardize,\n",
    "    ]\n",
    "    return transforms.Compose(transforms_ls)\n",
    "\n",
    "myTransform = initializeRxrx1Transform()\n",
    "\n",
    "torch.manual_seed(1)\n",
    "np.random.seed(1)\n",
    "random.seed(1)\n",
    "\n",
    "### Load in data from WILDS repository\n",
    "rx1Data = get_dataset(dataset=\"rxrx1\", download=False)\n",
    "rx1TestImages = rx1Data.get_subset(\n",
    "    \"test\",\n",
    "    transform = myTransform\n",
    ")\n",
    "metaData = pd.read_csv('data/rxrx1_v1.0/metadata.csv')\n",
    "metaData = metaData[metaData['dataset'] == 'test']"
   ]
  },
  {
   "cell_type": "code",
   "execution_count": 16,
   "metadata": {},
   "outputs": [],
   "source": [
    "n = len(rx1TestImages) \n",
    "\n",
    "### Get feature representation from pretrained neural network\n",
    "featureMat = np.zeros((n,2048))\n",
    "for i in range(n):\n",
    "    featureMat[i,:] = featurizer(rx1TestImages[i][0].reshape((1,3,256,256)).to(device)).cpu().detach().numpy()[0,:]\n",
    "\n",
    "### reshape meta data\n",
    "metaDataFinal = np.zeros((n,len(rx1TestImages[0][2])))\n",
    "\n",
    "### extract y values\n",
    "y = np.zeros(n)\n",
    "for i in range(n):\n",
    "    metaDataFinal[i,:] = rx1TestImages[i][2].numpy()\n",
    "    y[i] = rx1TestImages[i][1].numpy()\n",
    "    \n",
    "### get probabilities output by pretrained neural network\n",
    "rawProbMat = np.zeros((n,1139))\n",
    "for i in range(n):\n",
    "    rawProbMat[i,:] = classifier(torch.from_numpy(featureMat[i,:].reshape(1,2048)).to(torch.float32).to(device)).cpu().detach().numpy()[0,:]\n"
   ]
  },
  {
   "cell_type": "code",
   "execution_count": 17,
   "metadata": {},
   "outputs": [],
   "source": [
    "### Form train-calibration-test split\n",
    "trainingIndices = sample(range(len(featureMat)),int(len(featureMat)/2))\n",
    "featureSubset = sample(range(len(trainingIndices)),int(len(trainingIndices)/2))\n",
    "indicesFeatures = np.array(range(len(featureMat)))[trainingIndices][featureSubset]\n",
    "indicesCalibration = np.delete(np.array(range(len(featureMat)))[trainingIndices],featureSubset)\n",
    "indicesTest =  np.delete(range(len(featureMat)),trainingIndices)"
   ]
  },
  {
   "cell_type": "code",
   "execution_count": 20,
   "metadata": {},
   "outputs": [],
   "source": [
    "### Functions for computing conformity scores\n",
    "from temperatureScaling import torch_ts\n",
    "\n",
    "def softmax(x):\n",
    "    ex = np.exp(x - np.max(x))\n",
    "    return ex / ex.sum()\n",
    "\n",
    "def classConfScore(probs,y):\n",
    "    return sum(probs[probs > probs[int(y)]])\n",
    "\n",
    "def computeConformityScores(XTrain,XTest,yTrain,yTest):\n",
    "    T = torch_ts(XTrain,yTrain)\n",
    "    scaleFactor = T.detach().numpy()\n",
    "    \n",
    "    normXtrain = np.apply_along_axis(softmax,1,XTrain/scaleFactor)\n",
    "    normXtest = np.apply_along_axis(softmax,1,XTest/scaleFactor)\n",
    "\n",
    "    scoresTrain = np.zeros(len(yTrain))\n",
    "    for i in range(len(yTrain)):\n",
    "        scoresTrain[i] = classConfScore(normXtrain[i,:],yTrain[i])\n",
    "\n",
    "    scoresTest = np.zeros(len(yTest))\n",
    "    for i in range(len(yTest)):\n",
    "        scoresTest[i] = classConfScore(normXtest[i,:],yTest[i])\n",
    "    return scoresTrain, scoresTest\n",
    "\n",
    "### Compute conformity scores\n",
    "scoresCal, scoresTest = computeConformityScores(rawProbMat[indicesCalibration,:]\n",
    "                                                        ,rawProbMat[indicesTest,:],\n",
    "                                                        y[indicesCalibration],y[indicesTest])"
   ]
  },
  {
   "cell_type": "markdown",
   "metadata": {},
   "source": [
    "### Run Experiments"
   ]
  },
  {
   "cell_type": "markdown",
   "metadata": {},
   "source": [
    "#### Constructing Features Using Estimated Probabilities"
   ]
  },
  {
   "cell_type": "code",
   "execution_count": null,
   "metadata": {},
   "outputs": [
    {
     "name": "stderr",
     "output_type": "stream",
     "text": [
      " 65%|████████████████████████████████████████████████████████████████████████████████████████████████████████████████████████████████                                                                     | 13/20 [59:41<39:32, 338.93s/it]"
     ]
    }
   ],
   "source": [
    "### Run a multinomial logistic regression\n",
    "\n",
    "### Use cross validation to select regularization parameter\n",
    "def cvForFeatures(X, y, numCs = 20, minC = 0.001, maxC = 0.1): \n",
    "    folds = KFold(n_splits = 5, shuffle = True)\n",
    "    Cvalues = np.linspace(minC,maxC,numCs)\n",
    "    losses = np.zeros(numCs)\n",
    "    count = 0\n",
    "    for C in tqdm(Cvalues):\n",
    "        model = LogisticRegression(multi_class='multinomial', C = C, max_iter=5000)\n",
    "        for i, (trainPoints, testPoints) in enumerate(folds.split(X)):\n",
    "            reg = model.fit(X[trainPoints,:],y[trainPoints])\n",
    "            predictedProbs = reg.predict_proba(X[testPoints,:])\n",
    "            for j in range(len(testPoints)):\n",
    "                losses[count] = losses[count] - np.log(predictedProbs[j,int(y[testPoints][j])])/len(testPoints)\n",
    "        count = count + 1\n",
    "        \n",
    "    return Cvalues, losses\n",
    "\n",
    "def computeFeatures(XTrain, XCal, XTest, yTrain, Cvalues, losses):\n",
    "    model = LogisticRegression(multi_class='multinomial', C = Cvalues[np.argmin(losses)], max_iter=5000)\n",
    "    reg = model.fit(XTrain, yTrain)\n",
    "\n",
    "    featuresCal = reg.predict_proba(XCal)\n",
    "    featuresTest = reg.predict_proba(XTest)\n",
    "    \n",
    "    return featuresCal, featuresTest\n",
    "\n",
    "\n",
    "experiment = metaData['experiment'].copy().to_numpy()\n",
    "count = 0\n",
    "for i in np.unique(experiment):\n",
    "    experiment[experiment == i] = count\n",
    "    count = count + 1\n",
    "experiment = experiment.astype('int')\n",
    "\n",
    "Cvalues, losses = cvForFeatures(featureMat[indicesFeatures,:],experiment[indicesFeatures],\n",
    "                                                numCs = 20, minC = 0.001, maxC = 0.1)\n",
    "plt.plot(Cvalues,losses)\n",
    "\n",
    "finalFeaturesCal, finalFeaturesTest = computeFeatures(featureMat[indicesFeatures,:],\n",
    "                                                                           featureMat[indicesCalibration,:],\n",
    "                                                                           featureMat[indicesTest,:],\n",
    "                                                                           experiment[indicesFeatures], Cvalues, losses)\n"
   ]
  },
  {
   "cell_type": "code",
   "execution_count": 92,
   "metadata": {},
   "outputs": [
    {
     "name": "stderr",
     "output_type": "stream",
     "text": [
      "100%|████████████████████████████████████████████████████████████████████████████████████████████████████████████████████████████████████████████████████████████████████████████████████████████████| 17216/17216 [34:11<00:00,  8.39it/s]\n"
     ]
    }
   ],
   "source": [
    "### Check if split conformal and our conditional calibration method cover the test points\n",
    "def computeCoverages(XCal, scoresCal, XTest, scoresTest, alpha):\n",
    "    qSplit = np.quantile(scoresCal,[math.ceil((1-alpha) * (len(scoresCal) + 1)) / len(scoresCal)])\n",
    "    coveragesSplit = scoresTest <= qSplit\n",
    "\n",
    "    coveragesCond = np.zeros(len(XTest))\n",
    "    for i in tqdm(range(len(XTest))):\n",
    "        prob = setup_cvx_problem_calib(1-alpha,None,\n",
    "                                               np.concatenate((scoresCal,np.array([scoresTest[i]]))), np.vstack((XCal,XTest[i,:])),{})\n",
    "        if \"MOSEK\" in cp.installed_solvers():\n",
    "            prob.solve(solver=\"MOSEK\")\n",
    "        else:\n",
    "            prob.solve()\n",
    "        coveragesCond[i] = scoresTest[i] <= XTest[i,:]@prob.constraints[2].dual_value\n",
    "\n",
    "    return coveragesSplit, coveragesCond\n",
    "\n",
    "coveragesSplit, coveragesCond = computeCoverages(finalFeaturesCal, scoresCal,\n",
    "                                                        finalFeaturesTest, scoresTest, alpha = 0.1)"
   ]
  },
  {
   "cell_type": "code",
   "execution_count": 93,
   "metadata": {},
   "outputs": [],
   "source": [
    "### Organize results into data frames for plotting\n",
    "def constructCoverageDf(coveragesSplit, coveragesCond, subgrouping, name):\n",
    "    covDf = pd.DataFrame({name: ['Marginal','Marginal'], 'Type': ['Split Conformal','Conditional Calibration'],\n",
    "                          'Coverage': [np.mean(coveragesSplit),\n",
    "                                       np.mean(coveragesCond)],\n",
    "                         'SampleSize': [len(coveragesSplit),\n",
    "                                       len(coveragesCond)]})\n",
    "    for i in np.unique(subgrouping):\n",
    "        newDf = pd.DataFrame({name: [int(i)+1,int(i)+1], 'Type': ['Split Conformal','Conditional Calibration'],\n",
    "                              'Coverage': [np.mean(coveragesSplit[subgrouping == i]),\n",
    "                                           np.mean(coveragesCond[subgrouping == i])],\n",
    "                             'SampleSize': [sum(subgrouping == i),\n",
    "                                           sum(subgrouping == i)]})\n",
    "        covDf = pd.concat([covDf,newDf])\n",
    "    covDf['error'] = 1.96*np.sqrt(covDf['Coverage']*(1-covDf['Coverage'])/covDf['SampleSize'])\n",
    "    \n",
    "    return covDf\n",
    "\n",
    "count = 0\n",
    "for name in np.unique(metaData['cell_type']):\n",
    "    metaData.loc[metaData['cell_type'] == name, 'cell_type'] = count\n",
    "    count = count + 1\n",
    "count = 0\n",
    "for name in np.unique(metaData['experiment']):\n",
    "    metaData.loc[metaData['experiment'] == name, 'experiment'] = count\n",
    "    count = count + 1\n",
    "\n",
    "covDfCells= constructCoverageDf(coveragesSplit, coveragesCond,\n",
    "                                        metaData['ct'].iloc[indicesTest],\n",
    "                                        name = 'Cell Type')\n",
    "\n",
    "covDfExperiments = constructCoverageDf(coveragesSplit, coveragesCond,\n",
    "                                              metaData['experiment'].iloc[indicesTest],\n",
    "                                              name = 'Experiment')"
   ]
  },
  {
   "cell_type": "code",
   "execution_count": 94,
   "metadata": {},
   "outputs": [
    {
     "data": {
      "image/png": "[encoded data removed]",
      "text/plain": [
       "<Figure size 1490.4x595.44 with 2 Axes>"
      ]
     },
     "metadata": {},
     "output_type": "display_data"
    }
   ],
   "source": [
    "### Plot Results\n",
    "covDfExperiments['Miscoverage'] = 1-covDfExperiments['Coverage']\n",
    "covDfCells['Miscoverage'] = 1-covDfCells['Coverage']\n",
    "sns.set(rc={'figure.figsize':(20.7,8.27)})\n",
    "sns.set(font_scale=2)\n",
    "sns.set_style(style='white')\n",
    "\n",
    "fig = plt.figure()\n",
    "\n",
    "ax1 = fig.add_subplot(1, 2, 1)\n",
    "f = sns.barplot(covDfCells,x='Cell Type',y='Miscoverage',hue='Type',ax=ax1)\n",
    "f.axhline(0.1, color='red')\n",
    "x_coords = [p.get_x() + 0.5 * p.get_width() for p in f.patches]\n",
    "y_coords = [p.get_height() for p in f.patches]\n",
    "f.errorbar(x=x_coords, y=y_coords, yerr=covDfCells['error'], fmt=\"none\", c=\"k\")\n",
    "plt.legend([],[], frameon=False)\n",
    "\n",
    "ax2 = fig.add_subplot(1, 2, 2, sharey = ax1)\n",
    "f2 = sns.barplot(covDfExperiments,x='Experiment',y='Miscoverage',hue='Type',ax=ax2)\n",
    "f2.axhline(0.1, color='red')\n",
    "plt.legend(bbox_to_anchor=(1.02, 1), loc='upper left', borderaxespad=0)\n",
    "\n",
    "x_coords = [p.get_x() + 0.5 * p.get_width() for p in f2.patches]\n",
    "y_coords = [p.get_height() for p in f2.patches]\n",
    "f2.errorbar(x=x_coords, y=y_coords, yerr=covDfExperiments['error'], fmt=\"none\", c=\"k\")\n",
    "plt.legend(title='')\n",
    "plt.legend(loc='upper center')\n",
    "\n",
    "plt.tight_layout()"
   ]
  },
  {
   "cell_type": "markdown",
   "metadata": {},
   "source": [
    "### PCA Experiment"
   ]
  },
  {
   "cell_type": "code",
   "execution_count": 95,
   "metadata": {},
   "outputs": [
    {
     "ename": "NameError",
     "evalue": "name 'SIS' is not defined",
     "output_type": "error",
     "traceback": [
      "\u001b[0;31m---------------------------------------------------------------------------\u001b[0m",
      "\u001b[0;31mNameError\u001b[0m                                 Traceback (most recent call last)",
      "Input \u001b[0;32mIn [95]\u001b[0m, in \u001b[0;36m<cell line: 11>\u001b[0;34m()\u001b[0m\n\u001b[1;32m      8\u001b[0m sns\u001b[38;5;241m.\u001b[39mset(font_scale\u001b[38;5;241m=\u001b[39m\u001b[38;5;241m2\u001b[39m)\n\u001b[1;32m      9\u001b[0m sns\u001b[38;5;241m.\u001b[39mset_style(style\u001b[38;5;241m=\u001b[39m\u001b[38;5;124m'\u001b[39m\u001b[38;5;124mwhitegrid\u001b[39m\u001b[38;5;124m'\u001b[39m)\n\u001b[0;32m---> 11\u001b[0m plt\u001b[38;5;241m.\u001b[39mplot(\u001b[38;5;28mrange\u001b[39m(\u001b[38;5;28mlen\u001b[39m(\u001b[43mSIS\u001b[49m)),SIS, lw\u001b[38;5;241m=\u001b[39m\u001b[38;5;241m3\u001b[39m)\n\u001b[1;32m     12\u001b[0m plt\u001b[38;5;241m.\u001b[39mxlabel(\u001b[38;5;124m\"\u001b[39m\u001b[38;5;124mComponent Number\u001b[39m\u001b[38;5;124m\"\u001b[39m)\n\u001b[1;32m     13\u001b[0m plt\u001b[38;5;241m.\u001b[39mylabel(\u001b[38;5;124m\"\u001b[39m\u001b[38;5;124mSingular Value\u001b[39m\u001b[38;5;124m\"\u001b[39m)\n",
      "\u001b[0;31mNameError\u001b[0m: name 'SIS' is not defined"
     ]
    }
   ],
   "source": [
    "### Compute principle components\n",
    "from scipy.linalg import svd\n",
    "\n",
    "U, S, VT = svd(featureMat[indicesFeatures,:])\n",
    "\n",
    "### Make scree plot\n",
    "sns.set(rc={'figure.figsize':(20.7,8.27)})\n",
    "sns.set(font_scale=2)\n",
    "sns.set_style(style='whitegrid')\n",
    "\n",
    "plt.plot(range(len(SIS)),SIS, lw=3)\n",
    "plt.xlabel(\"Component Number\")\n",
    "plt.ylabel(\"Singular Value\")\n",
    "plt.axhline(SIS[70],color='black',lw=3)\n",
    "\n",
    "### Construct features\n",
    "finalFeaturesCalPCA = featureMat[indicesCal,:] @ (VTIS.T[:,0:70])\n",
    "finalFeaturesTestPCA = featureMat[indicesTest,:] @ (VTIS.T[:,0:70])\n",
    "finalFeaturesCalPCA = np.column_stack((finalFeaturesCalPCA,np.ones(len(finalFeaturesCalPCA))))\n",
    "finalFeaturesTestPCA = np.column_stack((finalFeaturesTestPCA,np.ones(len(finalFeaturesTestPCA))))\n"
   ]
  },
  {
   "cell_type": "code",
   "execution_count": null,
   "metadata": {},
   "outputs": [],
   "source": [
    "### Evaluate coverage\n",
    "coveragesSplitPCA, coveragesCondPCA = computeCoverages(finalFeaturesCalPCA, scoresCal,\n",
    "                                                        finalFeaturesTestPCA, scoresTest, alpha = 0.1)"
   ]
  },
  {
   "cell_type": "code",
   "execution_count": null,
   "metadata": {},
   "outputs": [],
   "source": [
    "### Organize results into dataframs for plotting\n",
    "covDfCellsPCA = constructCoverageDf(coveragesSplitPCA, coveragesCondPCA,\n",
    "                                      metaDataDf['cell_type'].iloc[indicesTest], name = 'Cell Type')\n",
    "\n",
    "covDfExperimentsPCA = constructCoverageDf(coveragesSplitPCA, coveragesCondPCA, \n",
    "                                            metaDataDf['experiment'].iloc[indicesTest], name = 'Experiment')"
   ]
  },
  {
   "cell_type": "code",
   "execution_count": null,
   "metadata": {},
   "outputs": [],
   "source": [
    "covDfCellsPCA['Miscoverage'] = 1-covDfCellsPCA['Coverage']\n",
    "covDfExperimentsPCA['Miscoverage'] = 1-covDfExperimentsPCA['Coverage']\n",
    "\n",
    "sns.set(rc={'figure.figsize':(20.7,8.27)})\n",
    "sns.set(font_scale=2)\n",
    "sns.set_style(style='white')\n",
    "\n",
    "fig = plt.figure()\n",
    "\n",
    "ax1 = fig.add_subplot(1, 2, 1)\n",
    "f = sns.barplot(covDfCellsPCA,x='Cell Type',y='Miscoverage',hue='Type',ax=ax1)\n",
    "f.axhline(0.1, color='red')\n",
    "plt.legend([],[], frameon=False)\n",
    "\n",
    "x_coords = [p.get_x() + 0.5 * p.get_width() for p in f.patches]\n",
    "y_coords = [p.get_height() for p in f.patches]\n",
    "f.errorbar(x=x_coords, y=y_coords, yerr=covDfCellsPCA['error'], fmt=\"none\", c=\"k\")\n",
    "\n",
    "ax2 = fig.add_subplot(1, 2, 2, sharey = ax1)\n",
    "f2 = sns.barplot(covDfExperimentsPCA,x='Experiment',y='Miscoverage',hue='Type',ax=ax2)\n",
    "f2.axhline(0.1, color='red')\n",
    "plt.legend(bbox_to_anchor=(1.02, 1), loc='upper left', borderaxespad=0)\n",
    "\n",
    "x_coords = [p.get_x() + 0.5 * p.get_width() for p in f2.patches]\n",
    "y_coords = [p.get_height() for p in f2.patches]\n",
    "f2.errorbar(x=x_coords, y=y_coords, yerr=covDfExperimentsPCA['error'], fmt=\"none\", c=\"k\")\n",
    "plt.legend([],[], frameon=False)\n",
    "plt.legend(title='')\n",
    "plt.legend(loc='upper center')\n",
    "\n",
    "plt.tight_layout()"
   ]
  }
 ],
 "metadata": {
  "kernelspec": {
   "display_name": "conformal-gan",
   "language": "python",
   "name": "conformal-gan"
  },
  "language_info": {
   "codemirror_mode": {
    "name": "ipython",
    "version": 3
   },
   "file_extension": ".py",
   "mimetype": "text/x-python",
   "name": "python",
   "nbconvert_exporter": "python",
   "pygments_lexer": "ipython3",
   "version": "3.8.13"
  },
  "toc-autonumbering": true
 },
 "nbformat": 4,
 "nbformat_minor": 4
}
