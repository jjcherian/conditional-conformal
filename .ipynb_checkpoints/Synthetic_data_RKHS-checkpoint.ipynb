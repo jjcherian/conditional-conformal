{
 "cells": [
  {
   "cell_type": "code",
   "execution_count": 1,
   "metadata": {
    "scrolled": true
   },
   "outputs": [],
   "source": [
    "%load_ext autoreload\n",
    "%autoreload 2"
   ]
  },
  {
   "cell_type": "code",
   "execution_count": 2,
   "metadata": {},
   "outputs": [],
   "source": [
    "import pandas as pd\n",
    "import numpy as np\n",
    "import matplotlib.pyplot as plt\n",
    "import seaborn as sns\n",
    "import cvxpy as cvx\n",
    "\n",
    "from sklearn.linear_model import LinearRegression\n",
    "from sklearn.model_selection import train_test_split\n",
    "from sklearn.metrics.pairwise import rbf_kernel, pairwise_kernels"
   ]
  },
  {
   "cell_type": "code",
   "execution_count": 3,
   "metadata": {},
   "outputs": [],
   "source": [
    "from rkhs import compute_shifted_coverage, compute_adaptive_threshold\n"
   ]
  },
  {
   "cell_type": "code",
   "execution_count": 4,
   "metadata": {},
   "outputs": [],
   "source": [
    "def generate_cqr_data():\n",
    "    # number of training examples\n",
    "    n_train = 2000\n",
    "    # number of test examples (to evaluate average coverage and length)\n",
    "    n_test = 5000\n",
    "\n",
    "    def f(x):\n",
    "        ''' Construct data (1D example)\n",
    "        '''\n",
    "        ax = 0*x\n",
    "        for i in range(len(x)):\n",
    "            ax[i] = np.random.poisson(np.sin(x[i])**2+0.1) + 0.03*x[i]*np.random.randn(1)\n",
    "            ax[i] += 25*(np.random.uniform(0,1,1)<0.01)*np.random.randn(1)\n",
    "        return ax.astype(np.float32)\n",
    "\n",
    "    # training features\n",
    "    x_train = np.random.uniform(0, 5.0, size=n_train).astype(np.float32)\n",
    "\n",
    "    # test features\n",
    "    x_test = np.random.uniform(0, 5.0, size=n_test).astype(np.float32)\n",
    "\n",
    "    # generate labels\n",
    "    y_train = f(x_train)\n",
    "    y_test = f(x_test)\n",
    "\n",
    "    # reshape the features\n",
    "    x_train = np.reshape(x_train,(n_train,1))\n",
    "    x_test = np.reshape(x_test,(n_test,1))\n",
    "    \n",
    "    calibration_set_size = 1000\n",
    "    train_set_size = len(y_train) - calibration_set_size\n",
    "    x_train_final = x_train[ : train_set_size]\n",
    "    x_calib = x_train[train_set_size : ]\n",
    "    y_train_final = y_train[ : train_set_size]\n",
    "    y_calib = y_train[train_set_size : ]\n",
    "    \n",
    "    return x_train_final, y_train_final, x_calib, y_calib, x_test, y_test\n"
   ]
  },
  {
   "cell_type": "code",
   "execution_count": 5,
   "metadata": {
    "scrolled": true
   },
   "outputs": [
    {
     "name": "stderr",
     "output_type": "stream",
     "text": [
      "  0%|                                        | 5/5000 [00:06<1:51:01,  1.33s/it]\n"
     ]
    },
    {
     "ename": "NameError",
     "evalue": "name 'SolverError' is not defined",
     "output_type": "error",
     "traceback": [
      "\u001b[0;31m---------------------------------------------------------------------------\u001b[0m",
      "\u001b[0;31mKeyboardInterrupt\u001b[0m                         Traceback (most recent call last)",
      "Input \u001b[0;32mIn [5]\u001b[0m, in \u001b[0;36m<module>\u001b[0;34m\u001b[0m\n\u001b[1;32m     40\u001b[0m \u001b[38;5;28;01mtry\u001b[39;00m:\n\u001b[0;32m---> 41\u001b[0m     est_cov, emp_cov \u001b[38;5;241m=\u001b[39m \u001b[43mrun_synthetic_trial\u001b[49m\u001b[43m(\u001b[49m\u001b[43mreg\u001b[49m\u001b[43m,\u001b[49m\u001b[43m \u001b[49m\u001b[43malpha\u001b[49m\u001b[43m,\u001b[49m\u001b[43m \u001b[49m\u001b[43mradius\u001b[49m\u001b[43m,\u001b[49m\u001b[43m \u001b[49m\u001b[43mgamma\u001b[49m\u001b[43m,\u001b[49m\u001b[43m \u001b[49m\u001b[43mn_test\u001b[49m\u001b[43m,\u001b[49m\u001b[43m \u001b[49m\u001b[43mshift_loc\u001b[49m\u001b[43m)\u001b[49m\n\u001b[1;32m     42\u001b[0m     est_coverages\u001b[38;5;241m.\u001b[39mappend(est_cov)\n",
      "Input \u001b[0;32mIn [5]\u001b[0m, in \u001b[0;36mrun_synthetic_trial\u001b[0;34m(reg, alpha, radius, gamma, n_test, shift_loc)\u001b[0m\n\u001b[1;32m     11\u001b[0m scores_test \u001b[38;5;241m=\u001b[39m np\u001b[38;5;241m.\u001b[39mabs(reg\u001b[38;5;241m.\u001b[39mpredict(x_test) \u001b[38;5;241m-\u001b[39m y_test)\n\u001b[0;32m---> 13\u001b[0m est_coverage, weighted_coverage, thresholds \u001b[38;5;241m=\u001b[39m \u001b[43mcompute_shifted_coverage\u001b[49m\u001b[43m(\u001b[49m\n\u001b[1;32m     14\u001b[0m \u001b[43m    \u001b[49m\u001b[43mscores_test\u001b[49m\u001b[43m,\u001b[49m\n\u001b[1;32m     15\u001b[0m \u001b[43m    \u001b[49m\u001b[43mscores_calib\u001b[49m\u001b[43m,\u001b[49m\n\u001b[1;32m     16\u001b[0m \u001b[43m    \u001b[49m\u001b[43mx_calib\u001b[49m\u001b[43m,\u001b[49m\n\u001b[1;32m     17\u001b[0m \u001b[43m    \u001b[49m\u001b[43mx_test\u001b[49m\u001b[43m[\u001b[49m\u001b[38;5;241;43m0\u001b[39;49m\u001b[43m:\u001b[49m\u001b[43mn_test\u001b[49m\u001b[43m,\u001b[49m\u001b[43m]\u001b[49m\u001b[43m,\u001b[49m\n\u001b[1;32m     18\u001b[0m \u001b[43m    \u001b[49m\u001b[43mshift_loc\u001b[49m\u001b[43m,\u001b[49m\n\u001b[1;32m     19\u001b[0m \u001b[43m    \u001b[49m\u001b[43mkernel\u001b[49m\u001b[38;5;241;43m=\u001b[39;49m\u001b[38;5;124;43m\"\u001b[39;49m\u001b[38;5;124;43mrbf\u001b[39;49m\u001b[38;5;124;43m\"\u001b[39;49m\u001b[43m,\u001b[49m\n\u001b[1;32m     20\u001b[0m \u001b[43m    \u001b[49m\u001b[43malpha\u001b[49m\u001b[38;5;241;43m=\u001b[39;49m\u001b[43malpha\u001b[49m\u001b[43m,\u001b[49m\n\u001b[1;32m     21\u001b[0m \u001b[43m    \u001b[49m\u001b[43mradius\u001b[49m\u001b[38;5;241;43m=\u001b[39;49m\u001b[43mradius\u001b[49m\u001b[43m,\u001b[49m\n\u001b[1;32m     22\u001b[0m \u001b[43m    \u001b[49m\u001b[43mgamma\u001b[49m\u001b[38;5;241;43m=\u001b[39;49m\u001b[43mgamma\u001b[49m\n\u001b[1;32m     23\u001b[0m \u001b[43m\u001b[49m\u001b[43m)\u001b[49m\n\u001b[1;32m     25\u001b[0m \u001b[38;5;28;01mreturn\u001b[39;00m est_coverage, weighted_coverage\n",
      "File \u001b[0;32m~/Documents/ConformalGans/Code/conformal-gan/rkhs.py:345\u001b[0m, in \u001b[0;36mcompute_shifted_coverage\u001b[0;34m(scores_test, scores_calib, x_calib, x_test, shift_loc, kernel, alpha, radius, gamma, z_calib, z_test, exact, eps)\u001b[0m\n\u001b[1;32m    344\u001b[0m     M \u001b[38;5;241m=\u001b[39m \u001b[38;5;28;01mNone\u001b[39;00m\n\u001b[0;32m--> 345\u001b[0m f_hat \u001b[38;5;241m=\u001b[39m \u001b[43mcompute_adaptive_threshold\u001b[49m\u001b[43m(\u001b[49m\n\u001b[1;32m    346\u001b[0m \u001b[43m    \u001b[49m\u001b[43mprob\u001b[49m\u001b[43m,\u001b[49m\n\u001b[1;32m    347\u001b[0m \u001b[43m    \u001b[49m\u001b[43mscores_calib\u001b[49m\u001b[43m,\u001b[49m\n\u001b[1;32m    348\u001b[0m \u001b[43m    \u001b[49m\u001b[43mx_calib\u001b[49m\u001b[43m,\u001b[49m\n\u001b[1;32m    349\u001b[0m \u001b[43m    \u001b[49m\u001b[43mx_test\u001b[49m\u001b[43m[\u001b[49m\u001b[43mi\u001b[49m\u001b[43m,\u001b[49m\u001b[43m:\u001b[49m\u001b[43m]\u001b[49m\u001b[43m,\u001b[49m\n\u001b[1;32m    350\u001b[0m \u001b[43m    \u001b[49m\u001b[43mkernel\u001b[49m\u001b[38;5;241;43m=\u001b[39;49m\u001b[43mkernel\u001b[49m\u001b[43m,\u001b[49m\n\u001b[1;32m    351\u001b[0m \u001b[43m    \u001b[49m\u001b[43mgamma\u001b[49m\u001b[38;5;241;43m=\u001b[39;49m\u001b[43mgamma\u001b[49m\u001b[43m,\u001b[49m\n\u001b[1;32m    352\u001b[0m \u001b[43m    \u001b[49m\u001b[43mradius\u001b[49m\u001b[38;5;241;43m=\u001b[39;49m\u001b[43mradius\u001b[49m\u001b[43m,\u001b[49m\n\u001b[1;32m    353\u001b[0m \u001b[43m    \u001b[49m\u001b[43mz_calib\u001b[49m\u001b[43m \u001b[49m\u001b[38;5;241;43m=\u001b[39;49m\u001b[43m \u001b[49m\u001b[43mz_calib\u001b[49m\u001b[43m,\u001b[49m\n\u001b[1;32m    354\u001b[0m \u001b[43m    \u001b[49m\u001b[43mz_test\u001b[49m\u001b[43m \u001b[49m\u001b[38;5;241;43m=\u001b[39;49m\u001b[43m \u001b[49m\u001b[43mz_test\u001b[49m\u001b[43m[\u001b[49m\u001b[43mi\u001b[49m\u001b[43m,\u001b[49m\u001b[43m:\u001b[49m\u001b[43m]\u001b[49m\u001b[43m,\u001b[49m\n\u001b[1;32m    355\u001b[0m \u001b[43m    \u001b[49m\u001b[43mM\u001b[49m\u001b[43m \u001b[49m\u001b[38;5;241;43m=\u001b[39;49m\u001b[43m \u001b[49m\u001b[43mM\u001b[49m\n\u001b[1;32m    356\u001b[0m \u001b[43m\u001b[49m\u001b[43m)\u001b[49m\n\u001b[1;32m    357\u001b[0m \u001b[38;5;28;01mif\u001b[39;00m \u001b[38;5;129;01mnot\u001b[39;00m kernel \u001b[38;5;129;01mis\u001b[39;00m \u001b[38;5;28;01mNone\u001b[39;00m:\n",
      "File \u001b[0;32m~/Documents/ConformalGans/Code/conformal-gan/rkhs.py:216\u001b[0m, in \u001b[0;36mcompute_adaptive_threshold\u001b[0;34m(prob, scores_calib, x_calib, x_test, kernel, gamma, M, radius, z_calib, z_test)\u001b[0m\n\u001b[1;32m    205\u001b[0m prob \u001b[38;5;241m=\u001b[39m finish_dual_setup(\n\u001b[1;32m    206\u001b[0m             prob,\n\u001b[1;32m    207\u001b[0m             scores_calib, \n\u001b[0;32m   (...)\u001b[0m\n\u001b[1;32m    214\u001b[0m             z_test\u001b[38;5;241m.\u001b[39mreshape((\u001b[38;5;241m1\u001b[39m,z_calib\u001b[38;5;241m.\u001b[39mshape[\u001b[38;5;241m1\u001b[39m]))\n\u001b[1;32m    215\u001b[0m         )\n\u001b[0;32m--> 216\u001b[0m \u001b[43mprob\u001b[49m\u001b[38;5;241;43m.\u001b[39;49m\u001b[43msolve\u001b[49m\u001b[43m(\u001b[49m\n\u001b[1;32m    217\u001b[0m \u001b[43m    \u001b[49m\u001b[43msolver\u001b[49m\u001b[38;5;241;43m=\u001b[39;49m\u001b[38;5;124;43m'\u001b[39;49m\u001b[38;5;124;43mMOSEK\u001b[39;49m\u001b[38;5;124;43m'\u001b[39;49m\u001b[43m,\u001b[49m\u001b[43m \u001b[49m\n\u001b[1;32m    218\u001b[0m \u001b[43m    \u001b[49m\u001b[43mverbose\u001b[49m\u001b[38;5;241;43m=\u001b[39;49m\u001b[38;5;28;43;01mFalse\u001b[39;49;00m\u001b[43m,\u001b[49m\u001b[43m \u001b[49m\n\u001b[1;32m    219\u001b[0m \u001b[43m    \u001b[49m\u001b[43mmosek_params\u001b[49m\u001b[38;5;241;43m=\u001b[39;49m\u001b[43m{\u001b[49m\u001b[43mmosek\u001b[49m\u001b[38;5;241;43m.\u001b[39;49m\u001b[43miparam\u001b[49m\u001b[38;5;241;43m.\u001b[39;49m\u001b[43mintpnt_solve_form\u001b[49m\u001b[43m:\u001b[49m\u001b[43m \u001b[49m\u001b[43mmosek\u001b[49m\u001b[38;5;241;43m.\u001b[39;49m\u001b[43msolveform\u001b[49m\u001b[38;5;241;43m.\u001b[39;49m\u001b[43mdual\u001b[49m\u001b[43m}\u001b[49m\n\u001b[1;32m    220\u001b[0m \u001b[43m\u001b[49m\u001b[43m)\u001b[49m\n\u001b[1;32m    222\u001b[0m var_dict \u001b[38;5;241m=\u001b[39m {}\n",
      "File \u001b[0;32m/usr/local/lib/python3.9/site-packages/cvxpy/problems/problem.py:473\u001b[0m, in \u001b[0;36mProblem.solve\u001b[0;34m(self, *args, **kwargs)\u001b[0m\n\u001b[1;32m    472\u001b[0m     solve_func \u001b[38;5;241m=\u001b[39m Problem\u001b[38;5;241m.\u001b[39m_solve\n\u001b[0;32m--> 473\u001b[0m \u001b[38;5;28;01mreturn\u001b[39;00m \u001b[43msolve_func\u001b[49m\u001b[43m(\u001b[49m\u001b[38;5;28;43mself\u001b[39;49m\u001b[43m,\u001b[49m\u001b[43m \u001b[49m\u001b[38;5;241;43m*\u001b[39;49m\u001b[43margs\u001b[49m\u001b[43m,\u001b[49m\u001b[43m \u001b[49m\u001b[38;5;241;43m*\u001b[39;49m\u001b[38;5;241;43m*\u001b[39;49m\u001b[43mkwargs\u001b[49m\u001b[43m)\u001b[49m\n",
      "File \u001b[0;32m/usr/local/lib/python3.9/site-packages/cvxpy/problems/problem.py:975\u001b[0m, in \u001b[0;36mProblem._solve\u001b[0;34m(self, solver, warm_start, verbose, gp, qcp, requires_grad, enforce_dpp, **kwargs)\u001b[0m\n\u001b[1;32m    974\u001b[0m start \u001b[38;5;241m=\u001b[39m time\u001b[38;5;241m.\u001b[39mtime()\n\u001b[0;32m--> 975\u001b[0m solution \u001b[38;5;241m=\u001b[39m \u001b[43msolving_chain\u001b[49m\u001b[38;5;241;43m.\u001b[39;49m\u001b[43msolve_via_data\u001b[49m\u001b[43m(\u001b[49m\n\u001b[1;32m    976\u001b[0m \u001b[43m    \u001b[49m\u001b[38;5;28;43mself\u001b[39;49m\u001b[43m,\u001b[49m\u001b[43m \u001b[49m\u001b[43mdata\u001b[49m\u001b[43m,\u001b[49m\u001b[43m \u001b[49m\u001b[43mwarm_start\u001b[49m\u001b[43m,\u001b[49m\u001b[43m \u001b[49m\u001b[43mverbose\u001b[49m\u001b[43m,\u001b[49m\u001b[43m \u001b[49m\u001b[43mkwargs\u001b[49m\u001b[43m)\u001b[49m\n\u001b[1;32m    977\u001b[0m end \u001b[38;5;241m=\u001b[39m time\u001b[38;5;241m.\u001b[39mtime()\n",
      "File \u001b[0;32m/usr/local/lib/python3.9/site-packages/cvxpy/reductions/solvers/solving_chain.py:343\u001b[0m, in \u001b[0;36mSolvingChain.solve_via_data\u001b[0;34m(self, problem, data, warm_start, verbose, solver_opts)\u001b[0m\n\u001b[1;32m    309\u001b[0m \u001b[38;5;124;03m\"\"\"Solves the problem using the data output by the an apply invocation.\u001b[39;00m\n\u001b[1;32m    310\u001b[0m \n\u001b[1;32m    311\u001b[0m \u001b[38;5;124;03mThe semantics are:\u001b[39;00m\n\u001b[0;32m   (...)\u001b[0m\n\u001b[1;32m    341\u001b[0m \u001b[38;5;124;03m    a Solution object.\u001b[39;00m\n\u001b[1;32m    342\u001b[0m \u001b[38;5;124;03m\"\"\"\u001b[39;00m\n\u001b[0;32m--> 343\u001b[0m \u001b[38;5;28;01mreturn\u001b[39;00m \u001b[38;5;28;43mself\u001b[39;49m\u001b[38;5;241;43m.\u001b[39;49m\u001b[43msolver\u001b[49m\u001b[38;5;241;43m.\u001b[39;49m\u001b[43msolve_via_data\u001b[49m\u001b[43m(\u001b[49m\u001b[43mdata\u001b[49m\u001b[43m,\u001b[49m\u001b[43m \u001b[49m\u001b[43mwarm_start\u001b[49m\u001b[43m,\u001b[49m\u001b[43m \u001b[49m\u001b[43mverbose\u001b[49m\u001b[43m,\u001b[49m\n\u001b[1;32m    344\u001b[0m \u001b[43m                                  \u001b[49m\u001b[43msolver_opts\u001b[49m\u001b[43m,\u001b[49m\u001b[43m \u001b[49m\u001b[43mproblem\u001b[49m\u001b[38;5;241;43m.\u001b[39;49m\u001b[43m_solver_cache\u001b[49m\u001b[43m)\u001b[49m\n",
      "File \u001b[0;32m/usr/local/lib/python3.9/site-packages/cvxpy/reductions/solvers/conic_solvers/mosek_conif.py:238\u001b[0m, in \u001b[0;36mMOSEK.solve_via_data\u001b[0;34m(self, data, warm_start, verbose, solver_opts, solver_cache)\u001b[0m\n\u001b[1;32m    237\u001b[0m     task\u001b[38;5;241m.\u001b[39mwritedata(save_file)\n\u001b[0;32m--> 238\u001b[0m \u001b[43mtask\u001b[49m\u001b[38;5;241;43m.\u001b[39;49m\u001b[43moptimize\u001b[49m\u001b[43m(\u001b[49m\u001b[43m)\u001b[49m\n\u001b[1;32m    240\u001b[0m \u001b[38;5;28;01mif\u001b[39;00m verbose:\n",
      "File \u001b[0;32m/usr/local/lib/python3.9/site-packages/mosek/__init__.py:10777\u001b[0m, in \u001b[0;36mTask.optimize\u001b[0;34m(self, *args, **kwds)\u001b[0m\n\u001b[1;32m  10771\u001b[0m \u001b[38;5;124;03m\"\"\"\u001b[39;00m\n\u001b[1;32m  10772\u001b[0m \u001b[38;5;124;03mOptimizes the problem.\u001b[39;00m\n\u001b[1;32m  10773\u001b[0m \u001b[38;5;124;03m\u001b[39;00m\n\u001b[1;32m  10774\u001b[0m \u001b[38;5;124;03moptimize() -> (trmcode)\u001b[39;00m\n\u001b[1;32m  10775\u001b[0m \u001b[38;5;124;03m  [trmcode : mosek.rescode]  Is either OK or a termination response code.  \u001b[39;00m\n\u001b[1;32m  10776\u001b[0m \u001b[38;5;124;03m\"\"\"\u001b[39;00m\n\u001b[0;32m> 10777\u001b[0m \u001b[38;5;28;01mreturn\u001b[39;00m \u001b[38;5;28;43mself\u001b[39;49m\u001b[38;5;241;43m.\u001b[39;49m\u001b[43m__optimizetrm__1\u001b[49m\u001b[43m(\u001b[49m\u001b[38;5;241;43m*\u001b[39;49m\u001b[43margs\u001b[49m\u001b[43m,\u001b[49m\u001b[38;5;241;43m*\u001b[39;49m\u001b[38;5;241;43m*\u001b[39;49m\u001b[43mkwds\u001b[49m\u001b[43m)\u001b[49m\n",
      "File \u001b[0;32m/usr/local/lib/python3.9/site-packages/mosek/__init__.py:10763\u001b[0m, in \u001b[0;36mTask.__optimizetrm__1\u001b[0;34m(self)\u001b[0m\n\u001b[1;32m  10762\u001b[0m \u001b[38;5;28;01mdef\u001b[39;00m \u001b[38;5;21m__optimizetrm__1\u001b[39m(\u001b[38;5;28mself\u001b[39m):\n\u001b[0;32m> 10763\u001b[0m   _res_optimizetrm,_retargs_optimizetrm \u001b[38;5;241m=\u001b[39m \u001b[38;5;28;43mself\u001b[39;49m\u001b[38;5;241;43m.\u001b[39;49m\u001b[43m__obj\u001b[49m\u001b[38;5;241;43m.\u001b[39;49m\u001b[43moptimizetrm__1\u001b[49m\u001b[43m(\u001b[49m\u001b[43m)\u001b[49m\n\u001b[1;32m  10764\u001b[0m   \u001b[38;5;28;01mif\u001b[39;00m _res_optimizetrm \u001b[38;5;241m!=\u001b[39m \u001b[38;5;241m0\u001b[39m:\n",
      "\u001b[0;31mKeyboardInterrupt\u001b[0m: ",
      "\nDuring handling of the above exception, another exception occurred:\n",
      "\u001b[0;31mNameError\u001b[0m                                 Traceback (most recent call last)",
      "Input \u001b[0;32mIn [5]\u001b[0m, in \u001b[0;36m<module>\u001b[0;34m\u001b[0m\n\u001b[1;32m     43\u001b[0m         emp_coverages\u001b[38;5;241m.\u001b[39mappend(emp_cov)\n\u001b[1;32m     44\u001b[0m         \u001b[38;5;28mprint\u001b[39m(\u001b[38;5;124mf\u001b[39m\u001b[38;5;124m\"\u001b[39m\u001b[38;5;124mTrial \u001b[39m\u001b[38;5;132;01m{\u001b[39;00mi\u001b[38;5;132;01m}\u001b[39;00m\u001b[38;5;124m: \u001b[39m\u001b[38;5;132;01m{\u001b[39;00mest_cov\u001b[38;5;132;01m}\u001b[39;00m\u001b[38;5;124m, \u001b[39m\u001b[38;5;132;01m{\u001b[39;00memp_cov\u001b[38;5;132;01m}\u001b[39;00m\u001b[38;5;124m\"\u001b[39m)\n\u001b[0;32m---> 45\u001b[0m     \u001b[38;5;28;01mexcept\u001b[39;00m \u001b[43mSolverError\u001b[49m:\n\u001b[1;32m     46\u001b[0m         \u001b[38;5;28;01mcontinue\u001b[39;00m\n\u001b[1;32m     47\u001b[0m a_df \u001b[38;5;241m=\u001b[39m pd\u001b[38;5;241m.\u001b[39mDataFrame({\u001b[38;5;124m'\u001b[39m\u001b[38;5;124mempirical coverage\u001b[39m\u001b[38;5;124m'\u001b[39m : emp_coverages, \u001b[38;5;124m'\u001b[39m\u001b[38;5;124mestimated coverage\u001b[39m\u001b[38;5;124m'\u001b[39m: est_coverages})\n",
      "\u001b[0;31mNameError\u001b[0m: name 'SolverError' is not defined"
     ]
    }
   ],
   "source": [
    "x_train_final, y_train_final, x_calib, y_calib, x_test, y_test = generate_cqr_data()\n",
    "\n",
    "reg = LinearRegression().fit(x_train_final, y_train_final)\n",
    "scores_calib = np.abs(reg.predict(x_calib) - y_calib)\n",
    "scores_test = np.abs(reg.predict(x_test) - y_test)\n",
    "\n",
    "def run_synthetic_trial(reg, alpha, radius, gamma, n_test, shift_loc):\n",
    "    _, _, x_calib, y_calib, x_test, y_test = generate_cqr_data()\n",
    "\n",
    "    scores_calib = np.abs(reg.predict(x_calib) - y_calib)\n",
    "    scores_test = np.abs(reg.predict(x_test) - y_test)\n",
    "        \n",
    "    est_coverage, weighted_coverage, thresholds = compute_shifted_coverage(\n",
    "        scores_test[0:n_test],\n",
    "        scores_calib,\n",
    "        x_calib,\n",
    "        x_test[0:n_test,],\n",
    "        shift_loc,\n",
    "        kernel=\"rbf\",\n",
    "        alpha=alpha,\n",
    "        radius=radius,\n",
    "        gamma=gamma\n",
    "    )\n",
    "    \n",
    "    return est_coverage, weighted_coverage\n",
    "\n",
    "n_trials = 10\n",
    "alpha = 0.9\n",
    "radius = 1\n",
    "n_test = 100\n",
    "gamma = 2\n",
    "shift_locs = [3.5, 4.5] #[0.5, 1.4, 2.5, 3.5, 4.5]\n",
    "\n",
    "df = pd.DataFrame()\n",
    "\n",
    "for shift_loc in shift_locs:\n",
    "    est_coverages = []\n",
    "    emp_coverages = []\n",
    "    for i in range(n_trials):\n",
    "        try:\n",
    "            est_cov, emp_cov = run_synthetic_trial(reg, alpha, radius, gamma, n_test, shift_loc)\n",
    "            est_coverages.append(est_cov)\n",
    "            emp_coverages.append(emp_cov)\n",
    "            print(f\"Trial {i}: {est_cov}, {emp_cov}\")\n",
    "        except SolverError:\n",
    "            continue\n",
    "    a_df = pd.DataFrame({'empirical coverage' : emp_coverages, 'estimated coverage': est_coverages})\n",
    "    a_df['shift_loc'] = shift_loc\n",
    "    df = pd.concat([df, a_df], axis=0)\n",
    "    "
   ]
  },
  {
   "cell_type": "code",
   "execution_count": null,
   "metadata": {},
   "outputs": [],
   "source": [
    "import seaborn as sns\n",
    "import pandas as pd\n",
    "\n",
    "melted_df = pd.melt(df, id_vars=['shift_loc'], value_vars=['empirical coverage', 'estimated coverage'])\n",
    "melted_df = melted_df.rename(columns={\"shift_loc\": \"Shift Location\", \"value\": \"Coverage\"})\n",
    "\n",
    "fig = sns.barplot(\n",
    "    melted_df, \n",
    "    x='Shift Location', \n",
    "    y='Coverage',\n",
    "    hue='variable',\n",
    "    palette=sns.color_palette(\"Set2\")\n",
    ")\n",
    "fig.axhline(alpha, color='red')\n",
    "plt.legend(bbox_to_anchor=(1.02, 1), loc='upper left', borderaxespad=0)\n",
    "plt.tight_layout()\n",
    "\n",
    "fig.get_figure().savefig('synthetic_rkhs_coverage.png')\n"
   ]
  },
  {
   "cell_type": "code",
   "execution_count": 195,
   "metadata": {
    "scrolled": false
   },
   "outputs": [
    {
     "name": "stderr",
     "output_type": "stream",
     "text": [
      "100%|███████████████████████████████████████████████████████████████████| 100/100 [01:31<00:00,  1.09it/s]"
     ]
    },
    {
     "name": "stdout",
     "output_type": "stream",
     "text": [
      "0.8998966949157221 0.8391796279611702\n"
     ]
    },
    {
     "name": "stderr",
     "output_type": "stream",
     "text": [
      "\n"
     ]
    },
    {
     "data": {
      "text/plain": [
       "(-2.0, 6.0)"
      ]
     },
     "execution_count": 195,
     "metadata": {},
     "output_type": "execute_result"
    },
    {
     "data": {
      "image/png": "[encoded data removed]",
      "text/plain": [
       "<Figure size 640x480 with 1 Axes>"
      ]
     },
     "metadata": {},
     "output_type": "display_data"
    }
   ],
   "source": [
    "alpha = 0.9\n",
    "radius = 1000**2\n",
    "n_test = 200\n",
    "gamma = 2\n",
    "\n",
    "n_test = 100\n",
    "\n",
    "idx = np.argmin(np.abs(x_calib - 1.4))\n",
    "g_weights = np.zeros((len(x_calib) + 1,))\n",
    "g_weights[idx] = 1\n",
    "\n",
    "K_fhat = rbf_kernel(\n",
    "    X=x_test[0:n_test,:],\n",
    "    Y=np.concatenate([x_calib, x_test[0,:].reshape(1,-1)], axis=0),\n",
    "    gamma=gamma\n",
    ")\n",
    "    \n",
    "est_coverage, weighted_coverage, thresholds = compute_shifted_coverage(\n",
    "    scores_test,\n",
    "    scores_calib,\n",
    "    x_calib,\n",
    "    x_test[0:n_test,:],\n",
    "    g_weights,\n",
    "    kernel=\"rbf\",\n",
    "    alpha=alpha,\n",
    "    radius=radius,\n",
    "    gamma=gamma\n",
    ")\n",
    "print(est_coverage, weighted_coverage)\n",
    "\n",
    "\n",
    "plt.figure()\n",
    "plt.plot(x_test[0:n_test], y_test[0:n_test], '.')\n",
    "plt.plot(x_test[0:n_test], reg.predict(x_test[0:n_test]) + thresholds, '.', label='upper')\n",
    "plt.plot(x_test[0:n_test], reg.predict(x_test[0:n_test]) - thresholds, '.', label='lower')\n",
    "plt.plot(x_test[0:n_test], K_fhat @ g_weights, '.', label='shift')\n",
    "plt.ylim(-2, 6)\n"
   ]
  },
  {
   "cell_type": "code",
   "execution_count": 18,
   "metadata": {},
   "outputs": [
    {
     "data": {
      "image/png": "[encoded data removed]",
      "text/plain": [
       "<Figure size 432x288 with 1 Axes>"
      ]
     },
     "metadata": {
      "needs_background": "light"
     },
     "output_type": "display_data"
    }
   ],
   "source": [
    "#from rkhs import setup_cvx_primal, setup_cvx_dual\n",
    "from rkhs import setup_cvx_dual\n",
    "alpha = 0.9\n",
    "radius = 200*1000**2\n",
    "gamma = 0.5\n",
    "\n",
    "#prob_1 = setup_cvx_problem(\n",
    "#    x_calib,\n",
    "#    scores_calib,\n",
    "#    kernel=\"rbf\",\n",
    "#    gamma=gamma,\n",
    "#    alpha=alpha,\n",
    "#    radius=radius\n",
    "#)\n",
    "\n",
    "K = rbf_kernel(\n",
    "    X=np.concatenate([x_calib, x_test[0,:].reshape(1,-1)], axis=0),\n",
    "    gamma=gamma\n",
    ")\n",
    "\n",
    "prob_2 = setup_cvx_dual(\n",
    "    x_calib,\n",
    "    scores_calib,\n",
    "    kernel=\"rbf\",\n",
    "    gamma=gamma,\n",
    "    alpha=alpha,\n",
    ")\n",
    "f_hat = compute_adaptive_threshold(\n",
    "    prob_2,\n",
    "    scores_calib,\n",
    "    x_calib,\n",
    "    x_test[0,:],\n",
    "    kernel=\"rbf\",\n",
    "    gamma=gamma,\n",
    "    radius = radius\n",
    ")\n",
    "\n",
    "thresholds = f_hat['c0'] + K @ f_hat['weights']\n",
    "\n",
    "x_plot = np.concatenate([x_calib, x_test[0,:].reshape(1,-1)], axis=0)\n",
    "plt.plot(x_calib, y_calib, '.')\n",
    "plt.plot(x_plot, reg.predict(x_plot) + thresholds, '.')\n",
    "#plt.plot(x_plot, reg.predict(x_plot) - thresholds, '.')\n",
    "plt.ylim(-2, 6)\n",
    "plt.savefig('cqrData.png')"
   ]
  },
  {
   "cell_type": "code",
   "execution_count": 17,
   "metadata": {},
   "outputs": [
    {
     "data": {
      "text/plain": [
       "<Figure size 432x288 with 0 Axes>"
      ]
     },
     "metadata": {},
     "output_type": "display_data"
    }
   ],
   "source": [
    "plt.savefig('cqrData.png')"
   ]
  },
  {
   "cell_type": "code",
   "execution_count": null,
   "metadata": {},
   "outputs": [],
   "source": []
  }
 ],
 "metadata": {
  "kernelspec": {
   "display_name": "Python 3 (ipykernel)",
   "language": "python",
   "name": "python3"
  },
  "language_info": {
   "codemirror_mode": {
    "name": "ipython",
    "version": 3
   },
   "file_extension": ".py",
   "mimetype": "text/x-python",
   "name": "python",
   "nbconvert_exporter": "python",
   "pygments_lexer": "ipython3",
   "version": "3.9.5"
  },
  "vscode": {
   "interpreter": {
    "hash": "7164cd5ffdf91c39be802aa3caabfecd78dd3a4e2fe798bd17e4759218e2c30b"
   }
  }
 },
 "nbformat": 4,
 "nbformat_minor": 5
}
