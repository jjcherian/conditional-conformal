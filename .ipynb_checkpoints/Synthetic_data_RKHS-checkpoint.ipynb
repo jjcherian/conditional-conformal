{
 "cells": [
  {
   "cell_type": "code",
   "execution_count": 29,
   "metadata": {
    "scrolled": true
   },
   "outputs": [
    {
     "name": "stdout",
     "output_type": "stream",
     "text": [
      "The autoreload extension is already loaded. To reload it, use:\n",
      "  %reload_ext autoreload\n"
     ]
    }
   ],
   "source": [
    "%load_ext autoreload\n",
    "%autoreload 2"
   ]
  },
  {
   "cell_type": "code",
   "execution_count": 30,
   "metadata": {},
   "outputs": [],
   "source": [
    "import pandas as pd\n",
    "import numpy as np\n",
    "import matplotlib.pyplot as plt\n",
    "import seaborn as sns\n",
    "\n",
    "from sklearn.linear_model import LinearRegression\n",
    "from sklearn.model_selection import train_test_split\n",
    "from sklearn.metrics.pairwise import rbf_kernel, pairwise_kernels"
   ]
  },
  {
   "cell_type": "code",
   "execution_count": 31,
   "metadata": {},
   "outputs": [],
   "source": [
    "from rkhs import compute_shifted_coverage, compute_adaptive_threshold\n"
   ]
  },
  {
   "cell_type": "code",
   "execution_count": 32,
   "metadata": {},
   "outputs": [],
   "source": [
    "def generate_cqr_data():\n",
    "    # number of training examples\n",
    "    n_train = 2000\n",
    "    # number of test examples (to evaluate average coverage and length)\n",
    "    n_test = 5000\n",
    "\n",
    "    def f(x):\n",
    "        ''' Construct data (1D example)\n",
    "        '''\n",
    "        ax = 0*x\n",
    "        for i in range(len(x)):\n",
    "            ax[i] = np.random.poisson(np.sin(x[i])**2+0.1) + 0.03*x[i]*np.random.randn(1)\n",
    "            ax[i] += 25*(np.random.uniform(0,1,1)<0.01)*np.random.randn(1)\n",
    "        return ax.astype(np.float32)\n",
    "\n",
    "    # training features\n",
    "    x_train = np.random.uniform(0, 5.0, size=n_train).astype(np.float32)\n",
    "\n",
    "    # test features\n",
    "    x_test = np.random.uniform(0, 5.0, size=n_test).astype(np.float32)\n",
    "\n",
    "    # generate labels\n",
    "    y_train = f(x_train)\n",
    "    y_test = f(x_test)\n",
    "\n",
    "    # reshape the features\n",
    "    x_train = np.reshape(x_train,(n_train,1))\n",
    "    x_test = np.reshape(x_test,(n_test,1))\n",
    "    \n",
    "    calibration_set_size = 1000\n",
    "    train_set_size = len(y_train) - calibration_set_size\n",
    "    x_train_final = x_train[ : train_set_size]\n",
    "    x_calib = x_train[train_set_size : ]\n",
    "    y_train_final = y_train[ : train_set_size]\n",
    "    y_calib = y_train[train_set_size : ]\n",
    "    \n",
    "    return x_train_final, y_train_final, x_calib, y_calib, x_test, y_test\n"
   ]
  },
  {
   "cell_type": "code",
   "execution_count": 40,
   "metadata": {
    "scrolled": true
   },
   "outputs": [
    {
     "name": "stderr",
     "output_type": "stream",
     "text": [
      "100%|██████████████████████████████████████| 200/200 [02:27<00:00,  1.35it/s]\n"
     ]
    },
    {
     "name": "stdout",
     "output_type": "stream",
     "text": [
      "Trial 0: 0.966196339822906, 0.9691570377349366\n"
     ]
    },
    {
     "name": "stderr",
     "output_type": "stream",
     "text": [
      "100%|██████████████████████████████████████| 200/200 [02:24<00:00,  1.38it/s]\n"
     ]
    },
    {
     "name": "stdout",
     "output_type": "stream",
     "text": [
      "Trial 1: 0.9603243071636502, 0.9512916524913347\n"
     ]
    },
    {
     "name": "stderr",
     "output_type": "stream",
     "text": [
      "100%|██████████████████████████████████████| 200/200 [02:43<00:00,  1.23it/s]\n"
     ]
    },
    {
     "name": "stdout",
     "output_type": "stream",
     "text": [
      "Trial 2: 0.9464587029603431, 0.9818883660719655\n"
     ]
    },
    {
     "name": "stderr",
     "output_type": "stream",
     "text": [
      "100%|██████████████████████████████████████| 200/200 [02:28<00:00,  1.34it/s]\n"
     ]
    },
    {
     "name": "stdout",
     "output_type": "stream",
     "text": [
      "Trial 3: 0.968590000637962, 0.968921719924379\n"
     ]
    },
    {
     "name": "stderr",
     "output_type": "stream",
     "text": [
      "100%|██████████████████████████████████████| 200/200 [02:16<00:00,  1.46it/s]\n"
     ]
    },
    {
     "name": "stdout",
     "output_type": "stream",
     "text": [
      "Trial 4: 0.9699242002953884, 0.9421112736122077\n"
     ]
    },
    {
     "name": "stderr",
     "output_type": "stream",
     "text": [
      "100%|██████████████████████████████████████| 200/200 [02:24<00:00,  1.38it/s]\n"
     ]
    },
    {
     "name": "stdout",
     "output_type": "stream",
     "text": [
      "Trial 5: 0.9590146595255539, 0.9688071920980506\n"
     ]
    },
    {
     "name": "stderr",
     "output_type": "stream",
     "text": [
      "100%|██████████████████████████████████████| 200/200 [02:27<00:00,  1.36it/s]\n"
     ]
    },
    {
     "name": "stdout",
     "output_type": "stream",
     "text": [
      "Trial 6: 0.9586307807042682, 0.9880719598197435\n"
     ]
    },
    {
     "name": "stderr",
     "output_type": "stream",
     "text": [
      "100%|██████████████████████████████████████| 200/200 [02:23<00:00,  1.39it/s]\n"
     ]
    },
    {
     "name": "stdout",
     "output_type": "stream",
     "text": [
      "Trial 7: 0.9752267040733427, 0.9546365001420565\n"
     ]
    },
    {
     "name": "stderr",
     "output_type": "stream",
     "text": [
      "100%|██████████████████████████████████████| 200/200 [02:58<00:00,  1.12it/s]\n"
     ]
    },
    {
     "name": "stdout",
     "output_type": "stream",
     "text": [
      "Trial 8: 0.9656405307323932, 0.9448781894967676\n"
     ]
    },
    {
     "name": "stderr",
     "output_type": "stream",
     "text": [
      "100%|██████████████████████████████████████| 200/200 [02:32<00:00,  1.31it/s]\n"
     ]
    },
    {
     "name": "stdout",
     "output_type": "stream",
     "text": [
      "Trial 9: 0.9817932354660941, 0.9444243992471127\n"
     ]
    },
    {
     "name": "stderr",
     "output_type": "stream",
     "text": [
      "100%|██████████████████████████████████████| 200/200 [02:17<00:00,  1.46it/s]\n"
     ]
    },
    {
     "name": "stdout",
     "output_type": "stream",
     "text": [
      "Trial 0: 0.9119421911168695, 0.9226857180008573\n"
     ]
    },
    {
     "name": "stderr",
     "output_type": "stream",
     "text": [
      "100%|██████████████████████████████████████| 200/200 [02:10<00:00,  1.53it/s]\n"
     ]
    },
    {
     "name": "stdout",
     "output_type": "stream",
     "text": [
      "Trial 1: 0.9326905667158993, 0.8712785430100174\n"
     ]
    },
    {
     "name": "stderr",
     "output_type": "stream",
     "text": [
      "100%|██████████████████████████████████████| 200/200 [02:44<00:00,  1.22it/s]\n"
     ]
    },
    {
     "name": "stdout",
     "output_type": "stream",
     "text": [
      "Trial 2: 0.917855688350525, 0.9609416166799322\n"
     ]
    },
    {
     "name": "stderr",
     "output_type": "stream",
     "text": [
      "100%|██████████████████████████████████████| 200/200 [02:14<00:00,  1.49it/s]\n"
     ]
    },
    {
     "name": "stdout",
     "output_type": "stream",
     "text": [
      "Trial 3: 0.8940346598704606, 0.9474433976065662\n"
     ]
    },
    {
     "name": "stderr",
     "output_type": "stream",
     "text": [
      "100%|██████████████████████████████████████| 200/200 [02:48<00:00,  1.18it/s]\n"
     ]
    },
    {
     "name": "stdout",
     "output_type": "stream",
     "text": [
      "Trial 4: 0.9103827694542814, 0.8394796403456286\n"
     ]
    },
    {
     "name": "stderr",
     "output_type": "stream",
     "text": [
      "100%|██████████████████████████████████████| 200/200 [02:15<00:00,  1.48it/s]\n"
     ]
    },
    {
     "name": "stdout",
     "output_type": "stream",
     "text": [
      "Trial 5: 0.900149782790613, 0.8916817722026456\n"
     ]
    },
    {
     "name": "stderr",
     "output_type": "stream",
     "text": [
      "100%|██████████████████████████████████████| 200/200 [02:17<00:00,  1.45it/s]\n"
     ]
    },
    {
     "name": "stdout",
     "output_type": "stream",
     "text": [
      "Trial 6: 0.9026587081625391, 0.8676358301189941\n"
     ]
    },
    {
     "name": "stderr",
     "output_type": "stream",
     "text": [
      "100%|██████████████████████████████████████| 200/200 [03:52<00:00,  1.16s/it]\n"
     ]
    },
    {
     "name": "stdout",
     "output_type": "stream",
     "text": [
      "Trial 7: 0.8904988405271218, 0.967093973582944\n"
     ]
    },
    {
     "name": "stderr",
     "output_type": "stream",
     "text": [
      "100%|██████████████████████████████████████| 200/200 [02:18<00:00,  1.45it/s]\n"
     ]
    },
    {
     "name": "stdout",
     "output_type": "stream",
     "text": [
      "Trial 8: 0.9042493185346998, 0.863126646782643\n"
     ]
    },
    {
     "name": "stderr",
     "output_type": "stream",
     "text": [
      "100%|██████████████████████████████████████| 200/200 [02:47<00:00,  1.19it/s]"
     ]
    },
    {
     "name": "stdout",
     "output_type": "stream",
     "text": [
      "Trial 9: 0.8962776110059811, 0.9041016293936336\n"
     ]
    },
    {
     "name": "stderr",
     "output_type": "stream",
     "text": [
      "\n"
     ]
    }
   ],
   "source": [
    "x_train_final, y_train_final, x_calib, y_calib, x_test, y_test = generate_cqr_data()\n",
    "\n",
    "reg = LinearRegression().fit(x_train_final, y_train_final)\n",
    "scores_calib = np.abs(reg.predict(x_calib) - y_calib)\n",
    "scores_test = np.abs(reg.predict(x_test) - y_test)\n",
    "\n",
    "def run_synthetic_trial(reg, alpha, radius, gamma, n_test, shift_loc):\n",
    "    _, _, x_calib, y_calib, x_test, y_test = generate_cqr_data()\n",
    "\n",
    "    scores_calib = np.abs(reg.predict(x_calib) - y_calib)\n",
    "    scores_test = np.abs(reg.predict(x_test) - y_test)\n",
    "        \n",
    "    est_coverage, weighted_coverage, thresholds = compute_shifted_coverage(\n",
    "        scores_test,\n",
    "        scores_calib,\n",
    "        x_calib,\n",
    "        x_test[0:n_test,],\n",
    "        shift_loc,\n",
    "        kernel=\"rbf\",\n",
    "        alpha=alpha,\n",
    "        radius=radius,\n",
    "        gamma=gamma\n",
    "    )\n",
    "    \n",
    "    return est_coverage, weighted_coverage\n",
    "\n",
    "n_trials = 10\n",
    "alpha = 0.9\n",
    "radius = 1000**2\n",
    "n_test = 200\n",
    "gamma = 2\n",
    "shift_locs = [3.5, 4.5] #[0.5, 1.4, 2.5, 3.5, 4.5]\n",
    "\n",
    "df = pd.DataFrame()\n",
    "\n",
    "for shift_loc in shift_locs:\n",
    "    est_coverages = []\n",
    "    emp_coverages = []\n",
    "    for i in range(n_trials):\n",
    "        #try:\n",
    "        est_cov, emp_cov = run_synthetic_trial(reg, alpha, radius, gamma, n_test, shift_loc)\n",
    "        est_coverages.append(est_cov)\n",
    "        emp_coverages.append(emp_cov)\n",
    "        print(f\"Trial {i}: {est_cov}, {emp_cov}\")\n",
    "        #except SolverError:\n",
    "        #    continue\n",
    "    a_df = pd.DataFrame({'empirical coverage' : emp_coverages, 'estimated coverage': est_coverages})\n",
    "    a_df['shift_loc'] = shift_loc\n",
    "    df = pd.concat([df, a_df], axis=0)\n",
    "    "
   ]
  },
  {
   "cell_type": "code",
   "execution_count": 41,
   "metadata": {},
   "outputs": [
    {
     "data": {
      "image/png": "[encoded data removed]",
      "text/plain": [
       "<Figure size 432x288 with 1 Axes>"
      ]
     },
     "metadata": {
      "needs_background": "light"
     },
     "output_type": "display_data"
    }
   ],
   "source": [
    "import seaborn as sns\n",
    "import pandas as pd\n",
    "\n",
    "melted_df = pd.melt(df, id_vars=['shift_loc'], value_vars=['empirical coverage', 'estimated coverage'])\n",
    "melted_df = melted_df.rename(columns={\"shift_loc\": \"Shift Location\", \"value\": \"Coverage\"})\n",
    "\n",
    "fig = sns.barplot(\n",
    "    melted_df, \n",
    "    x='Shift Location', \n",
    "    y='Coverage',\n",
    "    hue='variable',\n",
    "    palette=sns.color_palette(\"Set2\")\n",
    ")\n",
    "fig.axhline(alpha, color='red')\n",
    "plt.legend(bbox_to_anchor=(1.02, 1), loc='upper left', borderaxespad=0)\n",
    "plt.tight_layout()\n",
    "\n",
    "fig.get_figure().savefig('synthetic_rkhs_coverage.png')\n"
   ]
  },
  {
   "cell_type": "code",
   "execution_count": 195,
   "metadata": {
    "scrolled": false
   },
   "outputs": [
    {
     "name": "stderr",
     "output_type": "stream",
     "text": [
      "100%|███████████████████████████████████████████████████████████████████| 100/100 [01:31<00:00,  1.09it/s]"
     ]
    },
    {
     "name": "stdout",
     "output_type": "stream",
     "text": [
      "0.8998966949157221 0.8391796279611702\n"
     ]
    },
    {
     "name": "stderr",
     "output_type": "stream",
     "text": [
      "\n"
     ]
    },
    {
     "data": {
      "text/plain": [
       "(-2.0, 6.0)"
      ]
     },
     "execution_count": 195,
     "metadata": {},
     "output_type": "execute_result"
    },
    {
     "data": {
      "image/png": "[encoded data removed]",
      "text/plain": [
       "<Figure size 640x480 with 1 Axes>"
      ]
     },
     "metadata": {},
     "output_type": "display_data"
    }
   ],
   "source": [
    "alpha = 0.9\n",
    "radius = 1\n",
    "n_test = 200\n",
    "gamma = 2\n",
    "\n",
    "n_test = 100\n",
    "\n",
    "idx = np.argmin(np.abs(x_calib - 1.4))\n",
    "g_weights = np.zeros((len(x_calib) + 1,))\n",
    "g_weights[idx] = 1\n",
    "\n",
    "K_fhat = rbf_kernel(\n",
    "    X=x_test[0:n_test,:],\n",
    "    Y=np.concatenate([x_calib, x_test[0,:].reshape(1,-1)], axis=0),\n",
    "    gamma=gamma\n",
    ")\n",
    "    \n",
    "est_coverage, weighted_coverage, thresholds = compute_shifted_coverage(\n",
    "    scores_test,\n",
    "    scores_calib,\n",
    "    x_calib,\n",
    "    x_test[0:n_test,:],\n",
    "    g_weights,\n",
    "    kernel=\"rbf\",\n",
    "    alpha=alpha,\n",
    "    radius=radius,\n",
    "    gamma=gamma\n",
    ")\n",
    "print(est_coverage, weighted_coverage)\n",
    "\n",
    "\n",
    "plt.figure()\n",
    "plt.plot(x_test[0:n_test], y_test[0:n_test], '.')\n",
    "plt.plot(x_test[0:n_test], reg.predict(x_test[0:n_test]) + thresholds, '.', label='upper')\n",
    "plt.plot(x_test[0:n_test], reg.predict(x_test[0:n_test]) - thresholds, '.', label='lower')\n",
    "plt.plot(x_test[0:n_test], K_fhat @ g_weights, '.', label='shift')\n",
    "plt.ylim(-2, 6)\n"
   ]
  },
  {
   "cell_type": "code",
   "execution_count": 159,
   "metadata": {},
   "outputs": [
    {
     "name": "stderr",
     "output_type": "stream",
     "text": [
      "No artists with labels found to put in legend.  Note that artists whose label start with an underscore are ignored when legend() is called with no argument.\n"
     ]
    },
    {
     "data": {
      "text/plain": [
       "<matplotlib.legend.Legend at 0x7fa275439cc0>"
      ]
     },
     "execution_count": 159,
     "metadata": {},
     "output_type": "execute_result"
    },
    {
     "data": {
      "image/png": "[encoded data removed]",
      "text/plain": [
       "<Figure size 640x480 with 1 Axes>"
      ]
     },
     "metadata": {},
     "output_type": "display_data"
    }
   ],
   "source": [
    "from rkhs import setup_cvx_primal, setup_cvx_dual\n",
    "alpha = 0.9\n",
    "radius = 200\n",
    "gamma = 0.5\n",
    "\n",
    "prob_1 = setup_cvx_problem(\n",
    "    x_calib,\n",
    "    scores_calib,\n",
    "    kernel=\"rbf\",\n",
    "    gamma=gamma,\n",
    "    alpha=alpha,\n",
    "    radius=radius\n",
    ")\n",
    "\n",
    "K = rbf_kernel(\n",
    "    X=np.concatenate([x_calib, x_test[0,:].reshape(1,-1)], axis=0),\n",
    "    gamma=gamma\n",
    ")\n",
    "\n",
    "prob_2 = setup_cvx_dual(\n",
    "    x_calib,\n",
    "    scores_calib,\n",
    "    kernel=\"rbf\",\n",
    "    gamma=gamma,\n",
    "    alpha=alpha,\n",
    "    radius=radius\n",
    ")\n",
    "f_hat = compute_adaptive_threshold(\n",
    "    prob_2,\n",
    "    scores_calib,\n",
    "    x_calib,\n",
    "    x_test[0,:],\n",
    "    kernel=\"rbf\",\n",
    "    gamma=gamma\n",
    ")\n",
    "\n",
    "thresholds = f_hat['intercept'] + K @ f_hat['weights']\n",
    "\n",
    "x_plot = np.concatenate([x_calib, x_test[0,:].reshape(1,-1)], axis=0)\n",
    "plt.plot(x_calib, y_calib, '.')\n",
    "plt.plot(x_plot, reg.predict(x_plot) + thresholds, '.')\n",
    "plt.plot(x_plot, reg.predict(x_plot) - thresholds, '.')\n",
    "plt.ylim(-2, 6)\n"
   ]
  }
 ],
 "metadata": {
  "kernelspec": {
   "display_name": "Python 3 (ipykernel)",
   "language": "python",
   "name": "python3"
  },
  "language_info": {
   "codemirror_mode": {
    "name": "ipython",
    "version": 3
   },
   "file_extension": ".py",
   "mimetype": "text/x-python",
   "name": "python",
   "nbconvert_exporter": "python",
   "pygments_lexer": "ipython3",
   "version": "3.9.5"
  },
  "vscode": {
   "interpreter": {
    "hash": "7164cd5ffdf91c39be802aa3caabfecd78dd3a4e2fe798bd17e4759218e2c30b"
   }
  }
 },
 "nbformat": 4,
 "nbformat_minor": 5
}
