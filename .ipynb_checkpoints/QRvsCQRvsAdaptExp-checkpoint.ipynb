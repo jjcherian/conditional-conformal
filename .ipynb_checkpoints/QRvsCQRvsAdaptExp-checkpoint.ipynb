{
 "cells": [
  {
   "cell_type": "code",
   "execution_count": 51,
   "metadata": {},
   "outputs": [
    {
     "name": "stdout",
     "output_type": "stream",
     "text": [
      "The autoreload extension is already loaded. To reload it, use:\n",
      "  %reload_ext autoreload\n"
     ]
    }
   ],
   "source": [
    "import pandas as pd \n",
    "import numpy as np\n",
    "import matplotlib.pyplot as plt\n",
    "import math\n",
    "import cvxpy as cvx\n",
    "\n",
    "from sklearn.linear_model import LinearRegression\n",
    "from sklearn.model_selection import train_test_split\n",
    "\n",
    "%load_ext autoreload\n",
    "%autoreload 2"
   ]
  },
  {
   "cell_type": "code",
   "execution_count": 52,
   "metadata": {},
   "outputs": [],
   "source": [
    "from group import compute_group_coverages, compute_split_coverages \n",
    "from group import compute_group_qr_coverages, compute_cqr_coverages\n",
    "from Synthetic_data_generation import get_groups, generate_group_synthetic_data, generate_cqr_data\n",
    "from rkhs import compute_shifted_coverage, compute_qr_coverages, compute_adaptive_threshold\n",
    "from sklearn.metrics.pairwise import pairwise_kernels\n"
   ]
  },
  {
   "cell_type": "markdown",
   "metadata": {},
   "source": [
    "### Experiment on grouped data"
   ]
  },
  {
   "cell_type": "code",
   "execution_count": 53,
   "metadata": {},
   "outputs": [],
   "source": [
    "def run_group_synthetic_trial(n, x_std, y_std, d, std_dev_list, theta, n_test, n_cal,\n",
    "                              n_groups, alpha, exact=True, eps = 0.0001):\n",
    "    \n",
    "    x_train_final, y_train_final, x_calib, y_calib, x_test, y_test = generate_group_synthetic_data(\n",
    "        n, x_std, y_std, d, std_dev_list, theta, n_test, n_cal, n_groups\n",
    "    )\n",
    "\n",
    "    groups_train = get_groups(x_train_final[:,0:n_groups])\n",
    "    groups_calib = get_groups(x_calib[:,0:n_groups])\n",
    "    groups_test = get_groups(x_test[:,0:n_groups])\n",
    "\n",
    "    groups_train_joined = np.vstack([groups_train,groups_calib])\n",
    "    y_train_joined = np.concatenate((y_train_final,y_calib))\n",
    "    \n",
    "    adaptive_coverages = compute_group_coverages(\n",
    "        groups_train_joined, y_train_joined, y_test, groups_test[0:n_test,:], groups_test[0:n_test,:],\n",
    "        alpha, exact = exact, eps = eps\n",
    "    )\n",
    "    qr_coverages = compute_group_qr_coverages(\n",
    "        groups_train_joined, groups_test, y_train_joined, y_test, alpha, eps = eps\n",
    "    )\n",
    "    cqr_coverages = compute_cqr_coverages(\n",
    "        groups_train, groups_calib, groups_test, y_train_final, y_calib, y_test, alpha\n",
    "    )\n",
    "\n",
    "    adapt_cover = pd.Series(adaptive_coverages)\n",
    "    qr_cover = pd.Series(qr_coverages)\n",
    "    cqr_cover = pd.Series(cqr_coverages)\n",
    "\n",
    "    df = pd.concat([adapt_cover, qr_cover, cqr_cover], keys=[\"adaptive\", \"qr\", \"cqr\"], axis=1).reset_index()\n",
    "    return df\n"
   ]
  },
  {
   "cell_type": "code",
   "execution_count": 86,
   "metadata": {},
   "outputs": [
    {
     "name": "stderr",
     "output_type": "stream",
     "text": [
      "100%|█████████████████████████████████████████| 200/200 [00:02<00:00, 69.61it/s]\n",
      "100%|█████████████████████████████████████████| 200/200 [00:02<00:00, 70.26it/s]\n",
      "100%|█████████████████████████████████████████| 200/200 [00:03<00:00, 64.84it/s]\n",
      "100%|█████████████████████████████████████████| 200/200 [00:02<00:00, 71.73it/s]\n",
      "100%|█████████████████████████████████████████| 200/200 [00:03<00:00, 65.40it/s]\n",
      "100%|█████████████████████████████████████████| 200/200 [00:03<00:00, 53.27it/s]\n",
      "100%|█████████████████████████████████████████| 200/200 [00:03<00:00, 55.63it/s]\n",
      "100%|█████████████████████████████████████████| 200/200 [00:03<00:00, 60.41it/s]\n",
      "100%|█████████████████████████████████████████| 200/200 [00:03<00:00, 65.07it/s]\n",
      "100%|█████████████████████████████████████████| 200/200 [00:02<00:00, 68.94it/s]\n",
      "100%|█████████████████████████████████████████| 200/200 [00:03<00:00, 63.06it/s]\n",
      "100%|█████████████████████████████████████████| 200/200 [00:03<00:00, 62.91it/s]\n",
      "100%|█████████████████████████████████████████| 200/200 [00:02<00:00, 76.89it/s]\n",
      "100%|█████████████████████████████████████████| 200/200 [00:02<00:00, 76.65it/s]\n",
      "100%|█████████████████████████████████████████| 200/200 [00:02<00:00, 78.19it/s]\n",
      "100%|█████████████████████████████████████████| 200/200 [00:03<00:00, 64.77it/s]\n",
      "100%|█████████████████████████████████████████| 200/200 [00:03<00:00, 56.60it/s]\n",
      "100%|█████████████████████████████████████████| 200/200 [00:04<00:00, 47.70it/s]\n",
      "100%|█████████████████████████████████████████| 200/200 [00:04<00:00, 41.14it/s]\n",
      "100%|█████████████████████████████████████████| 200/200 [00:04<00:00, 48.87it/s]\n",
      "100%|█████████████████████████████████████████| 200/200 [00:04<00:00, 48.73it/s]\n",
      "100%|█████████████████████████████████████████| 200/200 [00:03<00:00, 53.95it/s]\n",
      "100%|█████████████████████████████████████████| 200/200 [00:03<00:00, 64.01it/s]\n",
      "100%|█████████████████████████████████████████| 200/200 [00:03<00:00, 57.04it/s]\n",
      "100%|█████████████████████████████████████████| 200/200 [00:02<00:00, 69.36it/s]\n",
      "100%|█████████████████████████████████████████| 200/200 [00:02<00:00, 67.96it/s]\n",
      "100%|█████████████████████████████████████████| 200/200 [00:03<00:00, 61.60it/s]\n",
      "100%|█████████████████████████████████████████| 200/200 [00:03<00:00, 56.01it/s]\n",
      "100%|█████████████████████████████████████████| 200/200 [00:03<00:00, 50.21it/s]\n",
      "100%|█████████████████████████████████████████| 200/200 [00:04<00:00, 43.31it/s]\n"
     ]
    }
   ],
   "source": [
    "df = pd.DataFrame()\n",
    "ntrials = 100\n",
    "alpha = 0.9\n",
    "n_train = 50\n",
    "n_cal = 50\n",
    "n_test = 200\n",
    "n = n_train + n_cal + n_test\n",
    "\n",
    "# Parameters for data generation \n",
    "x_std = 0.1\n",
    "y_std = 0.25\n",
    "n_groups = 5\n",
    "d = n_groups + 5 # choose d > n_groups\n",
    "\n",
    "std_dev_list = np.array([20,0.001,1,1,1] ) ## must be of length n_groups\n",
    "\n",
    "theta = np.random.normal(loc=np.zeros(d), scale=x_std)\n",
    "for i in range(ntrials):\n",
    "    try:\n",
    "        append_df = run_group_synthetic_trial(n, x_std, y_std, d, std_dev_list, theta, n_test, n_cal, n_groups, alpha=alpha)\n",
    "        append_df['trial'] = i\n",
    "        df = pd.concat([df, append_df])\n",
    "    except SolverError:\n",
    "        print(\"one solver error\")\n",
    "        continue"
   ]
  },
  {
   "cell_type": "code",
   "execution_count": 87,
   "metadata": {},
   "outputs": [
    {
     "data": {
      "image/png": "[encoded data removed]",
      "text/plain": [
       "<Figure size 842.4x595.44 with 1 Axes>"
      ]
     },
     "metadata": {},
     "output_type": "display_data"
    }
   ],
   "source": [
    "import seaborn as sns\n",
    "sns.set(rc={'figure.figsize':(11.7,8.27)})\n",
    "\n",
    "melted_df = pd.melt(df, id_vars=[\"index\"], value_vars=[\"adaptive\", \"qr\", \"cqr\"])\n",
    "melted_df = melted_df.rename(columns={\"index\": \"group\", \"value\": \"coverage\"})\n",
    "#melted_df = melted_df[melted_df[\"group\"] <=5]\n",
    "\n",
    "fig = sns.barplot(melted_df, \n",
    "            x=\"group\", y=\"coverage\", hue=\"variable\")\n",
    "fig.axhline(alpha,color='red')\n",
    "plt.legend(bbox_to_anchor=(1.02, 1), loc='upper left', borderaxespad=0)\n",
    "plt.tight_layout()"
   ]
  },
  {
   "cell_type": "code",
   "execution_count": 85,
   "metadata": {},
   "outputs": [
    {
     "data": {
      "text/plain": [
       "<Figure size 842.4x595.44 with 0 Axes>"
      ]
     },
     "metadata": {},
     "output_type": "display_data"
    }
   ],
   "source": [
    "plt.savefig('figures/GroupCoverageComparison.png')"
   ]
  },
  {
   "cell_type": "markdown",
   "metadata": {},
   "source": [
    "### Experiment on RKHS Data"
   ]
  },
  {
   "cell_type": "code",
   "execution_count": 178,
   "metadata": {},
   "outputs": [],
   "source": [
    "def compute_coverage_at_shift(x_test,scores_test,thresholds,shift_loc,gamma, eps = 0.0001):\n",
    "    g = pairwise_kernels(\n",
    "                X=np.array([shift_loc]).reshape(1,-1),\n",
    "                Y=x_test,\n",
    "                metric=\"rbf\",\n",
    "                gamma=gamma\n",
    "            )[0,:]\n",
    "    return np.average(scores_test <= thresholds+eps, weights=g)"
   ]
  },
  {
   "cell_type": "code",
   "execution_count": 180,
   "metadata": {},
   "outputs": [
    {
     "name": "stderr",
     "output_type": "stream",
     "text": [
      "100%|█████████████████████████████████████████| 300/300 [00:07<00:00, 37.77it/s]\n",
      "100%|█████████████████████████████████████████| 300/300 [00:07<00:00, 37.61it/s]\n",
      "100%|█████████████████████████████████████████| 300/300 [00:08<00:00, 37.48it/s]\n",
      "100%|█████████████████████████████████████████| 300/300 [00:08<00:00, 36.91it/s]\n",
      "100%|█████████████████████████████████████████| 300/300 [00:07<00:00, 39.15it/s]\n",
      "100%|█████████████████████████████████████████| 300/300 [00:08<00:00, 37.28it/s]\n",
      "100%|█████████████████████████████████████████| 300/300 [00:08<00:00, 35.35it/s]\n",
      "100%|█████████████████████████████████████████| 300/300 [00:08<00:00, 36.72it/s]\n",
      "100%|█████████████████████████████████████████| 300/300 [00:08<00:00, 35.92it/s]\n",
      "100%|█████████████████████████████████████████| 300/300 [00:08<00:00, 37.37it/s]\n",
      "100%|█████████████████████████████████████████| 300/300 [00:08<00:00, 36.18it/s]\n",
      "100%|█████████████████████████████████████████| 300/300 [00:08<00:00, 36.31it/s]\n",
      "100%|█████████████████████████████████████████| 300/300 [00:08<00:00, 35.81it/s]\n",
      "100%|█████████████████████████████████████████| 300/300 [00:09<00:00, 32.09it/s]\n",
      "100%|█████████████████████████████████████████| 300/300 [00:10<00:00, 29.24it/s]\n",
      "100%|█████████████████████████████████████████| 300/300 [00:09<00:00, 31.44it/s]\n",
      "100%|█████████████████████████████████████████| 300/300 [00:10<00:00, 28.33it/s]\n",
      "100%|█████████████████████████████████████████| 300/300 [00:10<00:00, 28.44it/s]\n",
      "100%|█████████████████████████████████████████| 300/300 [00:09<00:00, 31.96it/s]\n",
      "100%|█████████████████████████████████████████| 300/300 [00:08<00:00, 33.51it/s]\n",
      "100%|█████████████████████████████████████████| 300/300 [00:09<00:00, 32.81it/s]\n",
      "100%|█████████████████████████████████████████| 300/300 [00:09<00:00, 32.89it/s]\n",
      "100%|█████████████████████████████████████████| 300/300 [00:09<00:00, 33.06it/s]\n",
      "100%|█████████████████████████████████████████| 300/300 [00:09<00:00, 32.45it/s]\n",
      "100%|█████████████████████████████████████████| 300/300 [00:09<00:00, 32.96it/s]\n",
      "100%|█████████████████████████████████████████| 300/300 [00:09<00:00, 31.25it/s]\n",
      "100%|█████████████████████████████████████████| 300/300 [00:10<00:00, 29.81it/s]\n",
      "100%|█████████████████████████████████████████| 300/300 [00:11<00:00, 26.94it/s]\n",
      "100%|█████████████████████████████████████████| 300/300 [00:12<00:00, 23.09it/s]\n",
      "100%|█████████████████████████████████████████| 300/300 [00:10<00:00, 27.94it/s]\n",
      "100%|█████████████████████████████████████████| 300/300 [00:09<00:00, 33.18it/s]\n",
      "100%|█████████████████████████████████████████| 300/300 [00:09<00:00, 31.39it/s]\n",
      "100%|█████████████████████████████████████████| 300/300 [00:10<00:00, 29.61it/s]\n",
      "100%|█████████████████████████████████████████| 300/300 [00:09<00:00, 31.96it/s]\n",
      "100%|█████████████████████████████████████████| 300/300 [00:09<00:00, 32.25it/s]\n",
      "100%|█████████████████████████████████████████| 300/300 [00:09<00:00, 32.41it/s]\n",
      "100%|█████████████████████████████████████████| 300/300 [00:09<00:00, 31.25it/s]\n",
      "100%|█████████████████████████████████████████| 300/300 [00:09<00:00, 30.66it/s]\n",
      "100%|█████████████████████████████████████████| 300/300 [00:09<00:00, 31.08it/s]\n",
      "100%|█████████████████████████████████████████| 300/300 [00:09<00:00, 31.53it/s]\n",
      "100%|█████████████████████████████████████████| 300/300 [00:09<00:00, 30.73it/s]\n",
      "100%|█████████████████████████████████████████| 300/300 [00:10<00:00, 29.95it/s]\n",
      "100%|█████████████████████████████████████████| 300/300 [00:09<00:00, 30.60it/s]\n",
      "100%|█████████████████████████████████████████| 300/300 [00:09<00:00, 31.77it/s]\n",
      "100%|█████████████████████████████████████████| 300/300 [00:09<00:00, 31.79it/s]\n",
      "100%|█████████████████████████████████████████| 300/300 [00:10<00:00, 29.09it/s]\n",
      "100%|█████████████████████████████████████████| 300/300 [00:09<00:00, 30.83it/s]\n",
      "100%|█████████████████████████████████████████| 300/300 [00:09<00:00, 32.17it/s]\n",
      "100%|█████████████████████████████████████████| 300/300 [00:09<00:00, 31.87it/s]\n",
      "100%|█████████████████████████████████████████| 300/300 [00:09<00:00, 30.68it/s]\n",
      "100%|█████████████████████████████████████████| 300/300 [00:09<00:00, 30.39it/s]\n",
      "100%|█████████████████████████████████████████| 300/300 [00:09<00:00, 31.20it/s]\n",
      "100%|█████████████████████████████████████████| 300/300 [00:09<00:00, 32.03it/s]\n",
      "100%|█████████████████████████████████████████| 300/300 [00:10<00:00, 29.05it/s]\n",
      "100%|█████████████████████████████████████████| 300/300 [00:09<00:00, 31.28it/s]\n",
      "100%|█████████████████████████████████████████| 300/300 [00:09<00:00, 32.16it/s]\n",
      "100%|█████████████████████████████████████████| 300/300 [00:09<00:00, 31.62it/s]\n",
      "100%|█████████████████████████████████████████| 300/300 [00:10<00:00, 29.33it/s]\n",
      "100%|█████████████████████████████████████████| 300/300 [00:09<00:00, 30.67it/s]\n",
      "100%|█████████████████████████████████████████| 300/300 [00:09<00:00, 31.44it/s]\n",
      "100%|█████████████████████████████████████████| 300/300 [00:10<00:00, 29.77it/s]\n",
      "100%|█████████████████████████████████████████| 300/300 [00:09<00:00, 32.10it/s]\n",
      "100%|█████████████████████████████████████████| 300/300 [00:09<00:00, 31.38it/s]\n",
      "100%|█████████████████████████████████████████| 300/300 [00:10<00:00, 29.92it/s]\n",
      "100%|█████████████████████████████████████████| 300/300 [00:09<00:00, 30.41it/s]\n",
      "100%|█████████████████████████████████████████| 300/300 [00:09<00:00, 32.82it/s]\n",
      "100%|█████████████████████████████████████████| 300/300 [00:09<00:00, 30.72it/s]\n",
      "100%|█████████████████████████████████████████| 300/300 [00:09<00:00, 30.18it/s]\n",
      "100%|█████████████████████████████████████████| 300/300 [00:09<00:00, 31.78it/s]\n",
      "100%|█████████████████████████████████████████| 300/300 [00:09<00:00, 32.30it/s]\n",
      "100%|█████████████████████████████████████████| 300/300 [00:09<00:00, 30.02it/s]\n",
      "100%|█████████████████████████████████████████| 300/300 [00:09<00:00, 30.87it/s]\n",
      "100%|█████████████████████████████████████████| 300/300 [00:09<00:00, 31.57it/s]\n",
      "100%|█████████████████████████████████████████| 300/300 [00:09<00:00, 30.74it/s]\n",
      "100%|█████████████████████████████████████████| 300/300 [00:09<00:00, 30.51it/s]\n",
      "100%|█████████████████████████████████████████| 300/300 [00:09<00:00, 32.47it/s]\n",
      "100%|█████████████████████████████████████████| 300/300 [00:09<00:00, 32.18it/s]\n",
      "100%|█████████████████████████████████████████| 300/300 [00:09<00:00, 30.39it/s]\n",
      "100%|█████████████████████████████████████████| 300/300 [00:10<00:00, 29.60it/s]\n",
      "100%|█████████████████████████████████████████| 300/300 [00:09<00:00, 32.13it/s]\n",
      "100%|█████████████████████████████████████████| 300/300 [00:09<00:00, 30.87it/s]\n",
      "100%|█████████████████████████████████████████| 300/300 [00:10<00:00, 29.89it/s]\n",
      "100%|█████████████████████████████████████████| 300/300 [00:09<00:00, 31.21it/s]\n",
      "100%|█████████████████████████████████████████| 300/300 [00:09<00:00, 31.29it/s]\n",
      "100%|█████████████████████████████████████████| 300/300 [00:10<00:00, 29.18it/s]\n",
      "100%|█████████████████████████████████████████| 300/300 [00:09<00:00, 30.32it/s]\n",
      "100%|█████████████████████████████████████████| 300/300 [00:09<00:00, 31.42it/s]\n",
      "100%|█████████████████████████████████████████| 300/300 [00:10<00:00, 29.90it/s]\n",
      "100%|█████████████████████████████████████████| 300/300 [00:10<00:00, 29.13it/s]\n",
      "100%|█████████████████████████████████████████| 300/300 [00:10<00:00, 28.56it/s]\n",
      "100%|█████████████████████████████████████████| 300/300 [00:10<00:00, 29.82it/s]\n",
      "100%|█████████████████████████████████████████| 300/300 [00:10<00:00, 29.84it/s]\n",
      "100%|█████████████████████████████████████████| 300/300 [00:09<00:00, 30.79it/s]\n",
      "100%|█████████████████████████████████████████| 300/300 [00:09<00:00, 31.74it/s]\n",
      "100%|█████████████████████████████████████████| 300/300 [00:09<00:00, 30.40it/s]\n",
      "100%|█████████████████████████████████████████| 300/300 [00:10<00:00, 28.46it/s]\n",
      "100%|█████████████████████████████████████████| 300/300 [00:09<00:00, 30.60it/s]\n",
      "100%|█████████████████████████████████████████| 300/300 [00:09<00:00, 31.12it/s]\n",
      "100%|█████████████████████████████████████████| 300/300 [00:10<00:00, 29.40it/s]\n",
      "100%|█████████████████████████████████████████| 300/300 [00:09<00:00, 30.48it/s]\n"
     ]
    }
   ],
   "source": [
    "def run_rkhs_synthetic_trial(n_calib, n_test, alpha, radius, shift_locs, gamma, eps = 0.0001):\n",
    "\n",
    "    x_train_final, y_train_final, x_calib, y_calib, x_test, y_test = generate_cqr_data(\n",
    "                                                                        n_train = 2*n_calib,\n",
    "                                                                        n_test = n_test)\n",
    "    z_calib = pairwise_kernels(\n",
    "                X=x_calib,\n",
    "                Y=np.array(shift_locs).reshape(len(shift_locs),1),\n",
    "                metric=\"rbf\",\n",
    "                gamma=gamma\n",
    "            )\n",
    "    z_calib = np.column_stack((z_calib,np.ones(len(x_calib))))\n",
    "    z_test = pairwise_kernels(\n",
    "                X=x_test,\n",
    "                Y=np.array(shift_locs).reshape(len(shift_locs),1),\n",
    "                metric=\"rbf\",\n",
    "                gamma=gamma\n",
    "            )\n",
    "    z_test = np.column_stack((z_test,np.ones(len(x_test))))\n",
    "\n",
    "    reg = LinearRegression().fit(x_train_final, y_train_final)\n",
    "    scores_calib = np.abs(reg.predict(x_calib) - y_calib)\n",
    "    scores_test = np.abs(reg.predict(x_test) - y_test)\n",
    "\n",
    "    _, adaptive_coverage, adaptive_thresholds = compute_shifted_coverage(\n",
    "        scores_test,\n",
    "        scores_calib,\n",
    "        x_calib,\n",
    "        x_test,\n",
    "        None,\n",
    "        kernel=\"rbf\",\n",
    "        alpha=alpha,\n",
    "        radius=radius,\n",
    "        gamma=gamma,\n",
    "        z_calib=z_calib,\n",
    "        z_test=z_test,\n",
    "        exact=True,\n",
    "        eps=eps\n",
    "    )\n",
    "    qr_coverage, qr_thresholds = compute_qr_coverages(x_calib, x_test, scores_calib, \n",
    "                                        scores_test, alpha, gamma, radius, \"rbf\", z_calib,\n",
    "                                                      z_test, eps\n",
    "                                 )\n",
    "\n",
    "    q = np.quantile(scores_calib, [alpha * (1 + 1/len(scores_calib))])\n",
    "    conformal_thresholds = q\n",
    "    conformal_coverage = np.mean(scores_test <= conformal_thresholds+eps)\n",
    "    \n",
    "    results_df = pd.DataFrame({'coverage' : [adaptive_coverage, qr_coverage, conformal_coverage],\n",
    "                             'type' : ['robust','qr','split'],'shift_loc' : ['None','None','None']})\n",
    "    for shift in shift_loc:\n",
    "        shift_adaptive_cov = compute_coverage_at_shift(x_test, scores_test, \n",
    "                                                       adaptive_thresholds, shift, gamma, eps)\n",
    "        shift_qr_cov = compute_coverage_at_shift(x_test, scores_test, qr_thresholds,\n",
    "                                                 shift, gamma, eps)\n",
    "        shift_split_cov = compute_coverage_at_shift(x_test, scores_test, conformal_thresholds,\n",
    "                                                    shift, gamma, eps)\n",
    "        \n",
    "        shift_df = pd.DataFrame({'coverage' : [shift_adaptive_cov, shift_qr_cov, shift_split_cov],\n",
    "                             'type' : ['robust','qr','split'],'shift_loc' : [shift,shift,shift]})\n",
    "        \n",
    "        results_df = pd.concat([results_df,shift_df])\n",
    "        \n",
    "    return results_df\n",
    "\n",
    "ntrials = 20\n",
    "alpha = 0.9\n",
    "n_calib = 100\n",
    "n_test = 300                                             \n",
    "#radius = 1\n",
    "gamma = 2\n",
    "shift_loc = [0.5, 1.4, 2.5, 3.5, 4.5]\n",
    "#shift_loc = [3.5,4.5]\n",
    "\n",
    "radii=[1,100,1000,5000,100000]\n",
    "#radii=[1000]\n",
    "\n",
    "cqr_df = pd.DataFrame()\n",
    "for radius in radii:\n",
    "    for i in range(ntrials):\n",
    "        try:\n",
    "            append_df = run_rkhs_synthetic_trial(n_calib, n_test, alpha,\n",
    "                                         radius, shift_loc, gamma)\n",
    "            append_df['trial'] = i\n",
    "            append_df['radius'] = radius\n",
    "            cqr_df = pd.concat([cqr_df, append_df])\n",
    "        except cvx.error.SolverError:\n",
    "            print(\"one solver error\")\n",
    "            continue\n"
   ]
  },
  {
   "cell_type": "code",
   "execution_count": 183,
   "metadata": {},
   "outputs": [
    {
     "data": {
      "image/png": "[encoded data removed]",
      "text/plain": [
       "<Figure size 1440x288 with 5 Axes>"
      ]
     },
     "metadata": {},
     "output_type": "display_data"
    }
   ],
   "source": [
    "import seaborn as sns\n",
    "#sns.set(rc={'figure.figsize':(11.7,8.27)})\n",
    "\n",
    "def make_coverage_barplot(x,y,hue,**kwargs):\n",
    "    fig = sns.barplot(x=x,y=y,hue=hue)\n",
    "    fig.axhline(alpha,color='red')\n",
    "    \n",
    "fig = sns.FacetGrid(cqr_df, col=\"radius\",height=4) \n",
    "fig.map(make_coverage_barplot,\"shift_loc\",\"coverage\",\"type\")\n",
    "#fig.add_legend()\n",
    "plt.legend(bbox_to_anchor=(1.02, 1), loc='upper left', borderaxespad=0)\n",
    "plt.tight_layout()"
   ]
  },
  {
   "cell_type": "code",
   "execution_count": 184,
   "metadata": {},
   "outputs": [
    {
     "data": {
      "image/png": "[encoded data removed]",
      "text/plain": [
       "<Figure size 1440x288 with 5 Axes>"
      ]
     },
     "metadata": {},
     "output_type": "display_data"
    }
   ],
   "source": [
    "import seaborn as sns\n",
    "sns.set(rc={'figure.figsize':(11.7,8.27)})\n",
    "\n",
    "cqr_df['gap'] = np.abs(cqr_df['coverage'] - 0.9)\n",
    "\n",
    "def make__gap_barplot(x,y,hue,**kwargs):\n",
    "    fig = sns.barplot(x=x,y=y,hue=hue)\n",
    "\n",
    "fig = sns.FacetGrid(cqr_df, col=\"radius\",height=4) \n",
    "fig.map(make__gap_barplot,\"shift_loc\",\"gap\",\"type\")\n",
    "#fig.add_legend()\n",
    "plt.legend(bbox_to_anchor=(1.02, 1), loc='upper left', borderaxespad=0)\n",
    "plt.tight_layout()"
   ]
  },
  {
   "cell_type": "markdown",
   "metadata": {},
   "source": [
    "### Finite Dim Regression Example"
   ]
  },
  {
   "cell_type": "code",
   "execution_count": 58,
   "metadata": {},
   "outputs": [
    {
     "name": "stderr",
     "output_type": "stream",
     "text": [
      "100%|█████████████████████████████████████████| 200/200 [00:04<00:00, 48.41it/s]\n",
      "100%|█████████████████████████████████████████| 200/200 [00:04<00:00, 49.62it/s]\n",
      "100%|█████████████████████████████████████████| 200/200 [00:04<00:00, 46.88it/s]\n",
      "100%|█████████████████████████████████████████| 200/200 [00:04<00:00, 41.48it/s]\n",
      "100%|█████████████████████████████████████████| 200/200 [00:04<00:00, 44.42it/s]\n",
      "100%|█████████████████████████████████████████| 200/200 [00:04<00:00, 42.72it/s]\n",
      "100%|█████████████████████████████████████████| 200/200 [00:04<00:00, 44.93it/s]\n",
      "100%|█████████████████████████████████████████| 200/200 [00:04<00:00, 41.58it/s]\n",
      "100%|█████████████████████████████████████████| 200/200 [00:04<00:00, 40.40it/s]\n",
      "100%|█████████████████████████████████████████| 200/200 [00:04<00:00, 43.80it/s]\n",
      "100%|█████████████████████████████████████████| 200/200 [00:04<00:00, 44.99it/s]\n",
      "100%|█████████████████████████████████████████| 200/200 [00:04<00:00, 41.71it/s]\n",
      "100%|█████████████████████████████████████████| 200/200 [00:04<00:00, 41.39it/s]\n",
      "100%|█████████████████████████████████████████| 200/200 [00:04<00:00, 46.85it/s]\n",
      "100%|█████████████████████████████████████████| 200/200 [00:03<00:00, 51.27it/s]\n",
      "100%|█████████████████████████████████████████| 200/200 [00:03<00:00, 50.67it/s]\n",
      "100%|█████████████████████████████████████████| 200/200 [00:04<00:00, 49.05it/s]\n",
      "100%|█████████████████████████████████████████| 200/200 [00:04<00:00, 49.30it/s]\n",
      "100%|█████████████████████████████████████████| 200/200 [00:04<00:00, 42.87it/s]\n",
      "100%|█████████████████████████████████████████| 200/200 [00:05<00:00, 38.00it/s]\n",
      "100%|█████████████████████████████████████████| 200/200 [00:06<00:00, 29.82it/s]\n",
      "100%|█████████████████████████████████████████| 200/200 [00:05<00:00, 37.63it/s]\n",
      "100%|█████████████████████████████████████████| 200/200 [00:04<00:00, 42.97it/s]\n",
      "100%|█████████████████████████████████████████| 200/200 [00:04<00:00, 44.74it/s]\n",
      "100%|█████████████████████████████████████████| 200/200 [00:04<00:00, 44.30it/s]\n",
      "100%|█████████████████████████████████████████| 200/200 [00:04<00:00, 43.40it/s]\n",
      "100%|█████████████████████████████████████████| 200/200 [00:05<00:00, 39.67it/s]\n",
      "100%|█████████████████████████████████████████| 200/200 [00:05<00:00, 39.83it/s]\n",
      "100%|█████████████████████████████████████████| 200/200 [00:05<00:00, 37.51it/s]\n",
      "100%|█████████████████████████████████████████| 200/200 [00:04<00:00, 43.09it/s]\n",
      "100%|█████████████████████████████████████████| 200/200 [00:04<00:00, 44.20it/s]\n",
      "100%|█████████████████████████████████████████| 200/200 [00:04<00:00, 45.43it/s]\n",
      "100%|█████████████████████████████████████████| 200/200 [00:04<00:00, 48.13it/s]\n",
      "100%|█████████████████████████████████████████| 200/200 [00:04<00:00, 43.62it/s]\n",
      "100%|█████████████████████████████████████████| 200/200 [00:04<00:00, 44.16it/s]\n",
      "100%|█████████████████████████████████████████| 200/200 [00:04<00:00, 45.68it/s]\n",
      "100%|█████████████████████████████████████████| 200/200 [00:04<00:00, 43.00it/s]\n",
      "100%|█████████████████████████████████████████| 200/200 [00:04<00:00, 44.53it/s]\n",
      "100%|█████████████████████████████████████████| 200/200 [00:04<00:00, 40.87it/s]\n",
      "100%|█████████████████████████████████████████| 200/200 [00:04<00:00, 45.20it/s]\n",
      "100%|█████████████████████████████████████████| 200/200 [00:04<00:00, 42.13it/s]\n",
      "100%|█████████████████████████████████████████| 200/200 [00:04<00:00, 40.25it/s]\n",
      "100%|█████████████████████████████████████████| 200/200 [00:04<00:00, 42.67it/s]\n",
      "100%|█████████████████████████████████████████| 200/200 [00:04<00:00, 44.77it/s]\n",
      "100%|█████████████████████████████████████████| 200/200 [00:04<00:00, 42.71it/s]\n",
      "100%|█████████████████████████████████████████| 200/200 [00:04<00:00, 42.36it/s]\n",
      "100%|█████████████████████████████████████████| 200/200 [00:04<00:00, 42.03it/s]\n",
      "100%|█████████████████████████████████████████| 200/200 [00:03<00:00, 51.35it/s]\n",
      "100%|█████████████████████████████████████████| 200/200 [00:03<00:00, 56.29it/s]\n",
      "100%|█████████████████████████████████████████| 200/200 [00:03<00:00, 57.48it/s]\n",
      "100%|█████████████████████████████████████████| 200/200 [00:04<00:00, 45.85it/s]\n",
      "100%|█████████████████████████████████████████| 200/200 [00:03<00:00, 53.19it/s]\n",
      "100%|█████████████████████████████████████████| 200/200 [00:04<00:00, 48.17it/s]\n",
      "100%|█████████████████████████████████████████| 200/200 [00:03<00:00, 50.11it/s]\n",
      "100%|█████████████████████████████████████████| 200/200 [00:03<00:00, 54.94it/s]\n",
      "100%|█████████████████████████████████████████| 200/200 [00:04<00:00, 47.95it/s]\n",
      "100%|█████████████████████████████████████████| 200/200 [00:03<00:00, 59.00it/s]\n",
      "100%|█████████████████████████████████████████| 200/200 [00:03<00:00, 61.35it/s]\n",
      "100%|█████████████████████████████████████████| 200/200 [00:03<00:00, 62.76it/s]\n",
      "100%|█████████████████████████████████████████| 200/200 [00:03<00:00, 64.03it/s]\n",
      "100%|█████████████████████████████████████████| 200/200 [00:03<00:00, 59.99it/s]\n",
      "100%|█████████████████████████████████████████| 200/200 [00:03<00:00, 62.71it/s]\n",
      "100%|█████████████████████████████████████████| 200/200 [00:03<00:00, 64.67it/s]\n",
      "100%|█████████████████████████████████████████| 200/200 [00:03<00:00, 64.06it/s]\n",
      "100%|█████████████████████████████████████████| 200/200 [00:03<00:00, 64.03it/s]\n",
      "100%|█████████████████████████████████████████| 200/200 [00:03<00:00, 54.41it/s]\n",
      "100%|█████████████████████████████████████████| 200/200 [00:04<00:00, 48.27it/s]\n",
      "100%|█████████████████████████████████████████| 200/200 [00:04<00:00, 48.14it/s]\n",
      "100%|█████████████████████████████████████████| 200/200 [00:04<00:00, 43.92it/s]\n",
      "100%|█████████████████████████████████████████| 200/200 [00:03<00:00, 53.23it/s]\n",
      "100%|█████████████████████████████████████████| 200/200 [00:03<00:00, 60.44it/s]\n",
      "100%|█████████████████████████████████████████| 200/200 [00:03<00:00, 64.06it/s]\n",
      "100%|█████████████████████████████████████████| 200/200 [00:03<00:00, 58.95it/s]\n",
      "100%|█████████████████████████████████████████| 200/200 [00:03<00:00, 55.34it/s]\n",
      "100%|█████████████████████████████████████████| 200/200 [00:03<00:00, 53.09it/s]\n",
      "100%|█████████████████████████████████████████| 200/200 [00:04<00:00, 48.34it/s]\n",
      "100%|█████████████████████████████████████████| 200/200 [00:04<00:00, 43.66it/s]\n",
      "100%|█████████████████████████████████████████| 200/200 [00:04<00:00, 49.18it/s]\n",
      "100%|█████████████████████████████████████████| 200/200 [00:03<00:00, 50.77it/s]\n",
      "100%|█████████████████████████████████████████| 200/200 [00:03<00:00, 57.94it/s]\n",
      "100%|█████████████████████████████████████████| 200/200 [00:03<00:00, 50.37it/s]\n",
      "100%|█████████████████████████████████████████| 200/200 [00:03<00:00, 51.13it/s]\n",
      "100%|█████████████████████████████████████████| 200/200 [00:03<00:00, 54.06it/s]\n",
      "100%|█████████████████████████████████████████| 200/200 [00:03<00:00, 54.57it/s]\n",
      "100%|█████████████████████████████████████████| 200/200 [00:03<00:00, 51.02it/s]\n",
      "100%|█████████████████████████████████████████| 200/200 [00:03<00:00, 52.12it/s]\n",
      "100%|█████████████████████████████████████████| 200/200 [00:04<00:00, 42.29it/s]\n",
      "100%|█████████████████████████████████████████| 200/200 [00:04<00:00, 46.77it/s]\n",
      "100%|█████████████████████████████████████████| 200/200 [00:04<00:00, 46.88it/s]\n",
      "100%|█████████████████████████████████████████| 200/200 [00:04<00:00, 49.98it/s]\n",
      "100%|█████████████████████████████████████████| 200/200 [00:03<00:00, 50.83it/s]\n",
      "100%|█████████████████████████████████████████| 200/200 [00:03<00:00, 55.98it/s]\n",
      "100%|█████████████████████████████████████████| 200/200 [00:03<00:00, 53.31it/s]\n",
      "100%|█████████████████████████████████████████| 200/200 [00:03<00:00, 52.70it/s]\n",
      "100%|█████████████████████████████████████████| 200/200 [00:04<00:00, 45.99it/s]\n",
      "100%|█████████████████████████████████████████| 200/200 [00:04<00:00, 49.62it/s]\n",
      "100%|█████████████████████████████████████████| 200/200 [00:04<00:00, 48.78it/s]\n",
      "100%|█████████████████████████████████████████| 200/200 [00:04<00:00, 46.39it/s]\n",
      "100%|█████████████████████████████████████████| 200/200 [00:04<00:00, 49.75it/s]\n",
      "100%|█████████████████████████████████████████| 200/200 [00:04<00:00, 43.84it/s]\n",
      "100%|█████████████████████████████████████████| 200/200 [00:07<00:00, 26.73it/s]\n"
     ]
    },
    {
     "name": "stderr",
     "output_type": "stream",
     "text": [
      "100%|█████████████████████████████████████████| 200/200 [00:06<00:00, 31.40it/s]\n",
      "100%|█████████████████████████████████████████| 200/200 [00:05<00:00, 33.91it/s]\n",
      "100%|█████████████████████████████████████████| 200/200 [00:05<00:00, 34.54it/s]\n",
      "100%|█████████████████████████████████████████| 200/200 [00:04<00:00, 41.36it/s]\n",
      "100%|█████████████████████████████████████████| 200/200 [00:05<00:00, 33.48it/s]\n",
      "100%|█████████████████████████████████████████| 200/200 [00:05<00:00, 39.12it/s]\n",
      "100%|█████████████████████████████████████████| 200/200 [00:05<00:00, 35.06it/s]\n",
      "100%|█████████████████████████████████████████| 200/200 [00:06<00:00, 30.36it/s]\n",
      "100%|█████████████████████████████████████████| 200/200 [00:06<00:00, 31.53it/s]\n",
      "100%|█████████████████████████████████████████| 200/200 [00:06<00:00, 32.38it/s]\n",
      "100%|█████████████████████████████████████████| 200/200 [00:05<00:00, 39.09it/s]\n",
      "100%|█████████████████████████████████████████| 200/200 [00:04<00:00, 40.01it/s]\n",
      "100%|█████████████████████████████████████████| 200/200 [00:04<00:00, 43.45it/s]\n",
      "100%|█████████████████████████████████████████| 200/200 [00:05<00:00, 33.74it/s]\n",
      "100%|█████████████████████████████████████████| 200/200 [00:05<00:00, 39.19it/s]\n",
      "100%|█████████████████████████████████████████| 200/200 [00:05<00:00, 39.16it/s]\n",
      "100%|█████████████████████████████████████████| 200/200 [00:05<00:00, 37.54it/s]\n",
      "100%|█████████████████████████████████████████| 200/200 [00:04<00:00, 43.12it/s]\n",
      "100%|█████████████████████████████████████████| 200/200 [00:05<00:00, 37.89it/s]\n"
     ]
    }
   ],
   "source": [
    "def run_FD_trial(n_calib,n_test,alpha,shift_locs,dimension,a=1,b=1,gamma=2,eps=0.0001):\n",
    "    x_train_final, y_train_final, x_calib, y_calib, x_test, y_test = generate_cqr_data(\n",
    "                                                                        2*n_calib,\n",
    "                                                                        n_test,\n",
    "                                                                        a,b)\n",
    "    rkhs_basis_points = np.linspace(0,5,dimension)\n",
    "    \n",
    "    z_calib = pairwise_kernels(\n",
    "                X=x_calib,\n",
    "                Y=rkhs_basis_points.reshape(len(rkhs_basis_points),1),\n",
    "                metric=\"rbf\",\n",
    "                gamma=gamma\n",
    "            )\n",
    "    z_calib = np.column_stack((z_calib,np.ones(len(x_calib))))\n",
    "    z_test = pairwise_kernels(\n",
    "                X=x_test,\n",
    "                Y=rkhs_basis_points.reshape(len(rkhs_basis_points),1),\n",
    "                metric=\"rbf\",\n",
    "                gamma=gamma\n",
    "            )\n",
    "    z_test = np.column_stack((z_test,np.ones(len(x_test))))\n",
    "\n",
    "    reg = LinearRegression().fit(x_train_final, y_train_final)\n",
    "    scores_calib = np.abs(reg.predict(x_calib) - y_calib)\n",
    "    scores_test = np.abs(reg.predict(x_test) - y_test)\n",
    "\n",
    "    _, adaptive_coverage, adaptive_thresholds = compute_shifted_coverage(\n",
    "        scores_test,\n",
    "        scores_calib,\n",
    "        x_calib,\n",
    "        x_test,\n",
    "        None,\n",
    "        kernel=None,\n",
    "        alpha=alpha,\n",
    "        radius=None,\n",
    "        gamma=None,\n",
    "        z_calib=z_calib,\n",
    "        z_test=z_test,\n",
    "        exact=True,\n",
    "        eps=eps\n",
    "    )\n",
    "    qr_coverage, qr_thresholds = compute_qr_coverages(None, None, scores_calib, \n",
    "                                        scores_test, alpha, None, None, None, z_calib,\n",
    "                                                      z_test, eps\n",
    "                                 )\n",
    "\n",
    "    q = np.quantile(scores_calib, [alpha * (1 + 1/len(scores_calib))])\n",
    "    conformal_thresholds = q\n",
    "    conformal_coverage = np.mean(scores_test <= conformal_thresholds+eps)\n",
    "    \n",
    "    results_df = pd.DataFrame({'Coverage' : [adaptive_coverage, qr_coverage, conformal_coverage],\n",
    "                             'type' : ['Robust','QR','Split'],'Shift Loc' : ['Marginal','Marginal','Marginal']})\n",
    "    for shift in shift_loc:\n",
    "        shift_adaptive_cov = compute_coverage_at_shift(x_test, scores_test, \n",
    "                                                       adaptive_thresholds, shift, gamma, eps)\n",
    "        shift_qr_cov = compute_coverage_at_shift(x_test, scores_test, qr_thresholds,\n",
    "                                                 shift, gamma, eps)\n",
    "        shift_split_cov = compute_coverage_at_shift(x_test, scores_test, conformal_thresholds,\n",
    "                                                    shift, gamma, eps)\n",
    "        \n",
    "        shift_df = pd.DataFrame({'Coverage' : [shift_adaptive_cov, shift_qr_cov, shift_split_cov],\n",
    "                             'type' : ['Robust','QR','Split'],'Shift Loc' : [shift,shift,shift]})\n",
    "        \n",
    "        results_df = pd.concat([results_df,shift_df])\n",
    "        \n",
    "    return results_df\n",
    "\n",
    "ntrials = 20\n",
    "alpha = 0.9\n",
    "n_calib = 200\n",
    "n_test = 200                                             \n",
    "#shift_loc = [0.5, 1.4, 2.5, 3.5, 4.5]\n",
    "#shift_loc = [3.5,4.5]\n",
    "shift_loc = []\n",
    "a=1\n",
    "b=1\n",
    "\n",
    "dimensions=[1,5,10,20,30,50]\n",
    "\n",
    "cqr_df = pd.DataFrame()\n",
    "for d in dimensions:\n",
    "    for i in range(ntrials):\n",
    "        try:\n",
    "            append_df = run_FD_trial(n_calib, n_test, alpha,\n",
    "                                                 shift_loc, d, a, b)\n",
    "            append_df['trial'] = i\n",
    "            append_df['Dimension'] = d\n",
    "            cqr_df = pd.concat([cqr_df, append_df])\n",
    "        except cvx.error.SolverError:\n",
    "            print(\"one solver error\")\n",
    "            continue\n"
   ]
  },
  {
   "cell_type": "code",
   "execution_count": 67,
   "metadata": {},
   "outputs": [
    {
     "data": {
      "image/png": "[encoded data removed]",
      "text/plain": [
       "<Figure size 842.4x595.44 with 1 Axes>"
      ]
     },
     "metadata": {},
     "output_type": "display_data"
    }
   ],
   "source": [
    "import seaborn as sns\n",
    "#sns.set(rc={'figure.figsize':(11.7,8.27)})\n",
    "\n",
    "# def make_coverage_barplot(x,y,hue,**kwargs):\n",
    "#     fig = sns.barplot(x=x,y=y,hue=hue)\n",
    "#     fig.axhline(alpha,color='red')\n",
    "    \n",
    "# fig = sns.FacetGrid(cqr_df, col=\"Dimension\",height=4) \n",
    "# fig.map(make_coverage_barplot,\"Shift Loc\",\"Coverage\",\"type\")\n",
    "# #fig.add_legend()\n",
    "# plt.legend(bbox_to_anchor=(1.02, 1), loc='upper left', borderaxespad=0)\n",
    "# plt.tight_layout()\n",
    "\n",
    "# print(np.mean(cqr_df['Coverage'][cqr_df['type'] == 'Robust']))\n",
    "# print(np.mean(cqr_df['Coverage'][cqr_df['type'] == 'QR']))\n",
    "\n",
    "fig = sns.barplot(cqr_df, x=\"Dimension\",y=\"Coverage\",hue=\"type\") \n",
    "\n",
    "plt.legend(bbox_to_anchor=(1.02, 1), loc='upper left', borderaxespad=0)\n",
    "fig.axhline(alpha,color='red')\n",
    "plt.tight_layout()"
   ]
  },
  {
   "cell_type": "code",
   "execution_count": 68,
   "metadata": {},
   "outputs": [
    {
     "data": {
      "text/plain": [
       "<Figure size 842.4x595.44 with 0 Axes>"
      ]
     },
     "metadata": {},
     "output_type": "display_data"
    }
   ],
   "source": [
    "plt.savefig('figures/OneDimManyRBFsCoverage.png')"
   ]
  },
  {
   "cell_type": "code",
   "execution_count": 69,
   "metadata": {},
   "outputs": [
    {
     "data": {
      "image/png": "[encoded data removed]",
      "text/plain": [
       "<Figure size 842.4x595.44 with 1 Axes>"
      ]
     },
     "metadata": {},
     "output_type": "display_data"
    }
   ],
   "source": [
    "import seaborn as sns\n",
    "sns.set(rc={'figure.figsize':(11.7,8.27)})\n",
    "\n",
    "cqr_df['Coverage Gap'] = np.abs(cqr_df['Coverage'] - alpha)\n",
    "\n",
    "# def make__gap_barplot(x,y,hue,**kwargs):\n",
    "#     fig = sns.barplot(x=x,y=y,hue=hue)\n",
    "\n",
    "# fig = sns.FacetGrid(cqr_df, col=\"Dimension\",height=4) \n",
    "# fig.map(make__gap_barplot,\"Shift Loc\",\"Coverage Gap\",\"type\")\n",
    "# #fig.add_legend()\n",
    "# plt.legend(bbox_to_anchor=(1.02, 1), loc='upper left', borderaxespad=0)\n",
    "# plt.tight_layout()\n",
    "\n",
    "\n",
    "fig = sns.barplot(cqr_df, x=\"Dimension\",y=\"Coverage Gap\",hue=\"type\") \n",
    "\n",
    "plt.legend(bbox_to_anchor=(1.02, 1), loc='upper left', borderaxespad=0)\n",
    "plt.tight_layout()"
   ]
  },
  {
   "cell_type": "code",
   "execution_count": 70,
   "metadata": {},
   "outputs": [
    {
     "data": {
      "text/plain": [
       "<Figure size 842.4x595.44 with 0 Axes>"
      ]
     },
     "metadata": {},
     "output_type": "display_data"
    }
   ],
   "source": [
    "plt.savefig('figures/OneDimManyRBFsGap.png')"
   ]
  },
  {
   "cell_type": "markdown",
   "metadata": {},
   "source": [
    "### High Dimensional Experiment"
   ]
  },
  {
   "cell_type": "code",
   "execution_count": 43,
   "metadata": {},
   "outputs": [],
   "source": [
    "def generate_high_dim_data(n_train,n_calib,n_test,d):\n",
    "    n = n_train + n_calib + n_test\n",
    "    X = np.random.uniform(size = (n,d))\n",
    "    \n",
    "    betas = np.random.normal(0,1,2*d)\n",
    "    sds = 1+(X@betas[0:d] + 2*(X*X) @ betas[d:])/d\n",
    "    sds = np.maximum(sds,0.5)\n",
    "\n",
    "    y = np.random.normal(loc = 0, scale = sds, size = n)\n",
    "    \n",
    "    X = np.column_stack((X,np.ones(n)))\n",
    "    \n",
    "    x_train = X[0:n_train,:]\n",
    "    x_calib = X[n_train:(n_train + n_calib),:]\n",
    "    x_test = X[(n_train + n_calib):,:]\n",
    "    \n",
    "    y_train = y[0:n_train]\n",
    "    y_calib = y[n_train:(n_train + n_calib)]\n",
    "    y_test = y[(n_train + n_calib):]\n",
    "    \n",
    "    return x_train, y_train, x_calib, y_calib, x_test, y_test\n",
    "\n",
    "def run_HD_trial(n_calib,n_test,alpha,d,eps=0.0001):\n",
    "    x_train, y_train, x_calib, y_calib, x_test, y_test = generate_high_dim_data(n_calib,\n",
    "                                                                        n_calib,\n",
    "                                                                        n_test,d)\n",
    "\n",
    "    reg = LinearRegression().fit(x_train, y_train)\n",
    "    scores_calib = np.abs(reg.predict(x_calib) - y_calib)\n",
    "    scores_test = np.abs(reg.predict(x_test) - y_test)\n",
    "\n",
    "    _, adaptive_coverage, adaptive_thresholds = compute_shifted_coverage(\n",
    "        scores_test,\n",
    "        scores_calib,\n",
    "        x_calib,\n",
    "        x_test,\n",
    "        None,\n",
    "        kernel=None,\n",
    "        alpha=alpha,\n",
    "        radius=None,\n",
    "        gamma=None,\n",
    "        z_calib=x_calib,\n",
    "        z_test=x_test,\n",
    "        exact=True,\n",
    "        eps=eps\n",
    "    )\n",
    "    qr_coverage, qr_thresholds = compute_qr_coverages(None, None, scores_calib, \n",
    "                                        scores_test, alpha, None, None, None, x_calib,\n",
    "                                                      x_test, eps\n",
    "                                 )\n",
    "\n",
    "    q = np.quantile(scores_calib, [alpha * (1 + 1/len(scores_calib))])\n",
    "    conformal_thresholds = q\n",
    "    conformal_coverage = np.mean(scores_test <= conformal_thresholds+eps)\n",
    "    \n",
    "    results_df = pd.DataFrame({'Coverage' : [adaptive_coverage, qr_coverage, conformal_coverage],\n",
    "                             'type' : ['Robust','QR','Split']})\n",
    "        \n",
    "    return results_df\n"
   ]
  },
  {
   "cell_type": "code",
   "execution_count": 59,
   "metadata": {},
   "outputs": [
    {
     "name": "stderr",
     "output_type": "stream",
     "text": [
      "100%|█████████████████████████████████████████| 200/200 [00:03<00:00, 65.71it/s]\n",
      "100%|█████████████████████████████████████████| 200/200 [00:03<00:00, 61.95it/s]\n",
      "100%|█████████████████████████████████████████| 200/200 [00:03<00:00, 57.33it/s]\n",
      "100%|█████████████████████████████████████████| 200/200 [00:03<00:00, 62.57it/s]\n",
      "100%|█████████████████████████████████████████| 200/200 [00:03<00:00, 54.01it/s]\n",
      "100%|█████████████████████████████████████████| 200/200 [00:03<00:00, 63.06it/s]\n",
      "100%|█████████████████████████████████████████| 200/200 [00:02<00:00, 69.34it/s]\n",
      "100%|█████████████████████████████████████████| 200/200 [00:02<00:00, 76.68it/s]\n",
      "100%|█████████████████████████████████████████| 200/200 [00:02<00:00, 80.36it/s]\n",
      "100%|█████████████████████████████████████████| 200/200 [00:02<00:00, 81.91it/s]\n",
      "100%|█████████████████████████████████████████| 200/200 [00:02<00:00, 77.67it/s]\n",
      "100%|█████████████████████████████████████████| 200/200 [00:02<00:00, 73.52it/s]\n",
      "100%|█████████████████████████████████████████| 200/200 [00:02<00:00, 69.03it/s]\n",
      "100%|█████████████████████████████████████████| 200/200 [00:03<00:00, 61.19it/s]\n",
      "100%|█████████████████████████████████████████| 200/200 [00:03<00:00, 58.81it/s]\n",
      "100%|█████████████████████████████████████████| 200/200 [00:03<00:00, 54.02it/s]\n",
      "100%|█████████████████████████████████████████| 200/200 [00:03<00:00, 54.13it/s]\n",
      "100%|█████████████████████████████████████████| 200/200 [00:03<00:00, 60.03it/s]\n",
      "100%|█████████████████████████████████████████| 200/200 [00:03<00:00, 61.02it/s]\n",
      "100%|█████████████████████████████████████████| 200/200 [00:03<00:00, 59.96it/s]\n",
      "100%|█████████████████████████████████████████| 200/200 [00:03<00:00, 64.35it/s]\n",
      "100%|█████████████████████████████████████████| 200/200 [00:03<00:00, 62.65it/s]\n",
      "100%|█████████████████████████████████████████| 200/200 [00:03<00:00, 64.88it/s]\n",
      "100%|█████████████████████████████████████████| 200/200 [00:03<00:00, 61.88it/s]\n",
      "100%|█████████████████████████████████████████| 200/200 [00:02<00:00, 67.06it/s]\n",
      "100%|█████████████████████████████████████████| 200/200 [00:03<00:00, 63.17it/s]\n",
      "100%|█████████████████████████████████████████| 200/200 [00:03<00:00, 51.95it/s]\n",
      "100%|█████████████████████████████████████████| 200/200 [00:03<00:00, 54.98it/s]\n",
      "100%|█████████████████████████████████████████| 200/200 [00:03<00:00, 50.40it/s]\n",
      "100%|█████████████████████████████████████████| 200/200 [00:03<00:00, 57.67it/s]\n",
      "100%|█████████████████████████████████████████| 200/200 [00:03<00:00, 53.81it/s]\n",
      "100%|█████████████████████████████████████████| 200/200 [00:03<00:00, 55.53it/s]\n",
      "100%|█████████████████████████████████████████| 200/200 [00:03<00:00, 62.78it/s]\n",
      "100%|█████████████████████████████████████████| 200/200 [00:03<00:00, 62.13it/s]\n",
      "100%|█████████████████████████████████████████| 200/200 [00:03<00:00, 65.86it/s]\n",
      "100%|█████████████████████████████████████████| 200/200 [00:02<00:00, 69.98it/s]\n",
      "100%|█████████████████████████████████████████| 200/200 [00:02<00:00, 75.24it/s]\n",
      "100%|█████████████████████████████████████████| 200/200 [00:02<00:00, 75.71it/s]\n",
      "100%|█████████████████████████████████████████| 200/200 [00:02<00:00, 75.28it/s]\n",
      "100%|█████████████████████████████████████████| 200/200 [00:02<00:00, 77.83it/s]\n",
      "100%|█████████████████████████████████████████| 200/200 [00:02<00:00, 75.84it/s]\n",
      "100%|█████████████████████████████████████████| 200/200 [00:02<00:00, 74.68it/s]\n",
      "100%|█████████████████████████████████████████| 200/200 [00:02<00:00, 69.77it/s]\n",
      "100%|█████████████████████████████████████████| 200/200 [00:03<00:00, 66.64it/s]\n",
      "100%|█████████████████████████████████████████| 200/200 [00:03<00:00, 64.40it/s]\n",
      "100%|█████████████████████████████████████████| 200/200 [00:03<00:00, 62.45it/s]\n",
      "100%|█████████████████████████████████████████| 200/200 [00:03<00:00, 50.70it/s]\n",
      "100%|█████████████████████████████████████████| 200/200 [00:03<00:00, 52.73it/s]\n",
      "100%|█████████████████████████████████████████| 200/200 [00:04<00:00, 45.94it/s]\n",
      "100%|█████████████████████████████████████████| 200/200 [00:03<00:00, 54.21it/s]\n",
      "100%|█████████████████████████████████████████| 200/200 [00:03<00:00, 62.83it/s]\n",
      "100%|█████████████████████████████████████████| 200/200 [00:03<00:00, 62.93it/s]\n",
      "100%|█████████████████████████████████████████| 200/200 [00:02<00:00, 68.78it/s]\n",
      "100%|█████████████████████████████████████████| 200/200 [00:02<00:00, 67.06it/s]\n",
      "100%|█████████████████████████████████████████| 200/200 [00:02<00:00, 73.20it/s]\n",
      "100%|█████████████████████████████████████████| 200/200 [00:02<00:00, 74.75it/s]\n",
      "100%|█████████████████████████████████████████| 200/200 [00:02<00:00, 73.04it/s]\n",
      "100%|█████████████████████████████████████████| 200/200 [00:02<00:00, 71.65it/s]\n",
      "100%|█████████████████████████████████████████| 200/200 [00:03<00:00, 57.48it/s]\n",
      "100%|█████████████████████████████████████████| 200/200 [00:03<00:00, 52.02it/s]\n",
      "100%|█████████████████████████████████████████| 200/200 [00:05<00:00, 34.84it/s]\n",
      "100%|█████████████████████████████████████████| 200/200 [00:05<00:00, 34.14it/s]\n",
      "100%|█████████████████████████████████████████| 200/200 [00:04<00:00, 42.42it/s]\n",
      "100%|█████████████████████████████████████████| 200/200 [00:03<00:00, 54.83it/s]\n",
      "100%|█████████████████████████████████████████| 200/200 [00:03<00:00, 61.95it/s]\n",
      "100%|█████████████████████████████████████████| 200/200 [00:03<00:00, 59.27it/s]\n",
      "100%|█████████████████████████████████████████| 200/200 [00:03<00:00, 64.97it/s]\n",
      "100%|█████████████████████████████████████████| 200/200 [00:03<00:00, 65.19it/s]\n",
      "100%|█████████████████████████████████████████| 200/200 [00:03<00:00, 61.74it/s]\n",
      "100%|█████████████████████████████████████████| 200/200 [00:03<00:00, 61.44it/s]\n",
      "100%|█████████████████████████████████████████| 200/200 [00:03<00:00, 60.60it/s]\n",
      "100%|█████████████████████████████████████████| 200/200 [00:04<00:00, 49.30it/s]\n",
      "100%|█████████████████████████████████████████| 200/200 [00:03<00:00, 51.68it/s]\n",
      "100%|█████████████████████████████████████████| 200/200 [00:04<00:00, 49.26it/s]\n",
      "100%|█████████████████████████████████████████| 200/200 [00:03<00:00, 56.93it/s]\n",
      "100%|█████████████████████████████████████████| 200/200 [00:03<00:00, 59.38it/s]\n",
      "100%|█████████████████████████████████████████| 200/200 [00:03<00:00, 57.19it/s]\n",
      "100%|█████████████████████████████████████████| 200/200 [00:03<00:00, 60.04it/s]\n",
      "100%|█████████████████████████████████████████| 200/200 [00:04<00:00, 48.21it/s]\n",
      "100%|█████████████████████████████████████████| 200/200 [00:03<00:00, 54.34it/s]\n",
      "100%|█████████████████████████████████████████| 200/200 [00:04<00:00, 47.58it/s]\n",
      "100%|█████████████████████████████████████████| 200/200 [00:03<00:00, 50.96it/s]\n",
      "100%|█████████████████████████████████████████| 200/200 [00:04<00:00, 49.92it/s]\n",
      "100%|█████████████████████████████████████████| 200/200 [00:03<00:00, 51.90it/s]\n",
      "100%|█████████████████████████████████████████| 200/200 [00:03<00:00, 50.62it/s]\n",
      "100%|█████████████████████████████████████████| 200/200 [00:03<00:00, 54.23it/s]\n",
      "100%|█████████████████████████████████████████| 200/200 [00:03<00:00, 57.82it/s]\n",
      "100%|█████████████████████████████████████████| 200/200 [00:03<00:00, 57.34it/s]\n",
      "100%|█████████████████████████████████████████| 200/200 [00:03<00:00, 55.95it/s]\n",
      "100%|█████████████████████████████████████████| 200/200 [00:03<00:00, 57.19it/s]\n",
      "100%|█████████████████████████████████████████| 200/200 [00:03<00:00, 51.72it/s]\n",
      "100%|█████████████████████████████████████████| 200/200 [00:04<00:00, 49.13it/s]\n",
      "100%|█████████████████████████████████████████| 200/200 [00:04<00:00, 46.08it/s]\n",
      "100%|█████████████████████████████████████████| 200/200 [00:04<00:00, 47.23it/s]\n",
      "100%|█████████████████████████████████████████| 200/200 [00:03<00:00, 50.47it/s]\n",
      "100%|█████████████████████████████████████████| 200/200 [00:04<00:00, 45.97it/s]\n",
      "100%|█████████████████████████████████████████| 200/200 [00:04<00:00, 49.81it/s]\n",
      "100%|█████████████████████████████████████████| 200/200 [00:04<00:00, 47.38it/s]\n",
      "100%|█████████████████████████████████████████| 200/200 [00:04<00:00, 49.21it/s]\n",
      "100%|█████████████████████████████████████████| 200/200 [00:04<00:00, 46.87it/s]\n",
      "100%|█████████████████████████████████████████| 200/200 [00:04<00:00, 40.34it/s]\n"
     ]
    },
    {
     "name": "stderr",
     "output_type": "stream",
     "text": [
      "100%|█████████████████████████████████████████| 200/200 [00:04<00:00, 43.36it/s]\n",
      "100%|█████████████████████████████████████████| 200/200 [00:04<00:00, 43.70it/s]\n",
      "100%|█████████████████████████████████████████| 200/200 [00:04<00:00, 47.00it/s]\n",
      "100%|█████████████████████████████████████████| 200/200 [00:04<00:00, 49.23it/s]\n",
      "100%|█████████████████████████████████████████| 200/200 [00:03<00:00, 50.16it/s]\n",
      "100%|█████████████████████████████████████████| 200/200 [00:04<00:00, 47.03it/s]\n",
      "100%|█████████████████████████████████████████| 200/200 [00:04<00:00, 45.49it/s]\n",
      "100%|█████████████████████████████████████████| 200/200 [00:04<00:00, 41.84it/s]\n",
      "100%|█████████████████████████████████████████| 200/200 [00:05<00:00, 39.45it/s]\n",
      "100%|█████████████████████████████████████████| 200/200 [00:04<00:00, 40.39it/s]\n",
      "100%|█████████████████████████████████████████| 200/200 [00:04<00:00, 43.67it/s]\n",
      "100%|█████████████████████████████████████████| 200/200 [00:04<00:00, 47.86it/s]\n",
      "100%|█████████████████████████████████████████| 200/200 [00:04<00:00, 46.81it/s]\n",
      "100%|█████████████████████████████████████████| 200/200 [00:04<00:00, 46.49it/s]\n",
      "100%|█████████████████████████████████████████| 200/200 [00:04<00:00, 42.14it/s]\n",
      "100%|█████████████████████████████████████████| 200/200 [00:04<00:00, 42.45it/s]\n",
      "100%|█████████████████████████████████████████| 200/200 [00:05<00:00, 39.48it/s]\n",
      "100%|█████████████████████████████████████████| 200/200 [00:05<00:00, 38.77it/s]\n",
      "100%|█████████████████████████████████████████| 200/200 [00:04<00:00, 42.51it/s]\n"
     ]
    }
   ],
   "source": [
    "ntrials = 20\n",
    "alpha = 0.9\n",
    "n_calib = 200\n",
    "n_test = 200                                             \n",
    "\n",
    "dimensions=[1,5,10,20,30,50]\n",
    "\n",
    "high_dim_df = pd.DataFrame()\n",
    "for d in dimensions:\n",
    "    for i in range(ntrials):\n",
    "        try:\n",
    "            append_df = run_HD_trial(n_calib, n_test, alpha, d)\n",
    "            append_df['trial'] = i\n",
    "            append_df['Dimension'] = d\n",
    "            high_dim_df = pd.concat([high_dim_df, append_df])\n",
    "        except cvx.error.SolverError:\n",
    "            print(\"one solver error\")\n",
    "            continue"
   ]
  },
  {
   "cell_type": "code",
   "execution_count": 71,
   "metadata": {},
   "outputs": [
    {
     "data": {
      "image/png": "[encoded data removed]",
      "text/plain": [
       "<Figure size 842.4x595.44 with 1 Axes>"
      ]
     },
     "metadata": {},
     "output_type": "display_data"
    }
   ],
   "source": [
    "import seaborn as sns\n",
    "#sns.set(rc={'figure.figsize':(11.7,8.27)})\n",
    "    \n",
    "fig = sns.barplot(high_dim_df, x=\"Dimension\",y=\"Coverage\",hue=\"type\") \n",
    "\n",
    "plt.legend(bbox_to_anchor=(1.02, 1), loc='upper left', borderaxespad=0)\n",
    "fig.axhline(alpha,color='red')\n",
    "plt.tight_layout()"
   ]
  },
  {
   "cell_type": "code",
   "execution_count": 72,
   "metadata": {},
   "outputs": [
    {
     "data": {
      "text/plain": [
       "<Figure size 842.4x595.44 with 0 Axes>"
      ]
     },
     "metadata": {},
     "output_type": "display_data"
    }
   ],
   "source": [
    "plt.savefig('figures/HighDimLQRCoverage.png')"
   ]
  },
  {
   "cell_type": "code",
   "execution_count": 75,
   "metadata": {},
   "outputs": [
    {
     "data": {
      "image/png": "[encoded data removed]",
      "text/plain": [
       "<Figure size 842.4x595.44 with 1 Axes>"
      ]
     },
     "metadata": {},
     "output_type": "display_data"
    }
   ],
   "source": [
    "high_dim_df['Coverage Gap'] = np.abs(high_dim_df['Coverage'] - alpha)\n",
    "\n",
    "fig = sns.barplot(high_dim_df, x=\"Dimension\",y=\"Coverage Gap\",hue=\"type\") \n",
    "\n",
    "plt.legend(bbox_to_anchor=(1.02, 1), loc='upper left', borderaxespad=0)\n",
    "plt.tight_layout()"
   ]
  },
  {
   "cell_type": "code",
   "execution_count": 76,
   "metadata": {},
   "outputs": [
    {
     "data": {
      "text/plain": [
       "<Figure size 842.4x595.44 with 0 Axes>"
      ]
     },
     "metadata": {},
     "output_type": "display_data"
    }
   ],
   "source": [
    "plt.savefig('figures/HighDimLQRCoverageGap.png')"
   ]
  },
  {
   "cell_type": "code",
   "execution_count": null,
   "metadata": {},
   "outputs": [],
   "source": []
  }
 ],
 "metadata": {
  "kernelspec": {
   "display_name": "Python 3 (ipykernel)",
   "language": "python",
   "name": "python3"
  },
  "language_info": {
   "codemirror_mode": {
    "name": "ipython",
    "version": 3
   },
   "file_extension": ".py",
   "mimetype": "text/x-python",
   "name": "python",
   "nbconvert_exporter": "python",
   "pygments_lexer": "ipython3",
   "version": "3.9.5"
  }
 },
 "nbformat": 4,
 "nbformat_minor": 4
}
