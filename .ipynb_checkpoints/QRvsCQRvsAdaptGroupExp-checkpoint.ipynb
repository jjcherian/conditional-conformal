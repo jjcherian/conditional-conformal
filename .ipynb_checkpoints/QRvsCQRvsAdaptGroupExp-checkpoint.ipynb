{
 "cells": [
  {
   "cell_type": "code",
   "execution_count": 68,
   "metadata": {},
   "outputs": [
    {
     "name": "stdout",
     "output_type": "stream",
     "text": [
      "The autoreload extension is already loaded. To reload it, use:\n",
      "  %reload_ext autoreload\n"
     ]
    }
   ],
   "source": [
    "import pandas as pd \n",
    "import numpy as np\n",
    "import matplotlib.pyplot as plt\n",
    "import math\n",
    "\n",
    "from sklearn.linear_model import LinearRegression\n",
    "from sklearn.model_selection import train_test_split\n",
    "\n",
    "%load_ext autoreload\n",
    "%autoreload 2"
   ]
  },
  {
   "cell_type": "code",
   "execution_count": 69,
   "metadata": {},
   "outputs": [],
   "source": [
    "from group import compute_group_coverages, compute_split_coverages, compute_qr_coverages, compute_cqr_coverages\n",
    "from Synthetic_data_generation import get_groups, generate_group_synthetic_data\n",
    "from group import compute_group_coverages, compute_split_coverages\n"
   ]
  },
  {
   "cell_type": "code",
   "execution_count": 70,
   "metadata": {},
   "outputs": [],
   "source": [
    "def run_group_synthetic_trial(n, x_std, y_std, d, std_dev_list, theta, n_test, n_cal, n_groups, alpha, exact=True):\n",
    "    x_train_final, y_train_final, x_calib, y_calib, x_test, y_test = generate_group_synthetic_data(\n",
    "        n, x_std, y_std, d, std_dev_list, theta, n_test, n_cal, n_groups\n",
    "    )\n",
    "\n",
    "    groups_train = get_groups(x_train_final[:,0:n_groups])\n",
    "    groups_calib = get_groups(x_calib[:,0:n_groups])\n",
    "    groups_test = get_groups(x_test[:,0:n_groups])\n",
    "    \n",
    "    groups_train_joined = np.vstack([groups_train,groups_calib])\n",
    "    y_train_joined = np.concatenate((y_train_final,y_calib))\n",
    "    \n",
    "    adaptive_coverages = compute_group_coverages(\n",
    "        groups_train_joined, y_train_joined, y_test, groups_test, groups_test[0:n_test], alpha, exact = exact\n",
    "    )\n",
    "    \n",
    "    qr_coverages = compute_qr_coverages(\n",
    "        groups_train_joined, groups_test, y_train_joined, y_test, alpha\n",
    "    )\n",
    "\n",
    "    cqr_coverages = compute_cqr_coverages(\n",
    "        groups_train, groups_calib, groups_test, y_train_final, y_calib, y_test, alpha\n",
    "    )\n",
    "\n",
    "    adapt_cover = pd.Series(adaptive_coverages)\n",
    "    qr_cover = pd.Series(qr_coverages)\n",
    "    cqr_cover = pd.Series(cqr_coverages)\n",
    "\n",
    "    df = pd.concat([adapt_cover, qr_cover, cqr_cover], keys=[\"adaptive\", \"qr\", \"cqr\"], axis=1).reset_index()\n",
    "    return df\n"
   ]
  },
  {
   "cell_type": "code",
   "execution_count": null,
   "metadata": {},
   "outputs": [
    {
     "name": "stderr",
     "output_type": "stream",
     "text": [
      "100%|█████████████████████████████████████████| 100/100 [00:01<00:00, 61.19it/s]\n",
      "100%|█████████████████████████████████████████| 100/100 [00:01<00:00, 60.97it/s]\n",
      "100%|█████████████████████████████████████████| 100/100 [00:01<00:00, 62.06it/s]\n",
      "100%|█████████████████████████████████████████| 100/100 [00:01<00:00, 56.88it/s]\n",
      "100%|█████████████████████████████████████████| 100/100 [00:02<00:00, 43.17it/s]\n",
      "100%|█████████████████████████████████████████| 100/100 [00:01<00:00, 58.36it/s]"
     ]
    }
   ],
   "source": [
    "df = pd.DataFrame()\n",
    "alpha = 0.7\n",
    "n_train = 50\n",
    "n_cal = 50\n",
    "n_test = 100\n",
    "n = n_train + n_cal + n_test\n",
    "\n",
    "# Parameters for data generation \n",
    "x_std = 0.1\n",
    "y_std = 0.25\n",
    "n_groups = 30\n",
    "d = n_groups + 5 # choose d > n_groups\n",
    "\n",
    "std_dev_list = np.array([20,0.01,20,1,5] + [1.0]*25 ) ## must be of length n_groups\n",
    "\n",
    "theta = np.random.normal(loc=np.zeros(d), scale=x_std)\n",
    "for i in range(100):\n",
    "    append_df = run_group_synthetic_trial(n, x_std, y_std, d, std_dev_list, theta, n_test, n_cal, n_groups, alpha=alpha)\n",
    "    append_df['trial'] = i\n",
    "    df = pd.concat([df, append_df])\n"
   ]
  },
  {
   "cell_type": "code",
   "execution_count": null,
   "metadata": {},
   "outputs": [],
   "source": [
    "print(df)\n",
    "\n",
    "import seaborn as sns\n",
    "sns.set(rc={'figure.figsize':(11.7,8.27)})\n",
    "\n",
    "melted_df = pd.melt(df, id_vars=[\"index\"], value_vars=[\"adaptive\", \"qr\", \"cqr\"])\n",
    "melted_df = melted_df.rename(columns={\"index\": \"group\", \"value\": \"coverage\"})\n",
    "melted_df = melted_df[melted_df[\"group\"] <=5]\n",
    "\n",
    "fig = sns.barplot(melted_df, \n",
    "            x=\"group\", y=\"coverage\", hue=\"variable\")\n",
    "fig.axhline(alpha,color='red')\n",
    "plt.legend(bbox_to_anchor=(1.02, 1), loc='upper left', borderaxespad=0)\n",
    "plt.tight_layout()"
   ]
  }
 ],
 "metadata": {
  "kernelspec": {
   "display_name": "Python 3 (ipykernel)",
   "language": "python",
   "name": "python3"
  },
  "language_info": {
   "codemirror_mode": {
    "name": "ipython",
    "version": 3
   },
   "file_extension": ".py",
   "mimetype": "text/x-python",
   "name": "python",
   "nbconvert_exporter": "python",
   "pygments_lexer": "ipython3",
   "version": "3.9.5"
  }
 },
 "nbformat": 4,
 "nbformat_minor": 4
}
