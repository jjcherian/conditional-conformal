{
 "cells": [
  {
   "cell_type": "code",
   "execution_count": 1,
   "metadata": {},
   "outputs": [],
   "source": [
    "import pandas as pd \n",
    "import numpy as np\n",
    "import matplotlib.pyplot as plt\n",
    "import math\n",
    "\n",
    "from sklearn.linear_model import LinearRegression\n",
    "from sklearn.model_selection import train_test_split\n",
    "\n",
    "%load_ext autoreload\n",
    "%autoreload 2"
   ]
  },
  {
   "cell_type": "code",
   "execution_count": 2,
   "metadata": {},
   "outputs": [],
   "source": [
    "# Parameters for data generation following Roth paper\n",
    "n = 6000\n",
    "x_std = 0.1\n",
    "y_std = 0.25\n",
    "d = 15 # choose d > 10\n",
    "\n",
    "# std_dev_list = np.array([1.0, 2.0, 3.0, 4.0, 5.0, 6.0, 7.0, 8.0, 9.0, 10.0])\n",
    "std_dev_list = np.array([4.0, 0.01, 5.0, 0.1, 0.001, 10.0, 0.1, 1.0, 8.0, 0.1]) \n",
    "\n",
    "theta = np.random.normal(loc=np.zeros(d), scale=x_std)"
   ]
  },
  {
   "cell_type": "code",
   "execution_count": 3,
   "metadata": {},
   "outputs": [],
   "source": [
    "from group import compute_group_coverages, compute_split_coverages\n",
    "\n",
    "# group definition\n",
    "# each binary attribute defines membership in a group \n",
    "# x = 0011\n",
    "# x belongs to groups 0, 2, 5, 7\n",
    "# x = 0110\n",
    "# x belongs to groups 0, 3, 5, 6\n",
    "\n",
    "def get_groups(x):\n",
    "    \"\"\"\n",
    "    Returns binary membership vectors for groups\n",
    "    \n",
    "    expects x to be a binary matrix of dimension (N, p)\n",
    "    returns a membership matrix of dimension (N, 2 * p)\n",
    "    \"\"\"\n",
    "    group_ids = np.zeros((x.shape[0], x.shape[1] * 2))\n",
    "    for row in range(x.shape[0]):\n",
    "        for i, x_val in enumerate(x[row,:]):\n",
    "            group_ids[row, int(2 * i + x_val)] = 1\n",
    "    return group_ids\n",
    "\n",
    "def generate_synthetic_data(n, x_std, y_std, d, std_dev_list, theta):\n",
    "    # d-dimension features - first 10 features are binary\n",
    "    xs_binvars = np.random.randint(low = 0, high = 2, size = (n, 10))\n",
    "    xs_remvars = np.random.normal(loc=np.zeros(d - 10), scale=x_std, size=(n, d - 10))\n",
    "    xs = np.concatenate((xs_binvars, xs_remvars), axis = 1)\n",
    "\n",
    "    std_dev = np.dot(xs_binvars, std_dev_list) + y_std\n",
    "    ys = np.dot(xs, theta) + np.random.normal(loc=0, scale= std_dev, size=n)\n",
    "    # Separate training data into training (for point-predictor) and calibration\n",
    "\n",
    "    x_train, x_test, y_train, y_test = train_test_split(xs, ys, test_size=0.5, random_state=42)\n",
    "\n",
    "    calibration_set_size = math.floor(0.25*n)\n",
    "    train_set_size = len(y_train) - calibration_set_size\n",
    "    x_train_final = x_train[ : train_set_size]\n",
    "    x_calib = x_train[train_set_size : ]\n",
    "    y_train_final = y_train[ : train_set_size]\n",
    "    y_calib = y_train[train_set_size : ]\n",
    "    \n",
    "    return x_train_final, y_train_final, x_calib, y_calib, x_test, y_test\n",
    "\n"
   ]
  },
  {
   "cell_type": "code",
   "execution_count": 4,
   "metadata": {},
   "outputs": [],
   "source": [
    "def run_synthetic_trial(n, x_std, y_std, d, std_dev_list, theta, n_test, alpha):\n",
    "    x_train_final, y_train_final, x_calib, y_calib, x_test, y_test = generate_synthetic_data(\n",
    "        n, x_std, y_std, d, std_dev_list, theta\n",
    "    )\n",
    "\n",
    "    reg = LinearRegression().fit(x_train_final, y_train_final)\n",
    "\n",
    "    scores_calib = np.abs(reg.predict(x_calib) - y_calib)\n",
    "    group_calib = get_groups(x_calib[:,0:10])\n",
    "\n",
    "    scores_test = np.abs(reg.predict(x_test[0:n_test]) - y_test[0:n_test])\n",
    "    groups_test = get_groups(x_test[0:n_test,0:10])\n",
    "\n",
    "    adaptive_coverages = compute_group_coverages(\n",
    "        group_calib, scores_calib, scores_test, groups_test, groups_test[0:n_test], alpha\n",
    "    )\n",
    "\n",
    "    split_coverages = compute_split_coverages(\n",
    "       scores_calib, scores_test, groups_test, alpha\n",
    "    )\n",
    "\n",
    "    adapt_cover = pd.Series(adaptive_coverages)\n",
    "    split_cover = pd.Series(split_coverages)\n",
    "\n",
    "    df = pd.concat([adapt_cover, split_cover], keys=[\"adaptive\", \"split\"], axis=1).reset_index()\n",
    "    return df"
   ]
  },
  {
   "cell_type": "code",
   "execution_count": 5,
   "metadata": {},
   "outputs": [
    {
     "name": "stderr",
     "output_type": "stream",
     "text": [
      "100%|███████████████████████████████████| 200/200 [00:07<00:00, 25.90it/s]\n",
      "100%|███████████████████████████████████| 200/200 [00:07<00:00, 26.97it/s]\n",
      "100%|███████████████████████████████████| 200/200 [00:07<00:00, 27.21it/s]\n",
      "100%|███████████████████████████████████| 200/200 [00:07<00:00, 27.17it/s]\n",
      "100%|███████████████████████████████████| 200/200 [00:07<00:00, 26.86it/s]\n",
      "100%|███████████████████████████████████| 200/200 [00:07<00:00, 25.04it/s]\n",
      "100%|███████████████████████████████████| 200/200 [00:08<00:00, 24.47it/s]\n",
      "100%|███████████████████████████████████| 200/200 [00:08<00:00, 24.54it/s]\n",
      "100%|███████████████████████████████████| 200/200 [00:08<00:00, 24.48it/s]\n",
      "100%|███████████████████████████████████| 200/200 [00:08<00:00, 24.68it/s]\n",
      "100%|███████████████████████████████████| 200/200 [00:08<00:00, 22.91it/s]\n",
      "100%|███████████████████████████████████| 200/200 [00:10<00:00, 18.29it/s]\n",
      "100%|███████████████████████████████████| 200/200 [00:08<00:00, 22.51it/s]\n",
      "100%|███████████████████████████████████| 200/200 [00:08<00:00, 23.72it/s]\n",
      "100%|███████████████████████████████████| 200/200 [00:09<00:00, 20.97it/s]\n"
     ]
    }
   ],
   "source": [
    "df = pd.DataFrame()\n",
    "n_test = 200\n",
    "alpha = 0.9\n",
    "for i in range(15):\n",
    "    append_df = run_synthetic_trial(n, x_std, y_std, d, std_dev_list, theta, n_test=n_test, alpha=alpha)\n",
    "    append_df['trial'] = i\n",
    "    df = pd.concat([df, append_df])\n"
   ]
  },
  {
   "cell_type": "code",
   "execution_count": 7,
   "metadata": {},
   "outputs": [
    {
     "name": "stdout",
     "output_type": "stream",
     "text": [
      "   group  variable  coverage\n",
      "0      0  adaptive  0.881720\n",
      "1      1  adaptive  0.897196\n",
      "2      2  adaptive  0.894231\n",
      "3      3  adaptive  0.885417\n",
      "4      4  adaptive  0.903846\n"
     ]
    },
    {
     "data": {
      "image/png": "[encoded data removed]",
      "text/plain": [
       "<Figure size 842.4x595.44 with 1 Axes>"
      ]
     },
     "metadata": {},
     "output_type": "display_data"
    }
   ],
   "source": [
    "import seaborn as sns\n",
    "sns.set(rc={'figure.figsize':(11.7,8.27)})\n",
    "\n",
    "melted_df = pd.melt(df, id_vars=[\"index\"], value_vars=[\"adaptive\", \"split\"])\n",
    "melted_df = melted_df.rename(columns={\"index\": \"group\", \"value\": \"coverage\"})\n",
    "print(melted_df.head())\n",
    "fig = sns.barplot(melted_df, \n",
    "            x=\"group\", y=\"coverage\", hue=\"variable\")\n",
    "fig.axhline(alpha, color='red')\n",
    "plt.legend(bbox_to_anchor=(1.02, 1), loc='upper left', borderaxespad=0)\n",
    "plt.tight_layout()"
   ]
  },
  {
   "cell_type": "code",
   "execution_count": 21,
   "metadata": {},
   "outputs": [],
   "source": [
    "fig.get_figure().savefig('synthetic_group_coverage.png')"
   ]
  },
  {
   "cell_type": "code",
   "execution_count": 37,
   "metadata": {},
   "outputs": [],
   "source": [
    "# test full conformal\n",
    "\n",
    "from group import compute_threshold, setup_cvx_problem\n",
    "\n",
    "x_train_final, y_train_final, x_calib, y_calib, x_test, y_test = generate_synthetic_data(\n",
    "    n, x_std, y_std, d, std_dev_list, theta\n",
    ")\n",
    "\n",
    "reg = LinearRegression().fit(x_train_final, y_train_final)\n",
    "\n",
    "scores_calib = np.abs(reg.predict(x_calib) - y_calib)\n",
    "group_calib = get_groups(x_calib[:,0:10])\n",
    "\n",
    "scores_test = np.abs(reg.predict(x_test[0:n_test]) - y_test[0:n_test])\n",
    "groups_test = get_groups(x_test[0:n_test,0:10])\n",
    "\n",
    "prob = setup_cvx_problem(group_calib, scores_calib, alpha)"
   ]
  },
  {
   "cell_type": "code",
   "execution_count": 38,
   "metadata": {},
   "outputs": [
    {
     "name": "stderr",
     "output_type": "stream",
     "text": [
      "100%|█████████████████████████████████████████| 100/100 [00:03<00:00, 30.20it/s]"
     ]
    },
    {
     "name": "stdout",
     "output_type": "stream",
     "text": [
      "16.113497055912237 15.601788468296405 15.966099305361475\n"
     ]
    },
    {
     "name": "stderr",
     "output_type": "stream",
     "text": [
      "\n"
     ]
    }
   ],
   "source": [
    "threshold_max = compute_threshold(prob, groups_test[2,:], scores_calib, M = None)\n",
    "threshold_full = compute_threshold(prob, groups_test[2,:], scores_calib, M = 'full')\n",
    "threshold_min = compute_threshold(prob, groups_test[2,:], scores_calib, M = 0)\n",
    "\n",
    "print(threshold_max, threshold_full, threshold_min)"
   ]
  }
 ],
 "metadata": {
  "kernelspec": {
   "display_name": "Python 3 (ipykernel)",
   "language": "python",
   "name": "python3"
  },
  "language_info": {
   "codemirror_mode": {
    "name": "ipython",
    "version": 3
   },
   "file_extension": ".py",
   "mimetype": "text/x-python",
   "name": "python",
   "nbconvert_exporter": "python",
   "pygments_lexer": "ipython3",
   "version": "3.9.5"
  }
 },
 "nbformat": 4,
 "nbformat_minor": 5
}
