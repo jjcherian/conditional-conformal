{
 "cells": [
  {
   "cell_type": "code",
   "execution_count": 1,
   "metadata": {},
   "outputs": [],
   "source": [
    "%load_ext autoreload\n",
    "%autoreload 2"
   ]
  },
  {
   "cell_type": "code",
   "execution_count": 27,
   "metadata": {},
   "outputs": [],
   "source": [
    "from folktables import ACSDataSource\n",
    "import pandas as pd\n",
    "import numpy as np\n",
    "import matplotlib.pyplot as plt\n",
    "import math\n",
    "from sklearn.linear_model import LinearRegression\n",
    "from sklearn.model_selection import train_test_split\n",
    "\n",
    "import seaborn as sns\n",
    "\n",
    "import cvxpy as cp\n",
    "import mosek\n",
    "\n",
    "from tqdm import tqdm\n",
    "\n",
    "from rkhs import setup_full_cvx_dual, runCV, compute_shifted_coverage\n",
    "from group import compute_split_coverages, compute_group_coverages\n",
    "from density_estimation import compute_coverage_under_density_shift"
   ]
  },
  {
   "cell_type": "markdown",
   "metadata": {},
   "source": [
    "### Construct Dataset"
   ]
  },
  {
   "cell_type": "code",
   "execution_count": 3,
   "metadata": {},
   "outputs": [],
   "source": [
    "data_source = ACSDataSource(survey_year='2018', horizon='1-Year', survey='person')\n",
    "ca_data = data_source.get_data(states=[\"CA\"], download=True)\n",
    "ny_data = data_source.get_data(states=[\"NY\"], download=True)"
   ]
  },
  {
   "cell_type": "code",
   "execution_count": 22,
   "metadata": {},
   "outputs": [
    {
     "data": {
      "text/html": [
       "<div>\n",
       "<style scoped>\n",
       "    .dataframe tbody tr th:only-of-type {\n",
       "        vertical-align: middle;\n",
       "    }\n",
       "\n",
       "    .dataframe tbody tr th {\n",
       "        vertical-align: top;\n",
       "    }\n",
       "\n",
       "    .dataframe thead th {\n",
       "        text-align: right;\n",
       "    }\n",
       "</style>\n",
       "<table border=\"1\" class=\"dataframe\">\n",
       "  <thead>\n",
       "    <tr style=\"text-align: right;\">\n",
       "      <th></th>\n",
       "      <th>AGEP</th>\n",
       "      <th>POVPIP</th>\n",
       "      <th>SEX_1</th>\n",
       "      <th>SEX_2</th>\n",
       "      <th>RAC1P_1</th>\n",
       "      <th>RAC1P_2</th>\n",
       "      <th>RAC1P_3</th>\n",
       "      <th>RAC1P_4</th>\n",
       "      <th>RAC1P_5</th>\n",
       "      <th>RAC1P_6</th>\n",
       "      <th>RAC1P_7</th>\n",
       "      <th>RAC1P_8</th>\n",
       "      <th>RAC1P_9</th>\n",
       "    </tr>\n",
       "  </thead>\n",
       "  <tbody>\n",
       "    <tr>\n",
       "      <th>17</th>\n",
       "      <td>0.176987</td>\n",
       "      <td>-0.839138</td>\n",
       "      <td>0</td>\n",
       "      <td>1</td>\n",
       "      <td>1</td>\n",
       "      <td>0</td>\n",
       "      <td>0</td>\n",
       "      <td>0</td>\n",
       "      <td>0</td>\n",
       "      <td>0</td>\n",
       "      <td>0</td>\n",
       "      <td>0</td>\n",
       "      <td>0</td>\n",
       "    </tr>\n",
       "    <tr>\n",
       "      <th>27</th>\n",
       "      <td>0.389267</td>\n",
       "      <td>-1.709452</td>\n",
       "      <td>0</td>\n",
       "      <td>1</td>\n",
       "      <td>1</td>\n",
       "      <td>0</td>\n",
       "      <td>0</td>\n",
       "      <td>0</td>\n",
       "      <td>0</td>\n",
       "      <td>0</td>\n",
       "      <td>0</td>\n",
       "      <td>0</td>\n",
       "      <td>0</td>\n",
       "    </tr>\n",
       "    <tr>\n",
       "      <th>51</th>\n",
       "      <td>-0.502308</td>\n",
       "      <td>-1.280256</td>\n",
       "      <td>0</td>\n",
       "      <td>1</td>\n",
       "      <td>0</td>\n",
       "      <td>0</td>\n",
       "      <td>0</td>\n",
       "      <td>0</td>\n",
       "      <td>0</td>\n",
       "      <td>0</td>\n",
       "      <td>0</td>\n",
       "      <td>1</td>\n",
       "      <td>0</td>\n",
       "    </tr>\n",
       "    <tr>\n",
       "      <th>75</th>\n",
       "      <td>0.856282</td>\n",
       "      <td>-1.023931</td>\n",
       "      <td>1</td>\n",
       "      <td>0</td>\n",
       "      <td>0</td>\n",
       "      <td>0</td>\n",
       "      <td>0</td>\n",
       "      <td>0</td>\n",
       "      <td>0</td>\n",
       "      <td>0</td>\n",
       "      <td>0</td>\n",
       "      <td>0</td>\n",
       "      <td>1</td>\n",
       "    </tr>\n",
       "    <tr>\n",
       "      <th>157</th>\n",
       "      <td>-0.714588</td>\n",
       "      <td>-1.858479</td>\n",
       "      <td>0</td>\n",
       "      <td>1</td>\n",
       "      <td>0</td>\n",
       "      <td>1</td>\n",
       "      <td>0</td>\n",
       "      <td>0</td>\n",
       "      <td>0</td>\n",
       "      <td>0</td>\n",
       "      <td>0</td>\n",
       "      <td>0</td>\n",
       "      <td>0</td>\n",
       "    </tr>\n",
       "  </tbody>\n",
       "</table>\n",
       "</div>"
      ],
      "text/plain": [
       "         AGEP    POVPIP  SEX_1  SEX_2  RAC1P_1  RAC1P_2  RAC1P_3  RAC1P_4  \\\n",
       "17   0.176987 -0.839138      0      1        1        0        0        0   \n",
       "27   0.389267 -1.709452      0      1        1        0        0        0   \n",
       "51  -0.502308 -1.280256      0      1        0        0        0        0   \n",
       "75   0.856282 -1.023931      1      0        0        0        0        0   \n",
       "157 -0.714588 -1.858479      0      1        0        1        0        0   \n",
       "\n",
       "     RAC1P_5  RAC1P_6  RAC1P_7  RAC1P_8  RAC1P_9  \n",
       "17         0        0        0        0        0  \n",
       "27         0        0        0        0        0  \n",
       "51         0        0        0        1        0  \n",
       "75         0        0        0        0        1  \n",
       "157        0        0        0        0        0  "
      ]
     },
     "execution_count": 22,
     "metadata": {},
     "output_type": "execute_result"
    }
   ],
   "source": [
    "#features = [\"AGEP\",\"SCHL\",\"SEX\",\"RAC1P\",\"JWTR\",\"POVPIP\",\"JWMNP\"]\n",
    "features = [\"AGEP\",\"SEX\",\"RAC1P\",\"POVPIP\",\"JWMNP\"]\n",
    "\n",
    "ca_data_sub = ca_data[features].copy()\n",
    "ny_data_sub = ny_data[features].copy()\n",
    "#ca_data_sub.loc[np.isnan(ca_data_sub['SCHL']),'SCHL'] = 0\n",
    "#ca_data_sub.loc[np.isnan(ca_data_sub['JWTR']),'JWTR'] = 0\n",
    "\n",
    "#ca_data_sub.loc[ca_data_sub['SCHL'] <= 15,'SCHL'] = 0\n",
    "#ca_data_sub.loc[np.logical_and(ca_data_sub['SCHL'] <= 19, ca_data_sub['SCHL'] > 15),'SCHL'] = 1\n",
    "#ca_data_sub.loc[np.logical_or(ca_data_sub['SCHL'] == 20, ca_data_sub['SCHL'] == 21),'SCHL'] = 2\n",
    "#ca_data_sub.loc[ca_data_sub['SCHL'] > 21,'SCHL'] = 3\n",
    "\n",
    "#ca_data_sub['SCHL'] = ca_data_sub['SCHL'].astype('category')\n",
    "ca_data_sub['SEX'] = ca_data_sub['SEX'].astype('category')\n",
    "ca_data_sub['RAC1P'] = ca_data_sub['RAC1P'].astype('category')\n",
    "\n",
    "ny_data_sub['SEX'] = ny_data_sub['SEX'].astype('category')\n",
    "ny_data_sub['RAC1P'] = ny_data_sub['RAC1P'].astype('category')\n",
    "#ca_data_sub['JWTR'] = ca_data_sub['JWTR'].astype('category')\n",
    "\n",
    "ca_data_sub['POVPIP'] = (ca_data_sub['POVPIP'] - np.mean(ca_data_sub['POVPIP']))/np.std(ca_data_sub['POVPIP'])\n",
    "ca_data_sub['AGEP'] = (ca_data_sub['AGEP'] - np.mean(ca_data_sub['AGEP']))/np.std(ca_data_sub['AGEP'])\n",
    "\n",
    "ny_data_sub['POVPIP'] = (ny_data_sub['POVPIP'] - np.mean(ny_data_sub['POVPIP']))/np.std(ny_data_sub['POVPIP'])\n",
    "ny_data_sub['AGEP'] = (ny_data_sub['AGEP'] - np.mean(ny_data_sub['AGEP']))/np.std(ny_data_sub['AGEP'])\n",
    "\n",
    "ca_data_sub = ca_data_sub[~ca_data_sub.isnull().any(axis=1)]\n",
    "ny_data_sub = ny_data_sub[~ny_data_sub.isnull().any(axis=1)]\n",
    "\n",
    "Y_ny = ny_data_sub['JWMNP']\n",
    "X_ny = pd.get_dummies(ny_data_sub)\n",
    "X_ny = X_ny.drop(columns = ['JWMNP'])\n",
    "\n",
    "Y_ca = ca_data_sub['JWMNP']\n",
    "X_ca = pd.get_dummies(ca_data_sub)\n",
    "X_ca = X_ca.drop(columns = ['JWMNP'])\n",
    "\n",
    "X_ny.head()"
   ]
  },
  {
   "cell_type": "code",
   "execution_count": 5,
   "metadata": {},
   "outputs": [],
   "source": [
    "def make_train_test_split(X,Y,num_calib=1500,num_test=200):\n",
    "\n",
    "    x_train, x_calib, y_train, y_calib = train_test_split(X, Y, test_size=num_calib + num_test)\n",
    "\n",
    "    reg = LinearRegression().fit(x_train, y_train)\n",
    "    scores = np.array(np.abs(reg.predict(x_calib) - y_calib))\n",
    "\n",
    "    x_calib = pd.DataFrame.to_numpy(x_calib)\n",
    "\n",
    "    calibration_set_size = num_calib  \n",
    "    x_calib_final, x_test, scores_calib, scores_test =  train_test_split(x_calib, scores,\n",
    "                                                            test_size=len(scores) - calibration_set_size)\n",
    "    x_calib_cont = x_calib_final[:,:2]\n",
    "    x_calib_cat = x_calib_final[:,2:]\n",
    "\n",
    "    x_test_cont = x_test[:,:2]\n",
    "    x_test_cat = x_test[:,2:]\n",
    "    \n",
    "    return x_calib_cont, x_calib_cat, x_test_cont, x_test_cat, scores_calib, scores_test, reg"
   ]
  },
  {
   "cell_type": "markdown",
   "metadata": {},
   "source": [
    "### Compute Coverage On Test Set"
   ]
  },
  {
   "cell_type": "code",
   "execution_count": 34,
   "metadata": {},
   "outputs": [],
   "source": [
    "def compute_adaptive_and_split_coverage(x_calib_cont,x_calib_cat,x_test_cont,x_test_cat,scores_calib,scores_test,\n",
    "                                       gamma=2, alpha=0.9, k=5, min_radius = 1, max_radius = 4000, num_radii = 40,\n",
    "                                        radius = None\n",
    "                                       ):\n",
    "    if radius is None:\n",
    "        allLosses, radii = runCV(x_calib_cont,scores_calib,\"rbf\",gamma,alpha,k,min_radius,\n",
    "                                  max_radius, num_radii, x_calib_cat)\n",
    "        selectedRadius = radii[np.argmin(allLosses)]\n",
    "    else:\n",
    "        selectedRadius = radius\n",
    "        \n",
    "    prob = setup_full_cvx_dual(\n",
    "                x_calib_cont,\n",
    "                scores_calib,\n",
    "                kernel=\"rbf\",\n",
    "                gamma=gamma,\n",
    "                alpha=alpha,\n",
    "                z_calib = x_calib_cat\n",
    "            )\n",
    "    prob.param_dict['radius'].value = np.asarray([[selectedRadius]])\n",
    "    prob.solve(\n",
    "            solver='MOSEK', \n",
    "            verbose=False, \n",
    "            mosek_params={mosek.iparam.intpnt_solve_form: mosek.solveform.dual}\n",
    "          )\n",
    "\n",
    "    est_coverage, weighted_coverage, thresholds = compute_shifted_coverage(\n",
    "            scores_test,\n",
    "            scores_calib,\n",
    "            x_calib_cont,\n",
    "            x_test_cont,\n",
    "            None,\n",
    "            \"rbf\",\n",
    "            alpha,\n",
    "            selectedRadius,\n",
    "            gamma,\n",
    "            x_calib_cat,\n",
    "            x_test_cat\n",
    "        )\n",
    "\n",
    "    adaptive_coverages = scores_test <= thresholds\n",
    "    \n",
    "    split_threshold = np.quantile(scores_calib, [alpha * (1 + 1/len(scores_calib))])\n",
    "    split_coverages = scores_test <= split_threshold\n",
    "    \n",
    "    return adaptive_coverages, split_coverages, selectedRadius"
   ]
  },
  {
   "cell_type": "markdown",
   "metadata": {},
   "source": [
    "### Plot Coverage Over Groups For One Run"
   ]
  },
  {
   "cell_type": "code",
   "execution_count": 27,
   "metadata": {},
   "outputs": [
    {
     "name": "stderr",
     "output_type": "stream",
     "text": [
      "100%|███████████████████████████████████████████| 40/40 [05:08<00:00,  7.72s/it]\n",
      "100%|█████████████████████████████████████████| 200/200 [07:48<00:00,  2.34s/it]\n"
     ]
    },
    {
     "data": {
      "image/png": "[encoded data removed]",
      "text/plain": [
       "<Figure size 842.4x595.44 with 1 Axes>"
      ]
     },
     "metadata": {},
     "output_type": "display_data"
    }
   ],
   "source": [
    "gamma = 0.5\n",
    "alpha = 0.9\n",
    "k = 5\n",
    "min_radius = 1\n",
    "max_radius = 3000\n",
    "num_radii = 40\n",
    "num_calib=1500\n",
    "num_test=200\n",
    "\n",
    "x_calib_cont, x_calib_cat, x_test_cont, x_test_cat, scores_calib, scores_test, _ = make_train_test_split(X_ny,Y_ny,\n",
    "                                                                                                      num_calib,\n",
    "                                                                                                      num_test)\n",
    "adaptive_coverages, split_coverages, _ = compute_adaptive_and_split_coverage(x_calib_cont,x_calib_cat,\n",
    "                                                                          x_test_cont,x_test_cat,\n",
    "                                                                          scores_calib,scores_test,\n",
    "                                                                          gamma, alpha, k,\n",
    "                                                                          min_radius, max_radius,\n",
    "                                                                          num_radii\n",
    "                                                                          )\n",
    "\n",
    "group_data = pd.DataFrame()\n",
    "\n",
    "for i in range(x_test_cat.shape[1]):\n",
    "    if sum(x_test_cat[:,i]) > 0:\n",
    "        group_cov_adaptive = (x_test_cat[:,i] @ adaptive_coverages)/sum(x_test_cat[:,i])\n",
    "        group_split_adaptive = (x_test_cat[:,i] @ adaptive_coverages)/sum(x_test_cat[:,i])\n",
    "    \n",
    "        df = pd.DataFrame({'group' : [X.columns[i+2],X.columns[i+2]],\n",
    "                            'coverage': [group_cov_adaptive,group_split_adaptive], \n",
    "                            'type' : ['robust','split'],\n",
    "                            'sample_size' : [sum(x_test_cat[:,i]),sum(x_test_cat[:,i])]\n",
    "                          })\n",
    "\n",
    "        group_data = pd.concat([group_data, df], axis=0)\n",
    "    \n",
    "sns.set(rc={'figure.figsize':(11.7,8.27)})\n",
    "\n",
    "fig = sns.barplot(group_data, \n",
    "            x=\"group\", y=\"coverage\", hue=\"type\")\n",
    "fig.axhline(alpha, color='red')\n",
    "plt.legend(bbox_to_anchor=(1.02, 1), loc='upper left', borderaxespad=0)\n",
    "plt.tight_layout()"
   ]
  },
  {
   "cell_type": "markdown",
   "metadata": {},
   "source": [
    "### Look at coverage over just groups"
   ]
  },
  {
   "cell_type": "code",
   "execution_count": 28,
   "metadata": {},
   "outputs": [
    {
     "name": "stderr",
     "output_type": "stream",
     "text": [
      " 12%|████▊                                   | 181/1500 [00:04<00:32, 40.61it/s]\n"
     ]
    },
    {
     "ename": "KeyboardInterrupt",
     "evalue": "",
     "output_type": "error",
     "traceback": [
      "\u001b[0;31m---------------------------------------------------------------------------\u001b[0m",
      "\u001b[0;31mKeyboardInterrupt\u001b[0m                         Traceback (most recent call last)",
      "Input \u001b[0;32mIn [28]\u001b[0m, in \u001b[0;36m<module>\u001b[0;34m\u001b[0m\n\u001b[1;32m     16\u001b[0m x_test_cont \u001b[38;5;241m=\u001b[39m x_test[:,:\u001b[38;5;241m2\u001b[39m]\n\u001b[1;32m     17\u001b[0m x_test_cat \u001b[38;5;241m=\u001b[39m x_test[:,\u001b[38;5;241m2\u001b[39m:]\n\u001b[0;32m---> 18\u001b[0m adaptive_coverages \u001b[38;5;241m=\u001b[39m \u001b[43mcompute_group_coverages\u001b[49m\u001b[43m(\u001b[49m\n\u001b[1;32m     19\u001b[0m \u001b[43m    \u001b[49m\u001b[43mx_calib_cat\u001b[49m\u001b[43m,\u001b[49m\u001b[43m \u001b[49m\u001b[43mscores_calib\u001b[49m\u001b[43m,\u001b[49m\u001b[43m \u001b[49m\u001b[43mscores_test\u001b[49m\u001b[43m,\u001b[49m\u001b[43m \u001b[49m\u001b[43mx_test_cat\u001b[49m\u001b[43m,\u001b[49m\u001b[43m \u001b[49m\u001b[43mx_test_cat\u001b[49m\u001b[43m,\u001b[49m\u001b[43m \u001b[49m\u001b[43malpha\u001b[49m\n\u001b[1;32m     20\u001b[0m \u001b[43m\u001b[49m\u001b[43m)\u001b[49m\n\u001b[1;32m     21\u001b[0m split_coverages \u001b[38;5;241m=\u001b[39m compute_split_coverages(scores_calib,scores_test,x_test_cat,alpha)\n\u001b[1;32m     22\u001b[0m df \u001b[38;5;241m=\u001b[39m pd\u001b[38;5;241m.\u001b[39mDataFrame({\u001b[38;5;124m'\u001b[39m\u001b[38;5;124mgroup\u001b[39m\u001b[38;5;124m'\u001b[39m : \u001b[38;5;28mlist\u001b[39m(adaptive_coverages\u001b[38;5;241m.\u001b[39mkeys()) \u001b[38;5;241m+\u001b[39m  \u001b[38;5;28mlist\u001b[39m(split_coverages\u001b[38;5;241m.\u001b[39mkeys()),\n\u001b[1;32m     23\u001b[0m                     \u001b[38;5;124m'\u001b[39m\u001b[38;5;124mcoverage\u001b[39m\u001b[38;5;124m'\u001b[39m: \u001b[38;5;28mlist\u001b[39m(adaptive_coverages\u001b[38;5;241m.\u001b[39mvalues()) \u001b[38;5;241m+\u001b[39m \u001b[38;5;28mlist\u001b[39m(split_coverages\u001b[38;5;241m.\u001b[39mvalues()), \n\u001b[1;32m     24\u001b[0m                     \u001b[38;5;124m'\u001b[39m\u001b[38;5;124mtype\u001b[39m\u001b[38;5;124m'\u001b[39m : [\u001b[38;5;124m'\u001b[39m\u001b[38;5;124mrobust\u001b[39m\u001b[38;5;124m'\u001b[39m]\u001b[38;5;241m*\u001b[39m\u001b[38;5;28mlen\u001b[39m(adaptive_coverages) \u001b[38;5;241m+\u001b[39m [\u001b[38;5;124m'\u001b[39m\u001b[38;5;124msplit\u001b[39m\u001b[38;5;124m'\u001b[39m]\u001b[38;5;241m*\u001b[39m\u001b[38;5;28mlen\u001b[39m(split_coverages)\n\u001b[1;32m     25\u001b[0m                     })\n",
      "File \u001b[0;32m~/Documents/ConformalGans/Code/conformal-gan/group.py:72\u001b[0m, in \u001b[0;36mcompute_group_coverages\u001b[0;34m(x_calib, scores_calib, scores_test, groups_test, x_test, alpha, exact)\u001b[0m\n\u001b[1;32m     70\u001b[0m \u001b[38;5;28;01mfor\u001b[39;00m i \u001b[38;5;129;01min\u001b[39;00m tqdm(\u001b[38;5;28mrange\u001b[39m(\u001b[38;5;28mlen\u001b[39m(x_test))):\n\u001b[1;32m     71\u001b[0m     \u001b[38;5;28;01mif\u001b[39;00m \u001b[38;5;129;01mnot\u001b[39;00m exact:\n\u001b[0;32m---> 72\u001b[0m         threshold, _ \u001b[38;5;241m=\u001b[39m \u001b[43m_compute_adaptive_threshold\u001b[49m\u001b[43m(\u001b[49m\n\u001b[1;32m     73\u001b[0m \u001b[43m            \u001b[49m\u001b[43mprob\u001b[49m\u001b[43m,\u001b[49m\u001b[43m \u001b[49m\u001b[43mx_test\u001b[49m\u001b[43m[\u001b[49m\u001b[43mi\u001b[49m\u001b[43m,\u001b[49m\u001b[43m:\u001b[49m\u001b[43m]\u001b[49m\u001b[43m,\u001b[49m\u001b[43m \u001b[49m\u001b[43mnp\u001b[49m\u001b[38;5;241;43m.\u001b[39;49m\u001b[43mmax\u001b[49m\u001b[43m(\u001b[49m\u001b[43mscores_calib\u001b[49m\u001b[43m)\u001b[49m\n\u001b[1;32m     74\u001b[0m \u001b[43m        \u001b[49m\u001b[43m)\u001b[49m\n\u001b[1;32m     75\u001b[0m     \u001b[38;5;28;01melse\u001b[39;00m:\n\u001b[1;32m     76\u001b[0m         threshold, _ \u001b[38;5;241m=\u001b[39m _compute_adaptive_threshold(\n\u001b[1;32m     77\u001b[0m             prob, x_test[i,:], scores_test[i]\n\u001b[1;32m     78\u001b[0m         )\n",
      "File \u001b[0;32m~/Documents/ConformalGans/Code/conformal-gan/group.py:52\u001b[0m, in \u001b[0;36m_compute_adaptive_threshold\u001b[0;34m(prob, x_test, M)\u001b[0m\n\u001b[1;32m     50\u001b[0m prob\u001b[38;5;241m.\u001b[39mparam_dict[\u001b[38;5;124m\"\u001b[39m\u001b[38;5;124mscore_impute\u001b[39m\u001b[38;5;124m\"\u001b[39m]\u001b[38;5;241m.\u001b[39mvalue \u001b[38;5;241m=\u001b[39m np\u001b[38;5;241m.\u001b[39masarray([[M]])\n\u001b[1;32m     51\u001b[0m prob\u001b[38;5;241m.\u001b[39mparam_dict[\u001b[38;5;124m\"\u001b[39m\u001b[38;5;124mx_test\u001b[39m\u001b[38;5;124m\"\u001b[39m]\u001b[38;5;241m.\u001b[39mvalue \u001b[38;5;241m=\u001b[39m x_test\u001b[38;5;241m.\u001b[39mreshape(\u001b[38;5;241m1\u001b[39m,\u001b[38;5;241m-\u001b[39m\u001b[38;5;241m1\u001b[39m)\n\u001b[0;32m---> 52\u001b[0m \u001b[43mprob\u001b[49m\u001b[38;5;241;43m.\u001b[39;49m\u001b[43msolve\u001b[49m\u001b[43m(\u001b[49m\u001b[43msolver\u001b[49m\u001b[38;5;241;43m=\u001b[39;49m\u001b[38;5;124;43m'\u001b[39;49m\u001b[38;5;124;43mMOSEK\u001b[39;49m\u001b[38;5;124;43m'\u001b[39;49m\u001b[43m,\u001b[49m\u001b[43m \u001b[49m\u001b[43mverbose\u001b[49m\u001b[38;5;241;43m=\u001b[39;49m\u001b[38;5;28;43;01mFalse\u001b[39;49;00m\u001b[43m)\u001b[49m\n\u001b[1;32m     54\u001b[0m var_dict \u001b[38;5;241m=\u001b[39m {}\n\u001b[1;32m     55\u001b[0m var_dict[\u001b[38;5;124m'\u001b[39m\u001b[38;5;124mparams\u001b[39m\u001b[38;5;124m'\u001b[39m] \u001b[38;5;241m=\u001b[39m prob\u001b[38;5;241m.\u001b[39mvar_dict[\u001b[38;5;124m'\u001b[39m\u001b[38;5;124mparams\u001b[39m\u001b[38;5;124m'\u001b[39m]\u001b[38;5;241m.\u001b[39mvalue\n",
      "File \u001b[0;32m/usr/local/lib/python3.9/site-packages/cvxpy/problems/problem.py:473\u001b[0m, in \u001b[0;36mProblem.solve\u001b[0;34m(self, *args, **kwargs)\u001b[0m\n\u001b[1;32m    471\u001b[0m \u001b[38;5;28;01melse\u001b[39;00m:\n\u001b[1;32m    472\u001b[0m     solve_func \u001b[38;5;241m=\u001b[39m Problem\u001b[38;5;241m.\u001b[39m_solve\n\u001b[0;32m--> 473\u001b[0m \u001b[38;5;28;01mreturn\u001b[39;00m \u001b[43msolve_func\u001b[49m\u001b[43m(\u001b[49m\u001b[38;5;28;43mself\u001b[39;49m\u001b[43m,\u001b[49m\u001b[43m \u001b[49m\u001b[38;5;241;43m*\u001b[39;49m\u001b[43margs\u001b[49m\u001b[43m,\u001b[49m\u001b[43m \u001b[49m\u001b[38;5;241;43m*\u001b[39;49m\u001b[38;5;241;43m*\u001b[39;49m\u001b[43mkwargs\u001b[49m\u001b[43m)\u001b[49m\n",
      "File \u001b[0;32m/usr/local/lib/python3.9/site-packages/cvxpy/problems/problem.py:975\u001b[0m, in \u001b[0;36mProblem._solve\u001b[0;34m(self, solver, warm_start, verbose, gp, qcp, requires_grad, enforce_dpp, **kwargs)\u001b[0m\n\u001b[1;32m    971\u001b[0m     s\u001b[38;5;241m.\u001b[39mLOGGER\u001b[38;5;241m.\u001b[39minfo(\n\u001b[1;32m    972\u001b[0m             \u001b[38;5;124m'\u001b[39m\u001b[38;5;124mInvoking solver \u001b[39m\u001b[38;5;132;01m%s\u001b[39;00m\u001b[38;5;124m  to obtain a solution.\u001b[39m\u001b[38;5;124m'\u001b[39m,\n\u001b[1;32m    973\u001b[0m             solving_chain\u001b[38;5;241m.\u001b[39mreductions[\u001b[38;5;241m-\u001b[39m\u001b[38;5;241m1\u001b[39m]\u001b[38;5;241m.\u001b[39mname())\n\u001b[1;32m    974\u001b[0m start \u001b[38;5;241m=\u001b[39m time\u001b[38;5;241m.\u001b[39mtime()\n\u001b[0;32m--> 975\u001b[0m solution \u001b[38;5;241m=\u001b[39m \u001b[43msolving_chain\u001b[49m\u001b[38;5;241;43m.\u001b[39;49m\u001b[43msolve_via_data\u001b[49m\u001b[43m(\u001b[49m\n\u001b[1;32m    976\u001b[0m \u001b[43m    \u001b[49m\u001b[38;5;28;43mself\u001b[39;49m\u001b[43m,\u001b[49m\u001b[43m \u001b[49m\u001b[43mdata\u001b[49m\u001b[43m,\u001b[49m\u001b[43m \u001b[49m\u001b[43mwarm_start\u001b[49m\u001b[43m,\u001b[49m\u001b[43m \u001b[49m\u001b[43mverbose\u001b[49m\u001b[43m,\u001b[49m\u001b[43m \u001b[49m\u001b[43mkwargs\u001b[49m\u001b[43m)\u001b[49m\n\u001b[1;32m    977\u001b[0m end \u001b[38;5;241m=\u001b[39m time\u001b[38;5;241m.\u001b[39mtime()\n\u001b[1;32m    978\u001b[0m \u001b[38;5;28mself\u001b[39m\u001b[38;5;241m.\u001b[39m_solve_time \u001b[38;5;241m=\u001b[39m end \u001b[38;5;241m-\u001b[39m start\n",
      "File \u001b[0;32m/usr/local/lib/python3.9/site-packages/cvxpy/reductions/solvers/solving_chain.py:343\u001b[0m, in \u001b[0;36mSolvingChain.solve_via_data\u001b[0;34m(self, problem, data, warm_start, verbose, solver_opts)\u001b[0m\n\u001b[1;32m    307\u001b[0m \u001b[38;5;28;01mdef\u001b[39;00m \u001b[38;5;21msolve_via_data\u001b[39m(\u001b[38;5;28mself\u001b[39m, problem, data, warm_start: \u001b[38;5;28mbool\u001b[39m \u001b[38;5;241m=\u001b[39m \u001b[38;5;28;01mFalse\u001b[39;00m, verbose: \u001b[38;5;28mbool\u001b[39m \u001b[38;5;241m=\u001b[39m \u001b[38;5;28;01mFalse\u001b[39;00m,\n\u001b[1;32m    308\u001b[0m                    solver_opts\u001b[38;5;241m=\u001b[39m{}):\n\u001b[1;32m    309\u001b[0m     \u001b[38;5;124;03m\"\"\"Solves the problem using the data output by the an apply invocation.\u001b[39;00m\n\u001b[1;32m    310\u001b[0m \n\u001b[1;32m    311\u001b[0m \u001b[38;5;124;03m    The semantics are:\u001b[39;00m\n\u001b[0;32m   (...)\u001b[0m\n\u001b[1;32m    341\u001b[0m \u001b[38;5;124;03m        a Solution object.\u001b[39;00m\n\u001b[1;32m    342\u001b[0m \u001b[38;5;124;03m    \"\"\"\u001b[39;00m\n\u001b[0;32m--> 343\u001b[0m     \u001b[38;5;28;01mreturn\u001b[39;00m \u001b[38;5;28;43mself\u001b[39;49m\u001b[38;5;241;43m.\u001b[39;49m\u001b[43msolver\u001b[49m\u001b[38;5;241;43m.\u001b[39;49m\u001b[43msolve_via_data\u001b[49m\u001b[43m(\u001b[49m\u001b[43mdata\u001b[49m\u001b[43m,\u001b[49m\u001b[43m \u001b[49m\u001b[43mwarm_start\u001b[49m\u001b[43m,\u001b[49m\u001b[43m \u001b[49m\u001b[43mverbose\u001b[49m\u001b[43m,\u001b[49m\n\u001b[1;32m    344\u001b[0m \u001b[43m                                      \u001b[49m\u001b[43msolver_opts\u001b[49m\u001b[43m,\u001b[49m\u001b[43m \u001b[49m\u001b[43mproblem\u001b[49m\u001b[38;5;241;43m.\u001b[39;49m\u001b[43m_solver_cache\u001b[49m\u001b[43m)\u001b[49m\n",
      "File \u001b[0;32m/usr/local/lib/python3.9/site-packages/cvxpy/reductions/solvers/conic_solvers/mosek_conif.py:238\u001b[0m, in \u001b[0;36mMOSEK.solve_via_data\u001b[0;34m(self, data, warm_start, verbose, solver_opts, solver_cache)\u001b[0m\n\u001b[1;32m    236\u001b[0m \u001b[38;5;28;01mif\u001b[39;00m save_file:\n\u001b[1;32m    237\u001b[0m     task\u001b[38;5;241m.\u001b[39mwritedata(save_file)\n\u001b[0;32m--> 238\u001b[0m \u001b[43mtask\u001b[49m\u001b[38;5;241;43m.\u001b[39;49m\u001b[43moptimize\u001b[49m\u001b[43m(\u001b[49m\u001b[43m)\u001b[49m\n\u001b[1;32m    240\u001b[0m \u001b[38;5;28;01mif\u001b[39;00m verbose:\n\u001b[1;32m    241\u001b[0m     task\u001b[38;5;241m.\u001b[39msolutionsummary(mosek\u001b[38;5;241m.\u001b[39mstreamtype\u001b[38;5;241m.\u001b[39mmsg)\n",
      "File \u001b[0;32m/usr/local/lib/python3.9/site-packages/mosek/__init__.py:10777\u001b[0m, in \u001b[0;36mTask.optimize\u001b[0;34m(self, *args, **kwds)\u001b[0m\n\u001b[1;32m  10770\u001b[0m \u001b[38;5;28;01mdef\u001b[39;00m \u001b[38;5;21moptimize\u001b[39m(\u001b[38;5;28mself\u001b[39m,\u001b[38;5;241m*\u001b[39margs,\u001b[38;5;241m*\u001b[39m\u001b[38;5;241m*\u001b[39mkwds):\n\u001b[1;32m  10771\u001b[0m   \u001b[38;5;124;03m\"\"\"\u001b[39;00m\n\u001b[1;32m  10772\u001b[0m \u001b[38;5;124;03m  Optimizes the problem.\u001b[39;00m\n\u001b[1;32m  10773\u001b[0m \u001b[38;5;124;03m\u001b[39;00m\n\u001b[1;32m  10774\u001b[0m \u001b[38;5;124;03m  optimize() -> (trmcode)\u001b[39;00m\n\u001b[1;32m  10775\u001b[0m \u001b[38;5;124;03m    [trmcode : mosek.rescode]  Is either OK or a termination response code.  \u001b[39;00m\n\u001b[1;32m  10776\u001b[0m \u001b[38;5;124;03m  \"\"\"\u001b[39;00m\n\u001b[0;32m> 10777\u001b[0m   \u001b[38;5;28;01mreturn\u001b[39;00m \u001b[38;5;28;43mself\u001b[39;49m\u001b[38;5;241;43m.\u001b[39;49m\u001b[43m__optimizetrm__1\u001b[49m\u001b[43m(\u001b[49m\u001b[38;5;241;43m*\u001b[39;49m\u001b[43margs\u001b[49m\u001b[43m,\u001b[49m\u001b[38;5;241;43m*\u001b[39;49m\u001b[38;5;241;43m*\u001b[39;49m\u001b[43mkwds\u001b[49m\u001b[43m)\u001b[49m\n",
      "File \u001b[0;32m/usr/local/lib/python3.9/site-packages/mosek/__init__.py:10763\u001b[0m, in \u001b[0;36mTask.__optimizetrm__1\u001b[0;34m(self)\u001b[0m\n\u001b[1;32m  10762\u001b[0m \u001b[38;5;28;01mdef\u001b[39;00m \u001b[38;5;21m__optimizetrm__1\u001b[39m(\u001b[38;5;28mself\u001b[39m):\n\u001b[0;32m> 10763\u001b[0m   _res_optimizetrm,_retargs_optimizetrm \u001b[38;5;241m=\u001b[39m \u001b[38;5;28;43mself\u001b[39;49m\u001b[38;5;241;43m.\u001b[39;49m\u001b[43m__obj\u001b[49m\u001b[38;5;241;43m.\u001b[39;49m\u001b[43moptimizetrm__1\u001b[49m\u001b[43m(\u001b[49m\u001b[43m)\u001b[49m\n\u001b[1;32m  10764\u001b[0m   \u001b[38;5;28;01mif\u001b[39;00m _res_optimizetrm \u001b[38;5;241m!=\u001b[39m \u001b[38;5;241m0\u001b[39m:\n\u001b[1;32m  10765\u001b[0m     _,_msg_optimizetrm \u001b[38;5;241m=\u001b[39m \u001b[38;5;28mself\u001b[39m\u001b[38;5;241m.\u001b[39m__getlasterror(_res_optimizetrm)\n",
      "\u001b[0;31mKeyboardInterrupt\u001b[0m: "
     ]
    }
   ],
   "source": [
    "group_data = pd.DataFrame()\n",
    "for i in range(25):\n",
    "    x_train, x_calib, y_train, y_calib = train_test_split(X_ny, Y_ny, test_size=3000)\n",
    "\n",
    "    reg = LinearRegression().fit(x_train, y_train)\n",
    "    scores = np.array(np.abs(reg.predict(x_calib) - y_calib))\n",
    "\n",
    "    x_calib = pd.DataFrame.to_numpy(x_calib)\n",
    "\n",
    "    calibration_set_size = 1500  \n",
    "    x_calib_final, x_test, scores_calib, scores_test =  train_test_split(x_calib, scores,\n",
    "                                                            test_size=len(scores) - calibration_set_size)\n",
    "    x_calib_cont = x_calib_final[:,:2]\n",
    "    x_calib_cat = x_calib_final[:,2:]\n",
    "\n",
    "    x_test_cont = x_test[:,:2]\n",
    "    x_test_cat = x_test[:,2:]\n",
    "    adaptive_coverages = compute_group_coverages(\n",
    "        x_calib_cat, scores_calib, scores_test, x_test_cat, x_test_cat, alpha\n",
    "    )\n",
    "    split_coverages = compute_split_coverages(scores_calib,scores_test,x_test_cat,alpha)\n",
    "    df = pd.DataFrame({'group' : list(adaptive_coverages.keys()) +  list(split_coverages.keys()),\n",
    "                        'coverage': list(adaptive_coverages.values()) + list(split_coverages.values()), \n",
    "                        'type' : ['robust']*len(adaptive_coverages) + ['split']*len(split_coverages)\n",
    "                        })\n",
    "    group_data = pd.concat([group_data, df], axis=0)\n"
   ]
  },
  {
   "cell_type": "code",
   "execution_count": null,
   "metadata": {},
   "outputs": [],
   "source": [
    "group_data_drop = group_data[np.logical_not(np.isnan(group_data['coverage']))].copy()\n",
    "\n",
    "sns.set(rc={'figure.figsize':(11.7,8.27)})\n",
    "\n",
    "fig = sns.barplot(group_data_drop, \n",
    "            x=\"group\", y=\"coverage\", hue=\"type\", errorbar=('ci', 95))\n",
    "fig.axhline(alpha, color='red')\n",
    "plt.legend(bbox_to_anchor=(1.02, 1), loc='upper left', borderaxespad=0)\n",
    "plt.tight_layout()"
   ]
  },
  {
   "cell_type": "markdown",
   "metadata": {},
   "source": [
    "### Run Full Experiment Multiple Times"
   ]
  },
  {
   "cell_type": "code",
   "execution_count": null,
   "metadata": {},
   "outputs": [
    {
     "name": "stderr",
     "output_type": "stream",
     "text": [
      "/var/folders/03/1mcjgjk12rv51t4kkk97lq5r0000gn/T/ipykernel_37806/1856564329.py:75: FutureWarning: The behavior of `series[i:j]` with an integer-dtype index is deprecated. In a future version, this will be treated as *label-based* indexing, consistent with e.g. `series[i]` lookups. To retain the old behavior, use `series.iloc[i:j]`. To get the future behavior, use `series.loc[i:j]`.\n",
      "  df_group, df_state_shift = run_one_synthetic_experiment(X_ny, Y_ny, X_ca_mod[0:num_target,:], Y_ca[0:num_target],\n",
      "/usr/local/lib/python3.9/site-packages/sklearn/base.py:409: UserWarning: X does not have valid feature names, but LinearRegression was fitted with feature names\n",
      "  warnings.warn(\n"
     ]
    },
    {
     "name": "stdout",
     "output_type": "stream",
     "text": [
      "Trial number 0\n"
     ]
    },
    {
     "name": "stderr",
     "output_type": "stream",
     "text": [
      "100%|████████████████████████████████████████| 20/20 [00:55<00:00,  2.78s/it]\n",
      "100%|██████████████████████████████████████| 200/200 [03:46<00:00,  1.13s/it]\n",
      "100%|████████████████████████████████████████| 20/20 [01:52<00:00,  5.62s/it]\n"
     ]
    },
    {
     "name": "stdout",
     "output_type": "stream",
     "text": [
      "[-0.50044043 -0.52218653 -0.54145323 -0.55861117 -0.5739582  -0.58773055\n",
      " -0.60012598 -0.61130626 -0.62140635 -0.63055265 -0.63880019 -0.64627053\n",
      " -0.65301928 -0.65910631 -0.66458322 -0.6694943  -0.67387905 -0.67777137\n",
      " -0.6812014  -0.68419652]\n",
      "Selected Radius For Density Fit: 10.0\n"
     ]
    },
    {
     "name": "stderr",
     "output_type": "stream",
     "text": [
      "100%|██████████████████████████████████████| 200/200 [04:10<00:00,  1.25s/it]\n",
      "/var/folders/03/1mcjgjk12rv51t4kkk97lq5r0000gn/T/ipykernel_37806/1856564329.py:75: FutureWarning: The behavior of `series[i:j]` with an integer-dtype index is deprecated. In a future version, this will be treated as *label-based* indexing, consistent with e.g. `series[i]` lookups. To retain the old behavior, use `series.iloc[i:j]`. To get the future behavior, use `series.loc[i:j]`.\n",
      "  df_group, df_state_shift = run_one_synthetic_experiment(X_ny, Y_ny, X_ca_mod[0:num_target,:], Y_ca[0:num_target],\n",
      "/usr/local/lib/python3.9/site-packages/sklearn/base.py:409: UserWarning: X does not have valid feature names, but LinearRegression was fitted with feature names\n",
      "  warnings.warn(\n"
     ]
    },
    {
     "name": "stdout",
     "output_type": "stream",
     "text": [
      "Trial number 1\n"
     ]
    },
    {
     "name": "stderr",
     "output_type": "stream",
     "text": [
      "100%|████████████████████████████████████████| 20/20 [00:56<00:00,  2.84s/it]\n",
      "100%|██████████████████████████████████████| 200/200 [03:45<00:00,  1.13s/it]\n",
      "100%|████████████████████████████████████████| 20/20 [01:56<00:00,  5.85s/it]\n"
     ]
    },
    {
     "name": "stdout",
     "output_type": "stream",
     "text": [
      "[-0.50047989 -0.52413794 -0.54503063 -0.56357746 -0.58010421 -0.5948818\n",
      " -0.60812583 -0.62001998 -0.63071287 -0.64033061 -0.64897921 -0.65674851\n",
      " -0.66371616 -0.66994827 -0.67550262 -0.68042811 -0.68476927 -0.68856436\n",
      " -0.69184594 -0.69465454]\n",
      "Selected Radius For Density Fit: 10.0\n"
     ]
    },
    {
     "name": "stderr",
     "output_type": "stream",
     "text": [
      "100%|██████████████████████████████████████| 200/200 [04:12<00:00,  1.26s/it]\n",
      "/var/folders/03/1mcjgjk12rv51t4kkk97lq5r0000gn/T/ipykernel_37806/1856564329.py:75: FutureWarning: The behavior of `series[i:j]` with an integer-dtype index is deprecated. In a future version, this will be treated as *label-based* indexing, consistent with e.g. `series[i]` lookups. To retain the old behavior, use `series.iloc[i:j]`. To get the future behavior, use `series.loc[i:j]`.\n",
      "  df_group, df_state_shift = run_one_synthetic_experiment(X_ny, Y_ny, X_ca_mod[0:num_target,:], Y_ca[0:num_target],\n",
      "/usr/local/lib/python3.9/site-packages/sklearn/base.py:409: UserWarning: X does not have valid feature names, but LinearRegression was fitted with feature names\n",
      "  warnings.warn(\n"
     ]
    },
    {
     "name": "stdout",
     "output_type": "stream",
     "text": [
      "Trial number 2\n"
     ]
    },
    {
     "name": "stderr",
     "output_type": "stream",
     "text": [
      "100%|████████████████████████████████████████| 20/20 [01:00<00:00,  3.02s/it]\n",
      "100%|██████████████████████████████████████| 200/200 [03:44<00:00,  1.12s/it]\n",
      "100%|████████████████████████████████████████| 20/20 [01:57<00:00,  5.88s/it]\n"
     ]
    },
    {
     "name": "stdout",
     "output_type": "stream",
     "text": [
      "[-0.50039398 -0.51975062 -0.53672612 -0.55176953 -0.56512264 -0.57704922\n",
      " -0.58774913 -0.59740193 -0.60608481 -0.61396618 -0.6211205  -0.62762767\n",
      " -0.63355286 -0.63897155 -0.64388528 -0.64838499 -0.65249195 -0.65623826\n",
      " -0.65965472 -0.66276412]\n",
      "Selected Radius For Density Fit: 10.0\n"
     ]
    },
    {
     "name": "stderr",
     "output_type": "stream",
     "text": [
      " 76%|████████████████████████████▋         | 151/200 [02:55<00:55,  1.14s/it]"
     ]
    }
   ],
   "source": [
    "def run_one_synthetic_experiment(X_base, Y_base, X_target, Y_target,\n",
    "                                 num_calib, num_test, gamma, alpha, k, min_radius, max_radius, num_radii,\n",
    "                                min_radius_density_shift, max_radius_density_shift):\n",
    "    \n",
    "    x_calib_cont, x_calib_cat, x_test_cont, x_test_cat, scores_calib, scores_test, reg = make_train_test_split(\n",
    "                                                                                                    X_base,Y_base,\n",
    "                                                                                                    num_calib,\n",
    "                                                                                                    num_test)\n",
    "    scores_target = np.array(np.abs(reg.predict(X_target) - Y_target))\n",
    "    x_target_cont = X_target[:,:2]\n",
    "    x_target_cat = X_target[:,2:]\n",
    "\n",
    "\n",
    "    adaptive_coverages_test, split_coverages_test, radius = compute_adaptive_and_split_coverage(x_calib_cont,\n",
    "                                                                          x_calib_cat,\n",
    "                                                                          x_test_cont,x_test_cat,\n",
    "                                                                          scores_calib,scores_test,\n",
    "                                                                          gamma, alpha, k,\n",
    "                                                                          min_radius, max_radius,\n",
    "                                                                          num_radii\n",
    "                                                                          )\n",
    "    ### Get group coverage\n",
    "    group_data = pd.DataFrame()\n",
    "\n",
    "    for i in range(x_test_cat.shape[1]):\n",
    "        if sum(x_test_cat[:,i]) > 0:\n",
    "            group_cov_adaptive = (x_test_cat[:,i] @ adaptive_coverages_test)/sum(x_test_cat[:,i])\n",
    "            group_split_adaptive = (x_test_cat[:,i] @ split_coverages_test)/sum(x_test_cat[:,i])\n",
    "    \n",
    "            df = pd.DataFrame({'group' : [X_base.columns[i+2],X_base.columns[i+2]],\n",
    "                            'coverage': [group_cov_adaptive,group_split_adaptive], \n",
    "                            'type' : ['robust','split'],\n",
    "                            'sample_size' : [sum(x_test_cat[:,i]),sum(x_test_cat[:,i])]\n",
    "                          })\n",
    "\n",
    "            group_data = pd.concat([group_data, df], axis=0)\n",
    "            \n",
    "            \n",
    "    ### Compare shift in POVPIP + Age for two states\n",
    "    est_cov = compute_coverage_under_density_shift(x_calib_cont,scores_calib,x_target_cont,\n",
    "                                                   \"rbf\",gamma,alpha,radius,\n",
    "                                                   k, min_radius_density_shift, max_radius_density_shift, num_radii)\n",
    "    adaptive_coverages_target, split_coverages_target, _ = compute_adaptive_and_split_coverage(x_calib_cont,\n",
    "                                                                          x_calib_cat,\n",
    "                                                                          x_target_cont[0:num_test,:],\n",
    "                                                                          x_target_cat[0:num_test,:],\n",
    "                                                                          scores_calib,scores_target[0:num_test],\n",
    "                                                                          gamma, alpha, radius = radius\n",
    "                                                                          )\n",
    "    state_shift_df = pd.DataFrame({'coverage': [sum(adaptive_coverages_target),sum(split_coverages_target),est_cov], \n",
    "                            'type' : ['robust','split','estimated'],\n",
    "                          })\n",
    "    \n",
    "    return group_data, state_shift_df\n",
    "\n",
    "gamma = 0.5\n",
    "alpha = 0.9\n",
    "k = 5\n",
    "min_radius = 1\n",
    "max_radius = 2000\n",
    "num_radii = 20\n",
    "num_calib = 1000\n",
    "num_test = 200\n",
    "num_target = 1000\n",
    "min_radius_density_shift = 0.01\n",
    "max_radius_density_shift = 100\n",
    "                                 \n",
    "n_trials = 15\n",
    "\n",
    "X_ca_mod = pd.DataFrame.to_numpy(X_ca)\n",
    "group_data = pd.DataFrame()\n",
    "state_shift_data = pd.DataFrame()\n",
    "for i in range(n_trials):\n",
    "    print(\"Trial number\",i)\n",
    "    df_group, df_state_shift = run_one_synthetic_experiment(X_ny, Y_ny, X_ca_mod[0:num_target,:], Y_ca[0:num_target],\n",
    "                                                            num_calib, num_test, gamma, alpha, k, min_radius,\n",
    "                                                            max_radius, num_radii, min_radius_density_shift, \n",
    "                                                            max_radius_density_shift)\n",
    "    group_data = pd.concat([group_data, df_group], axis=0)\n",
    "    state_shift_data = pd.concat([state_shift_data,df_state_shift], axis=0)\n"
   ]
  },
  {
   "cell_type": "code",
   "execution_count": 82,
   "metadata": {},
   "outputs": [
    {
     "data": {
      "image/png": "[encoded data removed]",
      "text/plain": [
       "<Figure size 842.4x595.44 with 1 Axes>"
      ]
     },
     "metadata": {},
     "output_type": "display_data"
    }
   ],
   "source": [
    "sns.set(rc={'figure.figsize':(11.7,8.27)})\n",
    "\n",
    "fig_group = sns.barplot(group_data, \n",
    "            x=\"group\", y=\"coverage\", hue=\"type\")\n",
    "fig_group.axhline(alpha, color='red')\n",
    "plt.legend(bbox_to_anchor=(1.02, 1), loc='upper left', borderaxespad=0)\n",
    "plt.tight_layout()"
   ]
  },
  {
   "cell_type": "code",
   "execution_count": 50,
   "metadata": {},
   "outputs": [
    {
     "data": {
      "image/png": "[encoded data removed]",
      "text/plain": [
       "<Figure size 842.4x595.44 with 1 Axes>"
      ]
     },
     "metadata": {},
     "output_type": "display_data"
    }
   ],
   "source": [
    "fig_group = sns.barplot(state_shift_data, \n",
    "            x=\"type\", y=\"coverage\")\n",
    "fig_group.axhline(alpha, color='red')\n",
    "plt.tight_layout()"
   ]
  },
  {
   "cell_type": "code",
   "execution_count": null,
   "metadata": {},
   "outputs": [],
   "source": []
  }
 ],
 "metadata": {
  "kernelspec": {
   "display_name": "Python 3 (ipykernel)",
   "language": "python",
   "name": "python3"
  },
  "language_info": {
   "codemirror_mode": {
    "name": "ipython",
    "version": 3
   },
   "file_extension": ".py",
   "mimetype": "text/x-python",
   "name": "python",
   "nbconvert_exporter": "python",
   "pygments_lexer": "ipython3",
   "version": "3.9.5"
  }
 },
 "nbformat": 4,
 "nbformat_minor": 4
}
