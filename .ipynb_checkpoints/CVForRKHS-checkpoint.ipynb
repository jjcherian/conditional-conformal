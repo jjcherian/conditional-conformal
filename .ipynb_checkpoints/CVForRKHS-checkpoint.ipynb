{
 "cells": [
  {
   "cell_type": "code",
   "execution_count": 2,
   "metadata": {},
   "outputs": [],
   "source": [
    "%load_ext autoreload\n",
    "%autoreload 2"
   ]
  },
  {
   "cell_type": "code",
   "execution_count": 3,
   "metadata": {},
   "outputs": [],
   "source": [
    "import pandas as pd\n",
    "import numpy as np\n",
    "import matplotlib.pyplot as plt\n",
    "import seaborn as sns\n",
    "\n",
    "from sklearn.linear_model import LinearRegression\n",
    "from sklearn.model_selection import train_test_split\n",
    "from sklearn.metrics.pairwise import rbf_kernel, pairwise_kernels"
   ]
  },
  {
   "cell_type": "code",
   "execution_count": 4,
   "metadata": {},
   "outputs": [],
   "source": [
    "from rkhs import compute_shifted_coverage, compute_adaptive_threshold\n",
    "from Synthetic_data_generation import generate_cqr_data\n",
    "from rkhs import runCV"
   ]
  },
  {
   "cell_type": "code",
   "execution_count": 15,
   "metadata": {},
   "outputs": [
    {
     "name": "stderr",
     "output_type": "stream",
     "text": [
      "100%|███████████████████████████████████████████| 20/20 [00:12<00:00,  1.61it/s]\n"
     ]
    },
    {
     "data": {
      "image/png": "[encoded data removed]",
      "text/plain": [
       "<Figure size 432x288 with 1 Axes>"
      ]
     },
     "metadata": {
      "needs_background": "light"
     },
     "output_type": "display_data"
    },
    {
     "name": "stderr",
     "output_type": "stream",
     "text": [
      "100%|███████████████████████████████████████████| 40/40 [00:08<00:00,  4.51it/s]\n",
      "100%|███████████████████████████████████████████| 40/40 [00:24<00:00,  1.60it/s]\n",
      "100%|███████████████████████████████████████████| 40/40 [01:06<00:00,  1.66s/it]\n",
      "100%|███████████████████████████████████████████| 40/40 [01:51<00:00,  2.79s/it]\n",
      "100%|███████████████████████████████████████████| 40/40 [04:56<00:00,  7.42s/it]\n",
      "100%|███████████████████████████████████████████| 40/40 [09:26<00:00, 14.16s/it]\n"
     ]
    },
    {
     "data": {
      "image/png": "[encoded data removed]",
      "text/plain": [
       "<Figure size 432x288 with 1 Axes>"
      ]
     },
     "metadata": {
      "needs_background": "light"
     },
     "output_type": "display_data"
    }
   ],
   "source": [
    "def run_one_cv_trial(alpha, gamma, k = 5, n_train=[1000],\n",
    "                     num_lamb=30,min_lamb=0.0001, max_lamb=1):    \n",
    "    \n",
    "    x_train_final, y_train_final, x_calib, y_calib, _, _ = generate_cqr_data(n_train = 2*max(n_train),\n",
    "                                                                             n_test = 2)\n",
    "    reg = LinearRegression().fit(x_train_final, y_train_final)\n",
    "    scores_calib = np.abs(reg.predict(x_calib) - y_calib)\n",
    "    \n",
    "    lossList = []\n",
    "    lambdaList = []\n",
    "    bestLamb = []\n",
    "    for i in range(len(n_train)):\n",
    "        allLosses, lambdas = runCV(x_calib[0:n_train[i],:],scores_calib[0:n_train[i]],\n",
    "                                   \"rbf\",gamma,alpha,k,num_lamb=num_lamb,\n",
    "                                   min_lamb = min_lamb,max_lamb=max_lamb)\n",
    "        lossList.append(allLosses)\n",
    "        lambdaList.append(lambdas)\n",
    "        bestLamb.append(lambdas[np.argmin(allLosses)])\n",
    "    return lossList, lambdaList, bestLamb\n",
    "\n",
    "alpha = 0.9\n",
    "gamma = 2\n",
    "allLosses, lambdas, bestLamb = run_one_cv_trial(alpha, gamma, k = 5,\n",
    "                                                n_train=[500],num_lamb=20,\n",
    "                                                min_lamb=0.0001,max_lamb=0.05)\n",
    "plt.plot(lambdas,allLosses)\n",
    "plt.show()\n",
    "\n",
    "minLamb = []\n",
    "lossList = []\n",
    "lossList, lambdaList, minLamb = run_one_cv_trial(alpha, gamma, k = 5,\n",
    "                                          n_train=[250,500,750,1000,1500,2000],\n",
    "                                          num_lamb=40,min_lamb=0.0001,max_lamb=0.1)\n",
    "\n",
    "plt.plot([500,1000,1500,2000,3000,4000],minLamb)\n",
    "plt.show()\n"
   ]
  },
  {
   "cell_type": "code",
   "execution_count": 19,
   "metadata": {},
   "outputs": [
    {
     "data": {
      "text/plain": [
       "[0.005223076923076923,\n",
       " 0.0026615384615384613,\n",
       " 0.0026615384615384613,\n",
       " 0.0001,\n",
       " 0.09231538461538462,\n",
       " 0.08463076923076923]"
      ]
     },
     "execution_count": 19,
     "metadata": {},
     "output_type": "execute_result"
    }
   ],
   "source": []
  },
  {
   "cell_type": "code",
   "execution_count": 21,
   "metadata": {},
   "outputs": [
    {
     "name": "stderr",
     "output_type": "stream",
     "text": [
      "100%|███████████████████████████████████████████| 20/20 [00:12<00:00,  1.60it/s]\n"
     ]
    },
    {
     "ename": "ValueError",
     "evalue": "not enough values to unpack (expected 3, got 2)",
     "output_type": "error",
     "traceback": [
      "\u001b[0;31m---------------------------------------------------------------------------\u001b[0m",
      "\u001b[0;31mValueError\u001b[0m                                Traceback (most recent call last)",
      "Input \u001b[0;32mIn [21]\u001b[0m, in \u001b[0;36m<module>\u001b[0;34m\u001b[0m\n\u001b[1;32m     44\u001b[0m emp_coverages \u001b[38;5;241m=\u001b[39m []\n\u001b[1;32m     45\u001b[0m \u001b[38;5;28;01mfor\u001b[39;00m i \u001b[38;5;129;01min\u001b[39;00m \u001b[38;5;28mrange\u001b[39m(n_trials):\n\u001b[1;32m     46\u001b[0m     \u001b[38;5;66;03m#try:\u001b[39;00m\n\u001b[0;32m---> 47\u001b[0m     est_cov, emp_cov \u001b[38;5;241m=\u001b[39m \u001b[43mrun_cv_synthetic_trial\u001b[49m\u001b[43m(\u001b[49m\u001b[43mreg\u001b[49m\u001b[43m,\u001b[49m\u001b[43m \u001b[49m\u001b[43malpha\u001b[49m\u001b[43m,\u001b[49m\u001b[43m \u001b[49m\u001b[43mgamma\u001b[49m\u001b[43m,\u001b[49m\u001b[43m \u001b[49m\u001b[43mn_test\u001b[49m\u001b[43m,\u001b[49m\u001b[43m \u001b[49m\u001b[43mshift_loc\u001b[49m\u001b[43m,\u001b[49m\u001b[43m \u001b[49m\u001b[43mk\u001b[49m\u001b[43m \u001b[49m\u001b[38;5;241;43m=\u001b[39;49m\u001b[43m \u001b[49m\u001b[38;5;241;43m5\u001b[39;49m\u001b[43m,\u001b[49m\n\u001b[1;32m     48\u001b[0m \u001b[43m                    \u001b[49m\u001b[43mnum_lamb\u001b[49m\u001b[38;5;241;43m=\u001b[39;49m\u001b[43mnum_lamb\u001b[49m\u001b[43m,\u001b[49m\u001b[43mmin_lamb\u001b[49m\u001b[38;5;241;43m=\u001b[39;49m\u001b[43mmin_lamb\u001b[49m\u001b[43m,\u001b[49m\u001b[43m \u001b[49m\u001b[43mmax_lamb\u001b[49m\u001b[38;5;241;43m=\u001b[39;49m\u001b[43mmax_lamb\u001b[49m\u001b[43m,\u001b[49m\u001b[43mn_train\u001b[49m\u001b[38;5;241;43m=\u001b[39;49m\u001b[43mn_train\u001b[49m\u001b[43m)\u001b[49m\n\u001b[1;32m     49\u001b[0m     est_coverages\u001b[38;5;241m.\u001b[39mappend(est_cov)\n\u001b[1;32m     50\u001b[0m     emp_coverages\u001b[38;5;241m.\u001b[39mappend(emp_cov)\n",
      "Input \u001b[0;32mIn [21]\u001b[0m, in \u001b[0;36mrun_cv_synthetic_trial\u001b[0;34m(reg, alpha, gamma, n_test, shift_loc, k, num_lamb, min_lamb, max_lamb, n_train)\u001b[0m\n\u001b[1;32m      9\u001b[0m scores_calib \u001b[38;5;241m=\u001b[39m np\u001b[38;5;241m.\u001b[39mabs(reg\u001b[38;5;241m.\u001b[39mpredict(x_calib) \u001b[38;5;241m-\u001b[39m y_calib)\n\u001b[1;32m     10\u001b[0m scores_test \u001b[38;5;241m=\u001b[39m np\u001b[38;5;241m.\u001b[39mabs(reg\u001b[38;5;241m.\u001b[39mpredict(x_test) \u001b[38;5;241m-\u001b[39m y_test)\n\u001b[0;32m---> 12\u001b[0m allLosses, lambdas, bestLamb \u001b[38;5;241m=\u001b[39m runCV(x_calib,scores_calib,\u001b[38;5;124m\"\u001b[39m\u001b[38;5;124mrbf\u001b[39m\u001b[38;5;124m\"\u001b[39m,gamma,alpha,k,\n\u001b[1;32m     13\u001b[0m                            num_lamb\u001b[38;5;241m=\u001b[39mnum_lamb,min_lamb \u001b[38;5;241m=\u001b[39m min_lamb,max_lamb\u001b[38;5;241m=\u001b[39m\u001b[38;5;241m0.01\u001b[39m)\n\u001b[1;32m     14\u001b[0m \u001b[38;5;28mprint\u001b[39m(bestLamb)\n\u001b[1;32m     16\u001b[0m est_coverage, weighted_coverage, thresholds \u001b[38;5;241m=\u001b[39m compute_shifted_coverage(\n\u001b[1;32m     17\u001b[0m     scores_test,\n\u001b[1;32m     18\u001b[0m     scores_calib,\n\u001b[0;32m   (...)\u001b[0m\n\u001b[1;32m     25\u001b[0m     gamma\u001b[38;5;241m=\u001b[39mgamma\n\u001b[1;32m     26\u001b[0m )\n",
      "\u001b[0;31mValueError\u001b[0m: not enough values to unpack (expected 3, got 2)"
     ]
    }
   ],
   "source": [
    "x_train_final, y_train_final, x_calib, y_calib, x_test, y_test = generate_cqr_data()\n",
    "\n",
    "reg = LinearRegression().fit(x_train_final, y_train_final)\n",
    "\n",
    "def run_cv_synthetic_trial(reg, alpha, gamma, n_test, shift_loc, k = 5,\n",
    "                        num_lamb=20,min_lamb=0.0001, max_lamb=0.1,n_train=2000):\n",
    "    _, _, x_calib, y_calib, x_test, y_test = generate_cqr_data(n_train=n_train,n_test=n_test)\n",
    "\n",
    "    scores_calib = np.abs(reg.predict(x_calib) - y_calib)\n",
    "    scores_test = np.abs(reg.predict(x_test) - y_test)\n",
    "    \n",
    "    allLosses, lambdas = runCV(x_calib,scores_calib,\"rbf\",gamma,alpha,k,\n",
    "                               num_lamb=num_lamb,min_lamb = min_lamb,max_lamb=0.01)\n",
    "    lamb = lambdas[np.argmin(allLosses)]\n",
    "    print(lamb)\n",
    "        \n",
    "    est_coverage, weighted_coverage, thresholds = compute_shifted_coverage(\n",
    "        scores_test,\n",
    "        scores_calib,\n",
    "        x_calib,\n",
    "        x_test[0:n_test,],\n",
    "        shift_loc,\n",
    "        kernel=\"rbf\",\n",
    "        alpha=alpha,\n",
    "        radius=1/lamb,\n",
    "        gamma=gamma\n",
    "    )\n",
    "    \n",
    "    return est_coverage, weighted_coverage\n",
    "\n",
    "n_trials = 10\n",
    "alpha = 0.9\n",
    "n_test = 100\n",
    "n_train = 1000\n",
    "gamma = 2\n",
    "num_lamb=20\n",
    "min_lamb=0.00001\n",
    "max_lamb=0.1\n",
    "shift_locs = [3.5, 4.5] #[0.5, 1.4, 2.5, 3.5, 4.5]\n",
    "\n",
    "df = pd.DataFrame()\n",
    "\n",
    "for shift_loc in shift_locs:\n",
    "    est_coverages = []\n",
    "    emp_coverages = []\n",
    "    for i in range(n_trials):\n",
    "        #try:\n",
    "        est_cov, emp_cov = run_cv_synthetic_trial(reg, alpha, gamma, n_test, shift_loc, k = 5,\n",
    "                        num_lamb=num_lamb,min_lamb=min_lamb, max_lamb=max_lamb,n_train=n_train)\n",
    "        est_coverages.append(est_cov)\n",
    "        emp_coverages.append(emp_cov)\n",
    "        print(f\"Trial {i}: {est_cov}, {emp_cov}\")\n",
    "        #except SolverError:\n",
    "        #    continue\n",
    "    a_df = pd.DataFrame({'empirical coverage' : emp_coverages, 'estimated coverage': est_coverages})\n",
    "    a_df['shift_loc'] = shift_loc\n",
    "    df = pd.concat([df, a_df], axis=0)\n",
    "\n",
    "print(df)"
   ]
  },
  {
   "cell_type": "code",
   "execution_count": null,
   "metadata": {},
   "outputs": [],
   "source": [
    "import seaborn as sns\n",
    "import pandas as pd\n",
    "\n",
    "melted_df = pd.melt(df, id_vars=['shift_loc'], value_vars=['empirical coverage', 'estimated coverage'])\n",
    "melted_df = melted_df.rename(columns={\"shift_loc\": \"Shift Location\", \"value\": \"Coverage\"})\n",
    "\n",
    "fig = sns.barplot(\n",
    "    melted_df, \n",
    "    x='Shift Location', \n",
    "    y='Coverage',\n",
    "    hue='variable',\n",
    "    palette=sns.color_palette(\"Set2\")\n",
    ")\n",
    "fig.axhline(alpha, color='red')\n",
    "plt.legend(bbox_to_anchor=(1.02, 1), loc='upper left', borderaxespad=0)\n",
    "plt.tight_layout()\n",
    "\n",
    "fig.get_figure().savefig('synthetic_rkhs_coverage.png')\n"
   ]
  }
 ],
 "metadata": {
  "kernelspec": {
   "display_name": "Python 3 (ipykernel)",
   "language": "python",
   "name": "python3"
  },
  "language_info": {
   "codemirror_mode": {
    "name": "ipython",
    "version": 3
   },
   "file_extension": ".py",
   "mimetype": "text/x-python",
   "name": "python",
   "nbconvert_exporter": "python",
   "pygments_lexer": "ipython3",
   "version": "3.9.5"
  }
 },
 "nbformat": 4,
 "nbformat_minor": 4
}
