{
 "cells": [
  {
   "cell_type": "code",
   "execution_count": 2,
   "metadata": {},
   "outputs": [],
   "source": [
    "%load_ext autoreload\n",
    "%autoreload 2"
   ]
  },
  {
   "cell_type": "code",
   "execution_count": 3,
   "metadata": {},
   "outputs": [],
   "source": [
    "import pandas as pd\n",
    "import numpy as np\n",
    "import matplotlib.pyplot as plt\n",
    "import seaborn as sns\n",
    "\n",
    "from sklearn.linear_model import LinearRegression\n",
    "from sklearn.model_selection import train_test_split\n",
    "from sklearn.metrics.pairwise import rbf_kernel, pairwise_kernels"
   ]
  },
  {
   "cell_type": "code",
   "execution_count": 4,
   "metadata": {},
   "outputs": [],
   "source": [
    "from rkhs import compute_shifted_coverage, compute_adaptive_threshold\n",
    "from Synthetic_data_generation import generate_cqr_data\n",
    "from rkhs import runCV"
   ]
  },
  {
   "cell_type": "code",
   "execution_count": 15,
   "metadata": {},
   "outputs": [
    {
     "name": "stderr",
     "output_type": "stream",
     "text": [
      "100%|███████████████████████████████████████████| 20/20 [00:12<00:00,  1.61it/s]\n"
     ]
    },
    {
     "data": {
      "image/png": "[encoded data removed]",
      "text/plain": [
       "<Figure size 432x288 with 1 Axes>"
      ]
     },
     "metadata": {
      "needs_background": "light"
     },
     "output_type": "display_data"
    },
    {
     "name": "stderr",
     "output_type": "stream",
     "text": [
      "100%|███████████████████████████████████████████| 40/40 [00:08<00:00,  4.51it/s]\n",
      "100%|███████████████████████████████████████████| 40/40 [00:24<00:00,  1.60it/s]\n",
      "100%|███████████████████████████████████████████| 40/40 [01:06<00:00,  1.66s/it]\n",
      "100%|███████████████████████████████████████████| 40/40 [01:51<00:00,  2.79s/it]\n",
      "100%|███████████████████████████████████████████| 40/40 [04:56<00:00,  7.42s/it]\n",
      "100%|███████████████████████████████████████████| 40/40 [09:26<00:00, 14.16s/it]\n"
     ]
    },
    {
     "data": {
      "image/png": "[encoded data removed]",
      "text/plain": [
       "<Figure size 432x288 with 1 Axes>"
      ]
     },
     "metadata": {
      "needs_background": "light"
     },
     "output_type": "display_data"
    }
   ],
   "source": [
    "def run_one_cv_trial(alpha, gamma, k = 5, n_train=[1000],\n",
    "                     num_lamb=30,min_lamb=0.0001, max_lamb=1):    \n",
    "    \n",
    "    x_train_final, y_train_final, x_calib, y_calib, _, _ = generate_cqr_data(n_train = 2*max(n_train),\n",
    "                                                                             n_test = 2)\n",
    "    reg = LinearRegression().fit(x_train_final, y_train_final)\n",
    "    scores_calib = np.abs(reg.predict(x_calib) - y_calib)\n",
    "    \n",
    "    lossList = []\n",
    "    lambdaList = []\n",
    "    bestLamb = []\n",
    "    for i in range(len(n_train)):\n",
    "        allLosses, lambdas = runCV(x_calib[0:n_train[i],:],scores_calib[0:n_train[i]],\n",
    "                                   \"rbf\",gamma,alpha,k,num_lamb=num_lamb,\n",
    "                                   min_lamb = min_lamb,max_lamb=max_lamb)\n",
    "        lossList.append(allLosses)\n",
    "        lambdaList.append(lambdas)\n",
    "        bestLamb.append(lambdas[np.argmin(allLosses)])\n",
    "    return lossList, lambdaList, bestLamb\n",
    "\n",
    "alpha = 0.9\n",
    "gamma = 2\n",
    "allLosses, lambdas, bestLamb = run_one_cv_trial(alpha, gamma, k = 5,\n",
    "                                                n_train=[500],num_lamb=20,\n",
    "                                                min_lamb=0.0001,max_lamb=0.05)\n",
    "plt.plot(lambdas,allLosses)\n",
    "plt.show()\n",
    "\n",
    "minLamb = []\n",
    "lossList = []\n",
    "lossList, lambdaList, minLamb = run_one_cv_trial(alpha, gamma, k = 5,\n",
    "                                          n_train=[250,500,750,1000,1500,2000],\n",
    "                                          num_lamb=40,min_lamb=0.0001,max_lamb=0.1)\n",
    "\n",
    "plt.plot([500,1000,1500,2000,3000,4000],minLamb)\n",
    "plt.show()\n"
   ]
  },
  {
   "cell_type": "code",
   "execution_count": 19,
   "metadata": {},
   "outputs": [
    {
     "data": {
      "text/plain": [
       "[0.005223076923076923,\n",
       " 0.0026615384615384613,\n",
       " 0.0026615384615384613,\n",
       " 0.0001,\n",
       " 0.09231538461538462,\n",
       " 0.08463076923076923]"
      ]
     },
     "execution_count": 19,
     "metadata": {},
     "output_type": "execute_result"
    }
   ],
   "source": []
  },
  {
   "cell_type": "code",
   "execution_count": 22,
   "metadata": {},
   "outputs": [
    {
     "name": "stderr",
     "output_type": "stream",
     "text": [
      "100%|███████████████████████████████████████████| 20/20 [00:54<00:00,  2.72s/it]\n"
     ]
    },
    {
     "name": "stdout",
     "output_type": "stream",
     "text": [
      "0.0015873684210526318\n"
     ]
    },
    {
     "name": "stderr",
     "output_type": "stream",
     "text": [
      "100%|█████████████████████████████████████████| 100/100 [01:33<00:00,  1.07it/s]\n"
     ]
    },
    {
     "name": "stdout",
     "output_type": "stream",
     "text": [
      "Trial 0: 0.902106934908486, 0.9443955721052258\n"
     ]
    },
    {
     "name": "stderr",
     "output_type": "stream",
     "text": [
      "100%|███████████████████████████████████████████| 20/20 [00:55<00:00,  2.75s/it]\n"
     ]
    },
    {
     "name": "stdout",
     "output_type": "stream",
     "text": [
      "0.0005357894736842106\n"
     ]
    },
    {
     "name": "stderr",
     "output_type": "stream",
     "text": [
      "100%|█████████████████████████████████████████| 100/100 [01:32<00:00,  1.08it/s]\n"
     ]
    },
    {
     "name": "stdout",
     "output_type": "stream",
     "text": [
      "Trial 1: 0.900973407218894, 0.8813559319272743\n"
     ]
    },
    {
     "name": "stderr",
     "output_type": "stream",
     "text": [
      "100%|███████████████████████████████████████████| 20/20 [00:49<00:00,  2.48s/it]\n"
     ]
    },
    {
     "name": "stdout",
     "output_type": "stream",
     "text": [
      "0.004742105263157895\n"
     ]
    },
    {
     "name": "stderr",
     "output_type": "stream",
     "text": [
      "100%|█████████████████████████████████████████| 100/100 [01:23<00:00,  1.20it/s]\n"
     ]
    },
    {
     "name": "stdout",
     "output_type": "stream",
     "text": [
      "Trial 2: 0.9053556233820341, 0.8443798981241896\n"
     ]
    },
    {
     "name": "stderr",
     "output_type": "stream",
     "text": [
      "100%|███████████████████████████████████████████| 20/20 [00:50<00:00,  2.54s/it]\n"
     ]
    },
    {
     "name": "stdout",
     "output_type": "stream",
     "text": [
      "0.0005357894736842106\n"
     ]
    },
    {
     "name": "stderr",
     "output_type": "stream",
     "text": [
      "100%|█████████████████████████████████████████| 100/100 [01:33<00:00,  1.07it/s]\n"
     ]
    },
    {
     "name": "stdout",
     "output_type": "stream",
     "text": [
      "Trial 3: 0.9008699798622236, 0.8525258711820891\n"
     ]
    },
    {
     "name": "stderr",
     "output_type": "stream",
     "text": [
      "100%|███████████████████████████████████████████| 20/20 [00:54<00:00,  2.75s/it]\n"
     ]
    },
    {
     "name": "stdout",
     "output_type": "stream",
     "text": [
      "0.0015873684210526318\n"
     ]
    },
    {
     "name": "stderr",
     "output_type": "stream",
     "text": [
      "100%|█████████████████████████████████████████| 100/100 [01:28<00:00,  1.13it/s]\n"
     ]
    },
    {
     "name": "stdout",
     "output_type": "stream",
     "text": [
      "Trial 4: 0.9024694596360929, 0.9110903152625264\n"
     ]
    },
    {
     "name": "stderr",
     "output_type": "stream",
     "text": [
      "100%|███████████████████████████████████████████| 20/20 [00:49<00:00,  2.49s/it]\n"
     ]
    },
    {
     "name": "stdout",
     "output_type": "stream",
     "text": [
      "0.0005357894736842106\n"
     ]
    },
    {
     "name": "stderr",
     "output_type": "stream",
     "text": [
      "100%|█████████████████████████████████████████| 100/100 [01:22<00:00,  1.22it/s]\n"
     ]
    },
    {
     "name": "stdout",
     "output_type": "stream",
     "text": [
      "Trial 5: 0.9003716789354872, 0.8461709235981342\n"
     ]
    },
    {
     "name": "stderr",
     "output_type": "stream",
     "text": [
      "100%|███████████████████████████████████████████| 20/20 [00:55<00:00,  2.75s/it]\n"
     ]
    },
    {
     "name": "stdout",
     "output_type": "stream",
     "text": [
      "0.0021131578947368424\n"
     ]
    },
    {
     "name": "stderr",
     "output_type": "stream",
     "text": [
      "100%|█████████████████████████████████████████| 100/100 [01:33<00:00,  1.07it/s]\n"
     ]
    },
    {
     "name": "stdout",
     "output_type": "stream",
     "text": [
      "Trial 6: 0.9042685150553731, 0.8643209326616639\n"
     ]
    },
    {
     "name": "stderr",
     "output_type": "stream",
     "text": [
      "100%|███████████████████████████████████████████| 20/20 [00:48<00:00,  2.41s/it]\n"
     ]
    },
    {
     "name": "stdout",
     "output_type": "stream",
     "text": [
      "0.0005357894736842106\n"
     ]
    },
    {
     "name": "stderr",
     "output_type": "stream",
     "text": [
      "100%|█████████████████████████████████████████| 100/100 [43:14<00:00, 25.95s/it]\n"
     ]
    },
    {
     "name": "stdout",
     "output_type": "stream",
     "text": [
      "Trial 7: 0.9005990409179102, 0.8846343378923356\n"
     ]
    },
    {
     "name": "stderr",
     "output_type": "stream",
     "text": [
      "100%|███████████████████████████████████████████| 20/20 [00:47<00:00,  2.37s/it]\n"
     ]
    },
    {
     "name": "stdout",
     "output_type": "stream",
     "text": [
      "0.0015873684210526318\n"
     ]
    },
    {
     "name": "stderr",
     "output_type": "stream",
     "text": [
      "100%|█████████████████████████████████████████| 100/100 [01:08<00:00,  1.47it/s]\n"
     ]
    },
    {
     "name": "stdout",
     "output_type": "stream",
     "text": [
      "Trial 8: 0.9024933143608295, 0.8073922970842413\n"
     ]
    },
    {
     "name": "stderr",
     "output_type": "stream",
     "text": [
      "100%|███████████████████████████████████████████| 20/20 [00:46<00:00,  2.32s/it]\n"
     ]
    },
    {
     "name": "stdout",
     "output_type": "stream",
     "text": [
      "0.0010615789473684212\n"
     ]
    },
    {
     "name": "stderr",
     "output_type": "stream",
     "text": [
      "100%|█████████████████████████████████████████| 100/100 [01:16<00:00,  1.30it/s]\n"
     ]
    },
    {
     "name": "stdout",
     "output_type": "stream",
     "text": [
      "Trial 9: 0.9013840177627819, 0.9667117096471239\n"
     ]
    },
    {
     "name": "stderr",
     "output_type": "stream",
     "text": [
      "100%|███████████████████████████████████████████| 20/20 [00:54<00:00,  2.73s/it]\n"
     ]
    },
    {
     "name": "stdout",
     "output_type": "stream",
     "text": [
      "0.0010615789473684212\n"
     ]
    },
    {
     "name": "stderr",
     "output_type": "stream",
     "text": [
      "100%|█████████████████████████████████████████| 100/100 [01:30<00:00,  1.10it/s]\n"
     ]
    },
    {
     "name": "stdout",
     "output_type": "stream",
     "text": [
      "Trial 0: 0.8984181298474032, 0.8741862794643804\n"
     ]
    },
    {
     "name": "stderr",
     "output_type": "stream",
     "text": [
      "100%|███████████████████████████████████████████| 20/20 [00:49<00:00,  2.50s/it]\n"
     ]
    },
    {
     "name": "stdout",
     "output_type": "stream",
     "text": [
      "0.0005357894736842106\n"
     ]
    },
    {
     "name": "stderr",
     "output_type": "stream",
     "text": [
      "100%|█████████████████████████████████████████| 100/100 [01:17<00:00,  1.29it/s]\n"
     ]
    },
    {
     "name": "stdout",
     "output_type": "stream",
     "text": [
      "Trial 1: 0.8991579604209948, 0.7856856059107726\n"
     ]
    },
    {
     "name": "stderr",
     "output_type": "stream",
     "text": [
      "100%|███████████████████████████████████████████| 20/20 [00:53<00:00,  2.68s/it]\n"
     ]
    },
    {
     "name": "stdout",
     "output_type": "stream",
     "text": [
      "0.0015873684210526318\n"
     ]
    },
    {
     "name": "stderr",
     "output_type": "stream",
     "text": [
      "100%|█████████████████████████████████████████| 100/100 [01:27<00:00,  1.14it/s]\n"
     ]
    },
    {
     "name": "stdout",
     "output_type": "stream",
     "text": [
      "Trial 2: 0.8982936542437518, 0.8689015254849907\n"
     ]
    },
    {
     "name": "stderr",
     "output_type": "stream",
     "text": [
      "100%|███████████████████████████████████████████| 20/20 [00:51<00:00,  2.58s/it]\n"
     ]
    },
    {
     "name": "stdout",
     "output_type": "stream",
     "text": [
      "0.0005357894736842106\n"
     ]
    },
    {
     "name": "stderr",
     "output_type": "stream",
     "text": [
      "100%|█████████████████████████████████████████| 100/100 [01:29<00:00,  1.11it/s]\n"
     ]
    },
    {
     "name": "stdout",
     "output_type": "stream",
     "text": [
      "Trial 3: 0.8986078859094547, 0.8427074200738903\n"
     ]
    },
    {
     "name": "stderr",
     "output_type": "stream",
     "text": [
      "100%|███████████████████████████████████████████| 20/20 [00:45<00:00,  2.27s/it]\n"
     ]
    },
    {
     "name": "stdout",
     "output_type": "stream",
     "text": [
      "0.007371052631578948\n"
     ]
    },
    {
     "name": "stderr",
     "output_type": "stream",
     "text": [
      "100%|█████████████████████████████████████████| 100/100 [01:24<00:00,  1.19it/s]\n"
     ]
    },
    {
     "name": "stdout",
     "output_type": "stream",
     "text": [
      "Trial 4: 0.8703627153716236, 0.8995836283819656\n"
     ]
    },
    {
     "name": "stderr",
     "output_type": "stream",
     "text": [
      "100%|███████████████████████████████████████████| 20/20 [00:47<00:00,  2.36s/it]\n"
     ]
    },
    {
     "name": "stdout",
     "output_type": "stream",
     "text": [
      "0.005267894736842105\n"
     ]
    },
    {
     "name": "stderr",
     "output_type": "stream",
     "text": [
      "100%|█████████████████████████████████████████| 100/100 [01:16<00:00,  1.31it/s]\n"
     ]
    },
    {
     "name": "stdout",
     "output_type": "stream",
     "text": [
      "Trial 5: 0.8875241244090811, 0.8958875995736183\n"
     ]
    },
    {
     "name": "stderr",
     "output_type": "stream",
     "text": [
      "100%|███████████████████████████████████████████| 20/20 [00:53<00:00,  2.70s/it]\n"
     ]
    },
    {
     "name": "stdout",
     "output_type": "stream",
     "text": [
      "0.0005357894736842106\n"
     ]
    },
    {
     "name": "stderr",
     "output_type": "stream",
     "text": [
      "100%|█████████████████████████████████████████| 100/100 [01:33<00:00,  1.07it/s]\n"
     ]
    },
    {
     "name": "stdout",
     "output_type": "stream",
     "text": [
      "Trial 6: 0.8987458419616605, 0.8720758258969614\n"
     ]
    },
    {
     "name": "stderr",
     "output_type": "stream",
     "text": [
      "100%|███████████████████████████████████████████| 20/20 [00:48<00:00,  2.41s/it]\n"
     ]
    },
    {
     "name": "stdout",
     "output_type": "stream",
     "text": [
      "0.01\n"
     ]
    },
    {
     "name": "stderr",
     "output_type": "stream",
     "text": [
      "100%|█████████████████████████████████████████| 100/100 [01:29<00:00,  1.11it/s]\n"
     ]
    },
    {
     "name": "stdout",
     "output_type": "stream",
     "text": [
      "Trial 7: 0.8728938788734242, 0.9657224614009288\n"
     ]
    },
    {
     "name": "stderr",
     "output_type": "stream",
     "text": [
      "100%|███████████████████████████████████████████| 20/20 [00:56<00:00,  2.84s/it]\n"
     ]
    },
    {
     "name": "stdout",
     "output_type": "stream",
     "text": [
      "0.0036905263157894744\n"
     ]
    },
    {
     "name": "stderr",
     "output_type": "stream",
     "text": [
      "100%|█████████████████████████████████████████| 100/100 [01:31<00:00,  1.09it/s]\n"
     ]
    },
    {
     "name": "stdout",
     "output_type": "stream",
     "text": [
      "Trial 8: 0.8831913762942242, 0.9906401320375507\n"
     ]
    },
    {
     "name": "stderr",
     "output_type": "stream",
     "text": [
      "100%|███████████████████████████████████████████| 20/20 [00:47<00:00,  2.39s/it]\n"
     ]
    },
    {
     "name": "stdout",
     "output_type": "stream",
     "text": [
      "0.0005357894736842106\n"
     ]
    },
    {
     "name": "stderr",
     "output_type": "stream",
     "text": [
      "100%|█████████████████████████████████████████| 100/100 [01:08<00:00,  1.47it/s]"
     ]
    },
    {
     "name": "stdout",
     "output_type": "stream",
     "text": [
      "Trial 9: 0.8986369033210068, 0.9999999813871331\n",
      "   empirical coverage  estimated coverage  shift_loc\n",
      "0            0.944396            0.902107        3.5\n",
      "1            0.881356            0.900973        3.5\n",
      "2            0.844380            0.905356        3.5\n",
      "3            0.852526            0.900870        3.5\n",
      "4            0.911090            0.902469        3.5\n",
      "5            0.846171            0.900372        3.5\n",
      "6            0.864321            0.904269        3.5\n",
      "7            0.884634            0.900599        3.5\n",
      "8            0.807392            0.902493        3.5\n",
      "9            0.966712            0.901384        3.5\n",
      "0            0.874186            0.898418        4.5\n",
      "1            0.785686            0.899158        4.5\n",
      "2            0.868902            0.898294        4.5\n",
      "3            0.842707            0.898608        4.5\n",
      "4            0.899584            0.870363        4.5\n",
      "5            0.895888            0.887524        4.5\n",
      "6            0.872076            0.898746        4.5\n",
      "7            0.965722            0.872894        4.5\n",
      "8            0.990640            0.883191        4.5\n",
      "9            1.000000            0.898637        4.5\n"
     ]
    },
    {
     "name": "stderr",
     "output_type": "stream",
     "text": [
      "\n"
     ]
    }
   ],
   "source": [
    "x_train_final, y_train_final, x_calib, y_calib, x_test, y_test = generate_cqr_data()\n",
    "\n",
    "reg = LinearRegression().fit(x_train_final, y_train_final)\n",
    "\n",
    "def run_cv_synthetic_trial(reg, alpha, gamma, n_test, shift_loc, k = 5,\n",
    "                        num_lamb=20,min_lamb=0.0001, max_lamb=0.1,n_train=2000):\n",
    "    _, _, x_calib, y_calib, x_test, y_test = generate_cqr_data(n_train=n_train,n_test=n_test)\n",
    "\n",
    "    scores_calib = np.abs(reg.predict(x_calib) - y_calib)\n",
    "    scores_test = np.abs(reg.predict(x_test) - y_test)\n",
    "    \n",
    "    allLosses, lambdas = runCV(x_calib,scores_calib,\"rbf\",gamma,alpha,k,\n",
    "                               num_lamb=num_lamb,min_lamb = min_lamb,max_lamb=0.01)\n",
    "    lamb = lambdas[np.argmin(allLosses)]\n",
    "    print(lamb)\n",
    "        \n",
    "    est_coverage, weighted_coverage, thresholds = compute_shifted_coverage(\n",
    "        scores_test,\n",
    "        scores_calib,\n",
    "        x_calib,\n",
    "        x_test[0:n_test,],\n",
    "        shift_loc,\n",
    "        kernel=\"rbf\",\n",
    "        alpha=alpha,\n",
    "        radius=1/lamb,\n",
    "        gamma=gamma\n",
    "    )\n",
    "    \n",
    "    return est_coverage, weighted_coverage\n",
    "\n",
    "n_trials = 10\n",
    "alpha = 0.9\n",
    "n_test = 100\n",
    "n_train = 2000\n",
    "gamma = 2\n",
    "num_lamb=20\n",
    "min_lamb=0.00001\n",
    "max_lamb=0.1\n",
    "shift_locs = [3.5, 4.5] #[0.5, 1.4, 2.5, 3.5, 4.5]\n",
    "\n",
    "df = pd.DataFrame()\n",
    "\n",
    "for shift_loc in shift_locs:\n",
    "    est_coverages = []\n",
    "    emp_coverages = []\n",
    "    for i in range(n_trials):\n",
    "        #try:\n",
    "        est_cov, emp_cov = run_cv_synthetic_trial(reg, alpha, gamma, n_test, shift_loc, k = 5,\n",
    "                        num_lamb=num_lamb,min_lamb=min_lamb, max_lamb=max_lamb,n_train=n_train)\n",
    "        est_coverages.append(est_cov)\n",
    "        emp_coverages.append(emp_cov)\n",
    "        print(f\"Trial {i}: {est_cov}, {emp_cov}\")\n",
    "        #except SolverError:\n",
    "        #    continue\n",
    "    a_df = pd.DataFrame({'empirical coverage' : emp_coverages, 'estimated coverage': est_coverages})\n",
    "    a_df['shift_loc'] = shift_loc\n",
    "    df = pd.concat([df, a_df], axis=0)\n",
    "\n",
    "print(df)"
   ]
  },
  {
   "cell_type": "code",
   "execution_count": 23,
   "metadata": {},
   "outputs": [
    {
     "data": {
      "image/png": "[encoded data removed]",
      "text/plain": [
       "<Figure size 432x288 with 1 Axes>"
      ]
     },
     "metadata": {
      "needs_background": "light"
     },
     "output_type": "display_data"
    }
   ],
   "source": [
    "import seaborn as sns\n",
    "import pandas as pd\n",
    "\n",
    "melted_df = pd.melt(df, id_vars=['shift_loc'], value_vars=['empirical coverage', 'estimated coverage'])\n",
    "melted_df = melted_df.rename(columns={\"shift_loc\": \"Shift Location\", \"value\": \"Coverage\"})\n",
    "\n",
    "fig = sns.barplot(\n",
    "    melted_df, \n",
    "    x='Shift Location', \n",
    "    y='Coverage',\n",
    "    hue='variable',\n",
    "    palette=sns.color_palette(\"Set2\")\n",
    ")\n",
    "fig.axhline(alpha, color='red')\n",
    "plt.legend(bbox_to_anchor=(1.02, 1), loc='upper left', borderaxespad=0)\n",
    "plt.tight_layout()\n",
    "\n",
    "fig.get_figure().savefig('synthetic_rkhs_coverage.png')\n"
   ]
  }
 ],
 "metadata": {
  "kernelspec": {
   "display_name": "Python 3 (ipykernel)",
   "language": "python",
   "name": "python3"
  },
  "language_info": {
   "codemirror_mode": {
    "name": "ipython",
    "version": 3
   },
   "file_extension": ".py",
   "mimetype": "text/x-python",
   "name": "python",
   "nbconvert_exporter": "python",
   "pygments_lexer": "ipython3",
   "version": "3.9.5"
  }
 },
 "nbformat": 4,
 "nbformat_minor": 4
}
