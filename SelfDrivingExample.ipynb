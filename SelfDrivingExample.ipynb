{
 "cells": [
  {
   "cell_type": "code",
   "execution_count": 2,
   "metadata": {},
   "outputs": [
    {
     "ename": "SyntaxError",
     "evalue": "invalid syntax (3252418979.py, line 1)",
     "output_type": "error",
     "traceback": [
      "\u001b[0;36m  Input \u001b[0;32mIn [2]\u001b[0;36m\u001b[0m\n\u001b[0;31m    python /Users/isaacgibbs/Documents/ConformalGans/Code/shift-dev/download.py --view  \"[front]\" \\   # list of view abbreviation to download\u001b[0m\n\u001b[0m                                                                                        ^\u001b[0m\n\u001b[0;31mSyntaxError\u001b[0m\u001b[0;31m:\u001b[0m invalid syntax\n"
     ]
    }
   ],
   "source": [
    "python /Users/isaacgibbs/Documents/ConformalGans/Code/shift-dev/download.py --view  \"[front]\" \\\n",
    "                   --group \"[det_2d]\" \\         \n",
    "                   --split \"[train\" \\     \n",
    "                   --framerate \"[images]\" \\  \n",
    "                   --shift \"discrete\" \\# type of domain shifts. Options: discrete, continuous/1x, continuous/10x, continuous/100x \n",
    "                   dataset_root                      \n"
   ]
  }
 ],
 "metadata": {
  "kernelspec": {
   "display_name": "Python 3 (ipykernel)",
   "language": "python",
   "name": "python3"
  },
  "language_info": {
   "codemirror_mode": {
    "name": "ipython",
    "version": 3
   },
   "file_extension": ".py",
   "mimetype": "text/x-python",
   "name": "python",
   "nbconvert_exporter": "python",
   "pygments_lexer": "ipython3",
   "version": "3.9.5"
  }
 },
 "nbformat": 4,
 "nbformat_minor": 4
}
