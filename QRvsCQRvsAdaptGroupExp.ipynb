{
 "cells": [
  {
   "cell_type": "code",
   "execution_count": 119,
   "metadata": {},
   "outputs": [
    {
     "name": "stdout",
     "output_type": "stream",
     "text": [
      "The autoreload extension is already loaded. To reload it, use:\n",
      "  %reload_ext autoreload\n"
     ]
    }
   ],
   "source": [
    "import pandas as pd \n",
    "import numpy as np\n",
    "import matplotlib.pyplot as plt\n",
    "import math\n",
    "\n",
    "from sklearn.linear_model import LinearRegression\n",
    "from sklearn.model_selection import train_test_split\n",
    "\n",
    "%load_ext autoreload\n",
    "%autoreload 2"
   ]
  },
  {
   "cell_type": "code",
   "execution_count": 120,
   "metadata": {},
   "outputs": [],
   "source": [
    "from group import compute_group_coverages, compute_split_coverages, compute_qr_coverages, compute_cqr_coverages\n",
    "from Synthetic_data_generation import get_groups, generate_group_synthetic_data\n",
    "from group import compute_group_coverages, compute_split_coverages\n"
   ]
  },
  {
   "cell_type": "code",
   "execution_count": 121,
   "metadata": {},
   "outputs": [],
   "source": [
    "def run_group_synthetic_trial(n, x_std, y_std, d, std_dev_list, theta, n_test, n_cal, n_groups, alpha, exact=True):\n",
    "    x_train_final, y_train_final, x_calib, y_calib, x_test, y_test = generate_group_synthetic_data(\n",
    "        n, x_std, y_std, d, std_dev_list, theta, n_test, n_cal, n_groups\n",
    "    )\n",
    "\n",
    "    groups_train = get_groups(x_train_final[:,0:n_groups])\n",
    "    groups_calib = get_groups(x_calib[:,0:n_groups])\n",
    "    groups_test = get_groups(x_test[:,0:n_groups])\n",
    "    \n",
    "    groups_train_joined = np.vstack([groups_train,groups_calib])\n",
    "    y_train_joined = np.concatenate((y_train_final,y_calib))\n",
    "    \n",
    "    adaptive_coverages = compute_group_coverages(\n",
    "        groups_train_joined, y_train_joined, y_test, groups_test, groups_test[0:n_test], alpha, exact = exact\n",
    "    )\n",
    "    \n",
    "    qr_coverages = compute_qr_coverages(\n",
    "        groups_train_joined, groups_test, y_train_joined, y_test, alpha\n",
    "    )\n",
    "\n",
    "    cqr_coverages = compute_cqr_coverages(\n",
    "        groups_train, groups_calib, groups_test, y_train_final, y_calib, y_test, alpha\n",
    "    )\n",
    "\n",
    "    adapt_cover = pd.Series(adaptive_coverages)\n",
    "    qr_cover = pd.Series(qr_coverages)\n",
    "    cqr_cover = pd.Series(cqr_coverages)\n",
    "\n",
    "    df = pd.concat([adapt_cover, qr_cover, cqr_cover], keys=[\"adaptive\", \"qr\", \"cqr\"], axis=1).reset_index()\n",
    "    return df\n"
   ]
  },
  {
   "cell_type": "code",
   "execution_count": 127,
   "metadata": {},
   "outputs": [
    {
     "name": "stderr",
     "output_type": "stream",
     "text": [
      "100%|█████████████████████████████████████████| 100/100 [00:01<00:00, 73.95it/s]\n",
      "100%|█████████████████████████████████████████| 100/100 [00:01<00:00, 75.66it/s]\n",
      "100%|█████████████████████████████████████████| 100/100 [00:01<00:00, 75.55it/s]\n",
      "100%|█████████████████████████████████████████| 100/100 [00:01<00:00, 76.38it/s]\n",
      "100%|█████████████████████████████████████████| 100/100 [00:01<00:00, 75.99it/s]\n",
      "100%|█████████████████████████████████████████| 100/100 [00:01<00:00, 62.60it/s]\n",
      "100%|█████████████████████████████████████████| 100/100 [00:01<00:00, 73.49it/s]\n",
      "100%|█████████████████████████████████████████| 100/100 [00:01<00:00, 73.88it/s]\n",
      "100%|█████████████████████████████████████████| 100/100 [00:01<00:00, 75.94it/s]\n",
      "100%|█████████████████████████████████████████| 100/100 [00:01<00:00, 75.46it/s]\n",
      "100%|█████████████████████████████████████████| 100/100 [00:01<00:00, 73.31it/s]\n",
      "100%|█████████████████████████████████████████| 100/100 [00:01<00:00, 74.05it/s]\n",
      "100%|█████████████████████████████████████████| 100/100 [00:01<00:00, 74.19it/s]\n",
      "100%|█████████████████████████████████████████| 100/100 [00:01<00:00, 72.37it/s]\n",
      "100%|█████████████████████████████████████████| 100/100 [00:01<00:00, 75.71it/s]\n",
      "100%|█████████████████████████████████████████| 100/100 [00:01<00:00, 74.96it/s]\n",
      "100%|█████████████████████████████████████████| 100/100 [00:01<00:00, 75.42it/s]\n",
      "100%|█████████████████████████████████████████| 100/100 [00:01<00:00, 76.14it/s]\n",
      "100%|█████████████████████████████████████████| 100/100 [00:01<00:00, 75.73it/s]\n",
      "100%|█████████████████████████████████████████| 100/100 [00:01<00:00, 75.94it/s]\n",
      "100%|█████████████████████████████████████████| 100/100 [00:01<00:00, 75.99it/s]\n",
      "100%|█████████████████████████████████████████| 100/100 [00:01<00:00, 74.36it/s]\n",
      "100%|█████████████████████████████████████████| 100/100 [00:01<00:00, 74.25it/s]\n",
      "100%|█████████████████████████████████████████| 100/100 [00:01<00:00, 74.24it/s]\n",
      "100%|█████████████████████████████████████████| 100/100 [00:01<00:00, 74.59it/s]\n",
      "100%|█████████████████████████████████████████| 100/100 [00:01<00:00, 72.63it/s]\n",
      "100%|█████████████████████████████████████████| 100/100 [00:01<00:00, 75.90it/s]\n",
      "100%|█████████████████████████████████████████| 100/100 [00:01<00:00, 76.17it/s]\n",
      "100%|█████████████████████████████████████████| 100/100 [00:01<00:00, 72.92it/s]\n",
      "100%|█████████████████████████████████████████| 100/100 [00:01<00:00, 75.69it/s]\n",
      "100%|█████████████████████████████████████████| 100/100 [00:01<00:00, 75.85it/s]\n",
      "100%|█████████████████████████████████████████| 100/100 [00:01<00:00, 74.18it/s]\n",
      "100%|█████████████████████████████████████████| 100/100 [00:01<00:00, 70.18it/s]\n",
      "100%|█████████████████████████████████████████| 100/100 [00:01<00:00, 63.78it/s]\n",
      "100%|█████████████████████████████████████████| 100/100 [00:01<00:00, 70.98it/s]\n",
      "100%|█████████████████████████████████████████| 100/100 [00:01<00:00, 76.39it/s]\n",
      "100%|█████████████████████████████████████████| 100/100 [00:01<00:00, 76.29it/s]\n",
      "100%|█████████████████████████████████████████| 100/100 [00:01<00:00, 73.99it/s]\n",
      "100%|█████████████████████████████████████████| 100/100 [00:01<00:00, 73.16it/s]\n",
      "100%|█████████████████████████████████████████| 100/100 [00:01<00:00, 74.40it/s]\n",
      "100%|█████████████████████████████████████████| 100/100 [00:01<00:00, 73.43it/s]\n",
      "100%|█████████████████████████████████████████| 100/100 [00:01<00:00, 74.66it/s]\n",
      "100%|█████████████████████████████████████████| 100/100 [00:01<00:00, 75.87it/s]\n",
      "100%|█████████████████████████████████████████| 100/100 [00:01<00:00, 76.80it/s]\n",
      "100%|█████████████████████████████████████████| 100/100 [00:01<00:00, 76.12it/s]\n",
      "100%|█████████████████████████████████████████| 100/100 [00:01<00:00, 74.26it/s]\n",
      "100%|█████████████████████████████████████████| 100/100 [00:01<00:00, 74.28it/s]\n",
      "100%|█████████████████████████████████████████| 100/100 [00:01<00:00, 75.04it/s]\n",
      "100%|█████████████████████████████████████████| 100/100 [00:01<00:00, 76.31it/s]\n",
      "100%|█████████████████████████████████████████| 100/100 [00:01<00:00, 76.11it/s]\n",
      "100%|█████████████████████████████████████████| 100/100 [00:01<00:00, 75.15it/s]\n",
      "100%|█████████████████████████████████████████| 100/100 [00:01<00:00, 74.13it/s]\n",
      "100%|█████████████████████████████████████████| 100/100 [00:01<00:00, 72.24it/s]\n",
      "100%|█████████████████████████████████████████| 100/100 [00:01<00:00, 73.19it/s]\n",
      "100%|█████████████████████████████████████████| 100/100 [00:01<00:00, 75.22it/s]\n",
      "100%|█████████████████████████████████████████| 100/100 [00:01<00:00, 76.13it/s]\n",
      "100%|█████████████████████████████████████████| 100/100 [00:01<00:00, 73.37it/s]\n",
      "100%|█████████████████████████████████████████| 100/100 [00:01<00:00, 74.98it/s]\n",
      "100%|█████████████████████████████████████████| 100/100 [00:01<00:00, 76.29it/s]\n",
      "100%|█████████████████████████████████████████| 100/100 [00:01<00:00, 75.88it/s]\n",
      "100%|█████████████████████████████████████████| 100/100 [00:01<00:00, 76.18it/s]\n",
      "100%|█████████████████████████████████████████| 100/100 [00:01<00:00, 75.75it/s]\n",
      "100%|█████████████████████████████████████████| 100/100 [00:01<00:00, 75.59it/s]\n",
      "100%|█████████████████████████████████████████| 100/100 [00:01<00:00, 76.00it/s]\n",
      "100%|█████████████████████████████████████████| 100/100 [00:01<00:00, 74.68it/s]\n",
      "100%|█████████████████████████████████████████| 100/100 [00:01<00:00, 74.15it/s]\n",
      "100%|█████████████████████████████████████████| 100/100 [00:01<00:00, 75.67it/s]\n",
      "100%|█████████████████████████████████████████| 100/100 [00:01<00:00, 75.99it/s]\n",
      "100%|█████████████████████████████████████████| 100/100 [00:01<00:00, 75.68it/s]\n",
      "100%|█████████████████████████████████████████| 100/100 [00:01<00:00, 74.46it/s]\n",
      "100%|█████████████████████████████████████████| 100/100 [00:01<00:00, 73.17it/s]\n",
      "100%|█████████████████████████████████████████| 100/100 [00:01<00:00, 73.97it/s]\n",
      "100%|█████████████████████████████████████████| 100/100 [00:01<00:00, 75.41it/s]\n",
      "100%|█████████████████████████████████████████| 100/100 [00:01<00:00, 69.61it/s]\n",
      "100%|█████████████████████████████████████████| 100/100 [00:01<00:00, 60.82it/s]\n",
      "100%|█████████████████████████████████████████| 100/100 [00:01<00:00, 70.41it/s]\n",
      "100%|█████████████████████████████████████████| 100/100 [00:01<00:00, 73.35it/s]\n",
      "100%|█████████████████████████████████████████| 100/100 [00:01<00:00, 75.74it/s]\n",
      "100%|█████████████████████████████████████████| 100/100 [00:01<00:00, 75.74it/s]\n",
      "100%|█████████████████████████████████████████| 100/100 [00:01<00:00, 71.81it/s]\n",
      "100%|█████████████████████████████████████████| 100/100 [00:01<00:00, 67.90it/s]\n",
      "100%|█████████████████████████████████████████| 100/100 [00:01<00:00, 73.99it/s]\n",
      "100%|█████████████████████████████████████████| 100/100 [00:01<00:00, 74.12it/s]\n",
      "100%|█████████████████████████████████████████| 100/100 [00:01<00:00, 74.81it/s]\n",
      "100%|█████████████████████████████████████████| 100/100 [00:01<00:00, 75.07it/s]\n",
      "100%|█████████████████████████████████████████| 100/100 [00:01<00:00, 75.50it/s]\n",
      "100%|█████████████████████████████████████████| 100/100 [00:01<00:00, 75.20it/s]\n",
      "100%|█████████████████████████████████████████| 100/100 [00:01<00:00, 75.52it/s]\n",
      "100%|█████████████████████████████████████████| 100/100 [00:01<00:00, 75.79it/s]\n",
      "100%|█████████████████████████████████████████| 100/100 [00:01<00:00, 73.55it/s]\n",
      "100%|█████████████████████████████████████████| 100/100 [00:01<00:00, 74.15it/s]\n",
      "100%|█████████████████████████████████████████| 100/100 [00:01<00:00, 74.15it/s]\n",
      "100%|█████████████████████████████████████████| 100/100 [00:01<00:00, 74.44it/s]\n",
      "100%|█████████████████████████████████████████| 100/100 [00:01<00:00, 73.10it/s]\n",
      "100%|█████████████████████████████████████████| 100/100 [00:01<00:00, 74.99it/s]\n",
      "100%|█████████████████████████████████████████| 100/100 [00:01<00:00, 73.71it/s]\n",
      "100%|█████████████████████████████████████████| 100/100 [00:01<00:00, 75.19it/s]\n",
      "100%|█████████████████████████████████████████| 100/100 [00:01<00:00, 73.89it/s]\n",
      "100%|█████████████████████████████████████████| 100/100 [00:01<00:00, 73.95it/s]\n",
      "100%|█████████████████████████████████████████| 100/100 [00:01<00:00, 74.81it/s]\n"
     ]
    }
   ],
   "source": [
    "df = pd.DataFrame()\n",
    "ntrials = 100\n",
    "alpha = 0.7\n",
    "n_train = 50\n",
    "n_cal = 50\n",
    "n_test = 100\n",
    "n = n_train + n_cal + n_test\n",
    "\n",
    "# Parameters for data generation \n",
    "x_std = 0.1\n",
    "y_std = 0.25\n",
    "n_groups = 10\n",
    "d = n_groups + 5 # choose d > n_groups\n",
    "\n",
    "std_dev_list = np.array([20,0.01,20,1,5] + [1.0]*5 ) ## must be of length n_groups\n",
    "\n",
    "theta = np.random.normal(loc=np.zeros(d), scale=x_std)\n",
    "for i in range(ntrials):\n",
    "    append_df = run_group_synthetic_trial(n, x_std, y_std, d, std_dev_list, theta, n_test, n_cal, n_groups, alpha=alpha)\n",
    "    append_df['trial'] = i\n",
    "    df = pd.concat([df, append_df])\n"
   ]
  },
  {
   "cell_type": "code",
   "execution_count": 129,
   "metadata": {},
   "outputs": [
    {
     "data": {
      "image/png": "[encoded data removed]",
      "text/plain": [
       "<Figure size 842.4x595.44 with 1 Axes>"
      ]
     },
     "metadata": {},
     "output_type": "display_data"
    }
   ],
   "source": [
    "import seaborn as sns\n",
    "sns.set(rc={'figure.figsize':(11.7,8.27)})\n",
    "\n",
    "melted_df = pd.melt(df, id_vars=[\"index\"], value_vars=[\"adaptive\", \"qr\", \"cqr\"])\n",
    "melted_df = melted_df.rename(columns={\"index\": \"group\", \"value\": \"coverage\"})\n",
    "melted_df = melted_df[melted_df[\"group\"] <=5]\n",
    "\n",
    "fig = sns.barplot(melted_df, \n",
    "            x=\"group\", y=\"coverage\", hue=\"variable\")\n",
    "fig.axhline(alpha,color='red')\n",
    "plt.legend(bbox_to_anchor=(1.02, 1), loc='upper left', borderaxespad=0)\n",
    "plt.tight_layout()"
   ]
  },
  {
   "cell_type": "code",
   "execution_count": 115,
   "metadata": {},
   "outputs": [
    {
     "name": "stdout",
     "output_type": "stream",
     "text": [
      "     group  variable  coverage\n",
      "6       -1  adaptive      0.70\n",
      "13      -1  adaptive      0.58\n",
      "20      -1  adaptive      0.71\n",
      "27      -1  adaptive      0.66\n",
      "34      -1  adaptive      0.63\n",
      "..     ...       ...       ...\n",
      "671     -1  adaptive      0.66\n",
      "678     -1  adaptive      0.67\n",
      "685     -1  adaptive      0.70\n",
      "692     -1  adaptive      0.62\n",
      "699     -1  adaptive      0.69\n",
      "\n",
      "[100 rows x 3 columns]\n"
     ]
    },
    {
     "data": {
      "text/plain": [
       "0.66"
      ]
     },
     "execution_count": 115,
     "metadata": {},
     "output_type": "execute_result"
    },
    {
     "data": {
      "image/png": "[encoded data removed]",
      "text/plain": [
       "<Figure size 842.4x595.44 with 1 Axes>"
      ]
     },
     "metadata": {},
     "output_type": "display_data"
    }
   ],
   "source": [
    "df2 = df[df[\"index\"] <=5]\n",
    "\n",
    "melted_df = pd.melt(df2, id_vars=[\"index\"], value_vars=[\"adaptive\", \"qr\", \"cqr\"])\n",
    "melted_df = melted_df.rename(columns={\"index\": \"group\", \"value\": \"coverage\"})\n",
    "melted_df = melted_df[melted_df[\"group\"] <=5]\n",
    "\n",
    "df3 = melted_df[melted_df[\"group\"] == -1]\n",
    "df3 = df3[df3[\"variable\"] == \"adaptive\"]\n",
    "print(df3)\n",
    "plt.hist(df3[\"coverage\"])\n",
    "np.quantile(df3[\"coverage\"],0.5)"
   ]
  }
 ],
 "metadata": {
  "kernelspec": {
   "display_name": "Python 3 (ipykernel)",
   "language": "python",
   "name": "python3"
  },
  "language_info": {
   "codemirror_mode": {
    "name": "ipython",
    "version": 3
   },
   "file_extension": ".py",
   "mimetype": "text/x-python",
   "name": "python",
   "nbconvert_exporter": "python",
   "pygments_lexer": "ipython3",
   "version": "3.9.5"
  }
 },
 "nbformat": 4,
 "nbformat_minor": 4
}
